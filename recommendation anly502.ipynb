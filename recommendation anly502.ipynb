{
 "cells": [
  {
   "cell_type": "code",
   "execution_count": 95,
   "metadata": {},
   "outputs": [],
   "source": [
    "import pandas as pd\n",
    "import numpy as np\n",
    "import os\n",
    "from datetime import datetime as dt\n",
    "import seaborn as sns\n",
    "import matplotlib.pyplot as plt\n",
    "%matplotlib inline"
   ]
  },
  {
   "cell_type": "markdown",
   "metadata": {},
   "source": [
    "## 1. read data"
   ]
  },
  {
   "cell_type": "markdown",
   "metadata": {},
   "source": [
    "### 1.1 events"
   ]
  },
  {
   "cell_type": "code",
   "execution_count": 54,
   "metadata": {},
   "outputs": [],
   "source": [
    "event = pd.read_csv(\"/Users/bowenlong/Desktop/python recommender system/dataset/events.csv\")"
   ]
  },
  {
   "cell_type": "code",
   "execution_count": 57,
   "metadata": {},
   "outputs": [
    {
     "data": {
      "text/html": [
       "<div>\n",
       "<style scoped>\n",
       "    .dataframe tbody tr th:only-of-type {\n",
       "        vertical-align: middle;\n",
       "    }\n",
       "\n",
       "    .dataframe tbody tr th {\n",
       "        vertical-align: top;\n",
       "    }\n",
       "\n",
       "    .dataframe thead th {\n",
       "        text-align: right;\n",
       "    }\n",
       "</style>\n",
       "<table border=\"1\" class=\"dataframe\">\n",
       "  <thead>\n",
       "    <tr style=\"text-align: right;\">\n",
       "      <th></th>\n",
       "      <th>timestamp</th>\n",
       "      <th>visitorid</th>\n",
       "      <th>event</th>\n",
       "      <th>itemid</th>\n",
       "      <th>transactionid</th>\n",
       "    </tr>\n",
       "  </thead>\n",
       "  <tbody>\n",
       "    <tr>\n",
       "      <th>130</th>\n",
       "      <td>1433222276276</td>\n",
       "      <td>599528</td>\n",
       "      <td>transaction</td>\n",
       "      <td>356475</td>\n",
       "      <td>4000.0</td>\n",
       "    </tr>\n",
       "    <tr>\n",
       "      <th>304</th>\n",
       "      <td>1433193500981</td>\n",
       "      <td>121688</td>\n",
       "      <td>transaction</td>\n",
       "      <td>15335</td>\n",
       "      <td>11117.0</td>\n",
       "    </tr>\n",
       "    <tr>\n",
       "      <th>418</th>\n",
       "      <td>1433193915008</td>\n",
       "      <td>552148</td>\n",
       "      <td>transaction</td>\n",
       "      <td>81345</td>\n",
       "      <td>5444.0</td>\n",
       "    </tr>\n",
       "    <tr>\n",
       "      <th>814</th>\n",
       "      <td>1433176736375</td>\n",
       "      <td>102019</td>\n",
       "      <td>transaction</td>\n",
       "      <td>150318</td>\n",
       "      <td>13556.0</td>\n",
       "    </tr>\n",
       "    <tr>\n",
       "      <th>843</th>\n",
       "      <td>1433174518180</td>\n",
       "      <td>189384</td>\n",
       "      <td>transaction</td>\n",
       "      <td>310791</td>\n",
       "      <td>7244.0</td>\n",
       "    </tr>\n",
       "  </tbody>\n",
       "</table>\n",
       "</div>"
      ],
      "text/plain": [
       "         timestamp  visitorid        event  itemid  transactionid\n",
       "130  1433222276276     599528  transaction  356475         4000.0\n",
       "304  1433193500981     121688  transaction   15335        11117.0\n",
       "418  1433193915008     552148  transaction   81345         5444.0\n",
       "814  1433176736375     102019  transaction  150318        13556.0\n",
       "843  1433174518180     189384  transaction  310791         7244.0"
      ]
     },
     "execution_count": 57,
     "metadata": {},
     "output_type": "execute_result"
    }
   ],
   "source": [
    "event[event.event=='transaction'].head()"
   ]
  },
  {
   "cell_type": "code",
   "execution_count": 56,
   "metadata": {},
   "outputs": [
    {
     "data": {
      "text/html": [
       "<div>\n",
       "<style scoped>\n",
       "    .dataframe tbody tr th:only-of-type {\n",
       "        vertical-align: middle;\n",
       "    }\n",
       "\n",
       "    .dataframe tbody tr th {\n",
       "        vertical-align: top;\n",
       "    }\n",
       "\n",
       "    .dataframe thead th {\n",
       "        text-align: right;\n",
       "    }\n",
       "</style>\n",
       "<table border=\"1\" class=\"dataframe\">\n",
       "  <thead>\n",
       "    <tr style=\"text-align: right;\">\n",
       "      <th></th>\n",
       "      <th>timestamp</th>\n",
       "      <th>visitorid</th>\n",
       "      <th>event</th>\n",
       "      <th>itemid</th>\n",
       "      <th>transactionid</th>\n",
       "    </tr>\n",
       "  </thead>\n",
       "  <tbody>\n",
       "    <tr>\n",
       "      <th>17</th>\n",
       "      <td>1433223236124</td>\n",
       "      <td>287857</td>\n",
       "      <td>addtocart</td>\n",
       "      <td>5206</td>\n",
       "      <td>NaN</td>\n",
       "    </tr>\n",
       "    <tr>\n",
       "      <th>19</th>\n",
       "      <td>1433221078505</td>\n",
       "      <td>158090</td>\n",
       "      <td>addtocart</td>\n",
       "      <td>10572</td>\n",
       "      <td>NaN</td>\n",
       "    </tr>\n",
       "    <tr>\n",
       "      <th>63</th>\n",
       "      <td>1433223543021</td>\n",
       "      <td>1193904</td>\n",
       "      <td>addtocart</td>\n",
       "      <td>255275</td>\n",
       "      <td>NaN</td>\n",
       "    </tr>\n",
       "    <tr>\n",
       "      <th>112</th>\n",
       "      <td>1433221941632</td>\n",
       "      <td>599528</td>\n",
       "      <td>addtocart</td>\n",
       "      <td>356475</td>\n",
       "      <td>NaN</td>\n",
       "    </tr>\n",
       "    <tr>\n",
       "      <th>179</th>\n",
       "      <td>1433220880956</td>\n",
       "      <td>105775</td>\n",
       "      <td>addtocart</td>\n",
       "      <td>312728</td>\n",
       "      <td>NaN</td>\n",
       "    </tr>\n",
       "  </tbody>\n",
       "</table>\n",
       "</div>"
      ],
      "text/plain": [
       "         timestamp  visitorid      event  itemid  transactionid\n",
       "17   1433223236124     287857  addtocart    5206            NaN\n",
       "19   1433221078505     158090  addtocart   10572            NaN\n",
       "63   1433223543021    1193904  addtocart  255275            NaN\n",
       "112  1433221941632     599528  addtocart  356475            NaN\n",
       "179  1433220880956     105775  addtocart  312728            NaN"
      ]
     },
     "execution_count": 56,
     "metadata": {},
     "output_type": "execute_result"
    }
   ],
   "source": [
    "event[event.event=='addtocart'].head()"
   ]
  },
  {
   "cell_type": "code",
   "execution_count": 55,
   "metadata": {},
   "outputs": [
    {
     "data": {
      "text/html": [
       "<div>\n",
       "<style scoped>\n",
       "    .dataframe tbody tr th:only-of-type {\n",
       "        vertical-align: middle;\n",
       "    }\n",
       "\n",
       "    .dataframe tbody tr th {\n",
       "        vertical-align: top;\n",
       "    }\n",
       "\n",
       "    .dataframe thead th {\n",
       "        text-align: right;\n",
       "    }\n",
       "</style>\n",
       "<table border=\"1\" class=\"dataframe\">\n",
       "  <thead>\n",
       "    <tr style=\"text-align: right;\">\n",
       "      <th></th>\n",
       "      <th>timestamp</th>\n",
       "      <th>visitorid</th>\n",
       "      <th>event</th>\n",
       "      <th>itemid</th>\n",
       "      <th>transactionid</th>\n",
       "    </tr>\n",
       "  </thead>\n",
       "  <tbody>\n",
       "    <tr>\n",
       "      <th>0</th>\n",
       "      <td>1433221332117</td>\n",
       "      <td>257597</td>\n",
       "      <td>view</td>\n",
       "      <td>355908</td>\n",
       "      <td>NaN</td>\n",
       "    </tr>\n",
       "    <tr>\n",
       "      <th>1</th>\n",
       "      <td>1433224214164</td>\n",
       "      <td>992329</td>\n",
       "      <td>view</td>\n",
       "      <td>248676</td>\n",
       "      <td>NaN</td>\n",
       "    </tr>\n",
       "    <tr>\n",
       "      <th>2</th>\n",
       "      <td>1433221999827</td>\n",
       "      <td>111016</td>\n",
       "      <td>view</td>\n",
       "      <td>318965</td>\n",
       "      <td>NaN</td>\n",
       "    </tr>\n",
       "    <tr>\n",
       "      <th>3</th>\n",
       "      <td>1433221955914</td>\n",
       "      <td>483717</td>\n",
       "      <td>view</td>\n",
       "      <td>253185</td>\n",
       "      <td>NaN</td>\n",
       "    </tr>\n",
       "    <tr>\n",
       "      <th>4</th>\n",
       "      <td>1433221337106</td>\n",
       "      <td>951259</td>\n",
       "      <td>view</td>\n",
       "      <td>367447</td>\n",
       "      <td>NaN</td>\n",
       "    </tr>\n",
       "  </tbody>\n",
       "</table>\n",
       "</div>"
      ],
      "text/plain": [
       "       timestamp  visitorid event  itemid  transactionid\n",
       "0  1433221332117     257597  view  355908            NaN\n",
       "1  1433224214164     992329  view  248676            NaN\n",
       "2  1433221999827     111016  view  318965            NaN\n",
       "3  1433221955914     483717  view  253185            NaN\n",
       "4  1433221337106     951259  view  367447            NaN"
      ]
     },
     "execution_count": 55,
     "metadata": {},
     "output_type": "execute_result"
    }
   ],
   "source": [
    "event[event.event=='view'].head()"
   ]
  },
  {
   "cell_type": "code",
   "execution_count": 5,
   "metadata": {},
   "outputs": [
    {
     "data": {
      "text/plain": [
       "timestamp          int64\n",
       "visitorid          int64\n",
       "event             object\n",
       "itemid             int64\n",
       "transactionid    float64\n",
       "dtype: object"
      ]
     },
     "execution_count": 5,
     "metadata": {},
     "output_type": "execute_result"
    }
   ],
   "source": [
    "event.dtypes"
   ]
  },
  {
   "cell_type": "code",
   "execution_count": 6,
   "metadata": {},
   "outputs": [],
   "source": [
    "### convert datetime\n",
    "event['datetime'] = event.timestamp.apply(lambda x: dt.utcfromtimestamp(x/1000).strftime('%Y-%m-%d %H:%M:%S'))"
   ]
  },
  {
   "cell_type": "code",
   "execution_count": 7,
   "metadata": {},
   "outputs": [
    {
     "data": {
      "text/plain": [
       "'2015-05-03 03:00:04'"
      ]
     },
     "execution_count": 7,
     "metadata": {},
     "output_type": "execute_result"
    }
   ],
   "source": [
    "event.datetime.min()"
   ]
  },
  {
   "cell_type": "code",
   "execution_count": 8,
   "metadata": {},
   "outputs": [
    {
     "data": {
      "text/plain": [
       "'2015-09-18 02:59:47'"
      ]
     },
     "execution_count": 8,
     "metadata": {},
     "output_type": "execute_result"
    }
   ],
   "source": [
    "event.datetime.max()"
   ]
  },
  {
   "cell_type": "code",
   "execution_count": 9,
   "metadata": {},
   "outputs": [],
   "source": [
    "### vistor id"
   ]
  },
  {
   "cell_type": "code",
   "execution_count": 10,
   "metadata": {},
   "outputs": [
    {
     "data": {
      "text/plain": [
       "1407580"
      ]
     },
     "execution_count": 10,
     "metadata": {},
     "output_type": "execute_result"
    }
   ],
   "source": [
    "len(event.visitorid.unique())"
   ]
  },
  {
   "cell_type": "code",
   "execution_count": 11,
   "metadata": {},
   "outputs": [],
   "source": [
    "x = event.visitorid.value_counts()"
   ]
  },
  {
   "cell_type": "code",
   "execution_count": 12,
   "metadata": {},
   "outputs": [
    {
     "data": {
      "text/plain": [
       "count    1.407580e+06\n",
       "mean     1.958042e+00\n",
       "std      1.258049e+01\n",
       "min      1.000000e+00\n",
       "25%      1.000000e+00\n",
       "50%      1.000000e+00\n",
       "75%      2.000000e+00\n",
       "max      7.757000e+03\n",
       "Name: visitorid, dtype: float64"
      ]
     },
     "execution_count": 12,
     "metadata": {},
     "output_type": "execute_result"
    }
   ],
   "source": [
    "x.describe()"
   ]
  },
  {
   "cell_type": "code",
   "execution_count": 13,
   "metadata": {},
   "outputs": [],
   "source": [
    "### item id"
   ]
  },
  {
   "cell_type": "code",
   "execution_count": 14,
   "metadata": {},
   "outputs": [
    {
     "data": {
      "text/plain": [
       "235061"
      ]
     },
     "execution_count": 14,
     "metadata": {},
     "output_type": "execute_result"
    }
   ],
   "source": [
    "len(event.itemid.unique())"
   ]
  },
  {
   "cell_type": "code",
   "execution_count": 15,
   "metadata": {},
   "outputs": [],
   "source": [
    "x = event.itemid.value_counts()"
   ]
  },
  {
   "cell_type": "code",
   "execution_count": 16,
   "metadata": {},
   "outputs": [
    {
     "data": {
      "text/plain": [
       "count    235061.000000\n",
       "mean         11.725046\n",
       "std          37.032101\n",
       "min           1.000000\n",
       "25%           1.000000\n",
       "50%           3.000000\n",
       "75%           9.000000\n",
       "max        3412.000000\n",
       "Name: itemid, dtype: float64"
      ]
     },
     "execution_count": 16,
     "metadata": {},
     "output_type": "execute_result"
    }
   ],
   "source": [
    "x.describe()"
   ]
  },
  {
   "cell_type": "code",
   "execution_count": 17,
   "metadata": {},
   "outputs": [],
   "source": [
    "### event"
   ]
  },
  {
   "cell_type": "code",
   "execution_count": 18,
   "metadata": {},
   "outputs": [
    {
     "data": {
      "text/plain": [
       "view           2664312\n",
       "addtocart        69332\n",
       "transaction      22457\n",
       "Name: event, dtype: int64"
      ]
     },
     "execution_count": 18,
     "metadata": {},
     "output_type": "execute_result"
    }
   ],
   "source": [
    "event.event.value_counts()"
   ]
  },
  {
   "cell_type": "code",
   "execution_count": 19,
   "metadata": {},
   "outputs": [
    {
     "data": {
      "text/plain": [
       "True     2733644\n",
       "False      22457\n",
       "Name: transactionid, dtype: int64"
      ]
     },
     "execution_count": 19,
     "metadata": {},
     "output_type": "execute_result"
    }
   ],
   "source": [
    "event.transactionid.isnull().value_counts()"
   ]
  },
  {
   "cell_type": "markdown",
   "metadata": {},
   "source": [
    "## dedup event"
   ]
  },
  {
   "cell_type": "code",
   "execution_count": 20,
   "metadata": {},
   "outputs": [],
   "source": [
    "event_dedup = event.groupby(['visitorid', 'itemid', 'timestamp']).first()"
   ]
  },
  {
   "cell_type": "code",
   "execution_count": 21,
   "metadata": {},
   "outputs": [],
   "source": [
    "event_fnl = event.copy()"
   ]
  },
  {
   "cell_type": "markdown",
   "metadata": {},
   "source": [
    "## 2. EDA"
   ]
  },
  {
   "cell_type": "markdown",
   "metadata": {},
   "source": [
    "### 2.1 variables distribution"
   ]
  },
  {
   "cell_type": "markdown",
   "metadata": {},
   "source": [
    "### vistor"
   ]
  },
  {
   "cell_type": "code",
   "execution_count": 66,
   "metadata": {},
   "outputs": [],
   "source": [
    "view_ct = event_fnl.visitorid.value_counts()"
   ]
  },
  {
   "cell_type": "code",
   "execution_count": 67,
   "metadata": {},
   "outputs": [
    {
     "data": {
      "text/plain": [
       "<AxesSubplot:>"
      ]
     },
     "execution_count": 67,
     "metadata": {},
     "output_type": "execute_result"
    },
    {
     "data": {
      "image/png": "[encoded data removed]",
      "text/plain": [
       "<Figure size 432x288 with 1 Axes>"
      ]
     },
     "metadata": {
      "needs_background": "light"
     },
     "output_type": "display_data"
    }
   ],
   "source": [
    "np.log(view_ct.sort_values(ascending = False)).hist()"
   ]
  },
  {
   "cell_type": "code",
   "execution_count": 68,
   "metadata": {},
   "outputs": [
    {
     "data": {
      "text/plain": [
       "1150086    7757\n",
       "530559     4328\n",
       "152963     3024\n",
       "895999     2474\n",
       "163561     2410\n",
       "371606     2345\n",
       "286616     2252\n",
       "684514     2246\n",
       "892013     2024\n",
       "861299     1991\n",
       "836635     1934\n",
       "76757      1883\n",
       "638482     1829\n",
       "1297062    1822\n",
       "316850     1752\n",
       "247235     1698\n",
       "1161163    1663\n",
       "994820     1661\n",
       "79627      1623\n",
       "518659     1614\n",
       "Name: visitorid, dtype: int64"
      ]
     },
     "execution_count": 68,
     "metadata": {},
     "output_type": "execute_result"
    }
   ],
   "source": [
    "view_ct.head(20)"
   ]
  },
  {
   "cell_type": "code",
   "execution_count": 69,
   "metadata": {},
   "outputs": [],
   "source": [
    "### visitor 1150086 "
   ]
  },
  {
   "cell_type": "code",
   "execution_count": 70,
   "metadata": {},
   "outputs": [
    {
     "data": {
      "text/plain": [
       "2015-07-14    254\n",
       "2015-07-22    221\n",
       "2015-07-15    218\n",
       "2015-06-29    209\n",
       "2015-08-15    206\n",
       "             ... \n",
       "2015-08-29      5\n",
       "2015-08-26      4\n",
       "2015-08-28      4\n",
       "2015-08-25      2\n",
       "2015-08-24      1\n",
       "Name: date, Length: 74, dtype: int64"
      ]
     },
     "execution_count": 70,
     "metadata": {},
     "output_type": "execute_result"
    }
   ],
   "source": [
    "event_fnl[event_fnl.visitorid == 1150086].date.value_counts()"
   ]
  },
  {
   "cell_type": "markdown",
   "metadata": {},
   "source": [
    "### item"
   ]
  },
  {
   "cell_type": "code",
   "execution_count": 71,
   "metadata": {},
   "outputs": [
    {
     "data": {
      "text/plain": [
       "187946    3412\n",
       "461686    2978\n",
       "5411      2334\n",
       "370653    1854\n",
       "219512    1800\n",
       "          ... \n",
       "78748        1\n",
       "317820       1\n",
       "319096       1\n",
       "211328       1\n",
       "2047         1\n",
       "Name: itemid, Length: 235061, dtype: int64"
      ]
     },
     "execution_count": 71,
     "metadata": {},
     "output_type": "execute_result"
    }
   ],
   "source": [
    "item_ct = event_fnl.itemid.value_counts()\n",
    "item_ct"
   ]
  },
  {
   "cell_type": "code",
   "execution_count": 72,
   "metadata": {},
   "outputs": [
    {
     "data": {
      "text/plain": [
       "<AxesSubplot:>"
      ]
     },
     "execution_count": 72,
     "metadata": {},
     "output_type": "execute_result"
    },
    {
     "data": {
      "image/png": "[encoded data removed]",
      "text/plain": [
       "<Figure size 432x288 with 1 Axes>"
      ]
     },
     "metadata": {
      "needs_background": "light"
     },
     "output_type": "display_data"
    }
   ],
   "source": [
    "np.log(item_ct.sort_values(ascending = False)).hist()"
   ]
  },
  {
   "cell_type": "code",
   "execution_count": 73,
   "metadata": {},
   "outputs": [
    {
     "data": {
      "text/plain": [
       "187946    3412\n",
       "461686    2978\n",
       "5411      2334\n",
       "370653    1854\n",
       "219512    1800\n",
       "257040    1647\n",
       "298009    1642\n",
       "96924     1633\n",
       "309778    1628\n",
       "384302    1608\n",
       "320130    1507\n",
       "7943      1489\n",
       "111530    1447\n",
       "441668    1433\n",
       "335975    1428\n",
       "234255    1307\n",
       "190000    1231\n",
       "151444    1230\n",
       "37029     1227\n",
       "369447    1214\n",
       "Name: itemid, dtype: int64"
      ]
     },
     "execution_count": 73,
     "metadata": {},
     "output_type": "execute_result"
    }
   ],
   "source": [
    "item_ct.head(20)"
   ]
  },
  {
   "cell_type": "markdown",
   "metadata": {},
   "source": [
    "### event"
   ]
  },
  {
   "cell_type": "code",
   "execution_count": 74,
   "metadata": {},
   "outputs": [
    {
     "data": {
      "text/plain": [
       "<AxesSubplot:ylabel='event'>"
      ]
     },
     "execution_count": 74,
     "metadata": {},
     "output_type": "execute_result"
    },
    {
     "data": {
      "image/png": "[encoded data removed]",
      "text/plain": [
       "<Figure size 432x288 with 1 Axes>"
      ]
     },
     "metadata": {},
     "output_type": "display_data"
    }
   ],
   "source": [
    "event_fnl.event.value_counts().plot.pie()"
   ]
  },
  {
   "cell_type": "code",
   "execution_count": 75,
   "metadata": {},
   "outputs": [],
   "source": [
    "event_fnl['pred'] = event_fnl.event.apply(lambda x: 'addtocart' if x in ['transaction', 'addtocart'] else 'view') "
   ]
  },
  {
   "cell_type": "code",
   "execution_count": 76,
   "metadata": {},
   "outputs": [
    {
     "data": {
      "text/plain": [
       "view         2664312\n",
       "addtocart      91789\n",
       "Name: pred, dtype: int64"
      ]
     },
     "execution_count": 76,
     "metadata": {},
     "output_type": "execute_result"
    }
   ],
   "source": [
    "event_fnl.pred.value_counts()"
   ]
  },
  {
   "cell_type": "markdown",
   "metadata": {},
   "source": [
    "### 2.2 Insights"
   ]
  },
  {
   "cell_type": "markdown",
   "metadata": {},
   "source": [
    "### previous bought items"
   ]
  },
  {
   "cell_type": "code",
   "execution_count": 22,
   "metadata": {},
   "outputs": [],
   "source": [
    "### history list of each customer and items customers currently viewing"
   ]
  },
  {
   "cell_type": "code",
   "execution_count": 23,
   "metadata": {},
   "outputs": [
    {
     "data": {
      "text/html": [
       "<div>\n",
       "<style scoped>\n",
       "    .dataframe tbody tr th:only-of-type {\n",
       "        vertical-align: middle;\n",
       "    }\n",
       "\n",
       "    .dataframe tbody tr th {\n",
       "        vertical-align: top;\n",
       "    }\n",
       "\n",
       "    .dataframe thead th {\n",
       "        text-align: right;\n",
       "    }\n",
       "</style>\n",
       "<table border=\"1\" class=\"dataframe\">\n",
       "  <thead>\n",
       "    <tr style=\"text-align: right;\">\n",
       "      <th></th>\n",
       "      <th>timestamp</th>\n",
       "      <th>visitorid</th>\n",
       "      <th>event</th>\n",
       "      <th>itemid</th>\n",
       "      <th>transactionid</th>\n",
       "      <th>datetime</th>\n",
       "    </tr>\n",
       "  </thead>\n",
       "  <tbody>\n",
       "    <tr>\n",
       "      <th>0</th>\n",
       "      <td>1433221332117</td>\n",
       "      <td>257597</td>\n",
       "      <td>view</td>\n",
       "      <td>355908</td>\n",
       "      <td>NaN</td>\n",
       "      <td>2015-06-02 05:02:12</td>\n",
       "    </tr>\n",
       "    <tr>\n",
       "      <th>1</th>\n",
       "      <td>1433224214164</td>\n",
       "      <td>992329</td>\n",
       "      <td>view</td>\n",
       "      <td>248676</td>\n",
       "      <td>NaN</td>\n",
       "      <td>2015-06-02 05:50:14</td>\n",
       "    </tr>\n",
       "    <tr>\n",
       "      <th>2</th>\n",
       "      <td>1433221999827</td>\n",
       "      <td>111016</td>\n",
       "      <td>view</td>\n",
       "      <td>318965</td>\n",
       "      <td>NaN</td>\n",
       "      <td>2015-06-02 05:13:19</td>\n",
       "    </tr>\n",
       "    <tr>\n",
       "      <th>3</th>\n",
       "      <td>1433221955914</td>\n",
       "      <td>483717</td>\n",
       "      <td>view</td>\n",
       "      <td>253185</td>\n",
       "      <td>NaN</td>\n",
       "      <td>2015-06-02 05:12:35</td>\n",
       "    </tr>\n",
       "    <tr>\n",
       "      <th>4</th>\n",
       "      <td>1433221337106</td>\n",
       "      <td>951259</td>\n",
       "      <td>view</td>\n",
       "      <td>367447</td>\n",
       "      <td>NaN</td>\n",
       "      <td>2015-06-02 05:02:17</td>\n",
       "    </tr>\n",
       "  </tbody>\n",
       "</table>\n",
       "</div>"
      ],
      "text/plain": [
       "       timestamp  visitorid event  itemid  transactionid             datetime\n",
       "0  1433221332117     257597  view  355908            NaN  2015-06-02 05:02:12\n",
       "1  1433224214164     992329  view  248676            NaN  2015-06-02 05:50:14\n",
       "2  1433221999827     111016  view  318965            NaN  2015-06-02 05:13:19\n",
       "3  1433221955914     483717  view  253185            NaN  2015-06-02 05:12:35\n",
       "4  1433221337106     951259  view  367447            NaN  2015-06-02 05:02:17"
      ]
     },
     "execution_count": 23,
     "metadata": {},
     "output_type": "execute_result"
    }
   ],
   "source": [
    "event_fnl.head()"
   ]
  },
  {
   "cell_type": "code",
   "execution_count": 24,
   "metadata": {},
   "outputs": [],
   "source": [
    "event_fnl = event_fnl.sort_values(['visitorid', 'itemid', 'timestamp'], ascending=[True, True, True])"
   ]
  },
  {
   "cell_type": "code",
   "execution_count": 25,
   "metadata": {},
   "outputs": [
    {
     "data": {
      "text/plain": [
       "view           6479\n",
       "addtocart       719\n",
       "transaction     559\n",
       "Name: event, dtype: int64"
      ]
     },
     "execution_count": 25,
     "metadata": {},
     "output_type": "execute_result"
    }
   ],
   "source": [
    "event_fnl[event_fnl.visitorid == 1150086].event.value_counts()"
   ]
  },
  {
   "cell_type": "code",
   "execution_count": 26,
   "metadata": {},
   "outputs": [
    {
     "data": {
      "text/html": [
       "<div>\n",
       "<style scoped>\n",
       "    .dataframe tbody tr th:only-of-type {\n",
       "        vertical-align: middle;\n",
       "    }\n",
       "\n",
       "    .dataframe tbody tr th {\n",
       "        vertical-align: top;\n",
       "    }\n",
       "\n",
       "    .dataframe thead th {\n",
       "        text-align: right;\n",
       "    }\n",
       "</style>\n",
       "<table border=\"1\" class=\"dataframe\">\n",
       "  <thead>\n",
       "    <tr style=\"text-align: right;\">\n",
       "      <th></th>\n",
       "      <th>timestamp</th>\n",
       "      <th>visitorid</th>\n",
       "      <th>event</th>\n",
       "      <th>itemid</th>\n",
       "      <th>transactionid</th>\n",
       "      <th>datetime</th>\n",
       "    </tr>\n",
       "  </thead>\n",
       "  <tbody>\n",
       "    <tr>\n",
       "      <th>537331</th>\n",
       "      <td>1435308445514</td>\n",
       "      <td>1152713</td>\n",
       "      <td>view</td>\n",
       "      <td>427254</td>\n",
       "      <td>NaN</td>\n",
       "      <td>2015-06-26 08:47:25</td>\n",
       "    </tr>\n",
       "    <tr>\n",
       "      <th>542622</th>\n",
       "      <td>1435308445514</td>\n",
       "      <td>1152713</td>\n",
       "      <td>view</td>\n",
       "      <td>427254</td>\n",
       "      <td>NaN</td>\n",
       "      <td>2015-06-26 08:47:25</td>\n",
       "    </tr>\n",
       "    <tr>\n",
       "      <th>546124</th>\n",
       "      <td>1435308445514</td>\n",
       "      <td>1152713</td>\n",
       "      <td>view</td>\n",
       "      <td>427254</td>\n",
       "      <td>NaN</td>\n",
       "      <td>2015-06-26 08:47:25</td>\n",
       "    </tr>\n",
       "  </tbody>\n",
       "</table>\n",
       "</div>"
      ],
      "text/plain": [
       "            timestamp  visitorid event  itemid  transactionid  \\\n",
       "537331  1435308445514    1152713  view  427254            NaN   \n",
       "542622  1435308445514    1152713  view  427254            NaN   \n",
       "546124  1435308445514    1152713  view  427254            NaN   \n",
       "\n",
       "                   datetime  \n",
       "537331  2015-06-26 08:47:25  \n",
       "542622  2015-06-26 08:47:25  \n",
       "546124  2015-06-26 08:47:25  "
      ]
     },
     "execution_count": 26,
     "metadata": {},
     "output_type": "execute_result"
    }
   ],
   "source": [
    "event_fnl[(event_fnl.itemid == 427254)&(event_fnl.visitorid == 1152713)&(event_fnl.timestamp == 1435308445514)]"
   ]
  },
  {
   "cell_type": "code",
   "execution_count": 27,
   "metadata": {},
   "outputs": [],
   "source": [
    "###dedup"
   ]
  },
  {
   "cell_type": "code",
   "execution_count": 28,
   "metadata": {},
   "outputs": [],
   "source": [
    "event_fnl_dedup = event_fnl.groupby(['visitorid', 'itemid', 'timestamp']).first().reset_index()"
   ]
  },
  {
   "cell_type": "code",
   "execution_count": 29,
   "metadata": {},
   "outputs": [
    {
     "data": {
      "text/html": [
       "<div>\n",
       "<style scoped>\n",
       "    .dataframe tbody tr th:only-of-type {\n",
       "        vertical-align: middle;\n",
       "    }\n",
       "\n",
       "    .dataframe tbody tr th {\n",
       "        vertical-align: top;\n",
       "    }\n",
       "\n",
       "    .dataframe thead th {\n",
       "        text-align: right;\n",
       "    }\n",
       "</style>\n",
       "<table border=\"1\" class=\"dataframe\">\n",
       "  <thead>\n",
       "    <tr style=\"text-align: right;\">\n",
       "      <th></th>\n",
       "      <th>visitorid</th>\n",
       "      <th>itemid</th>\n",
       "      <th>timestamp</th>\n",
       "      <th>event</th>\n",
       "      <th>transactionid</th>\n",
       "      <th>datetime</th>\n",
       "    </tr>\n",
       "  </thead>\n",
       "  <tbody>\n",
       "    <tr>\n",
       "      <th>0</th>\n",
       "      <td>0</td>\n",
       "      <td>67045</td>\n",
       "      <td>1442004917175</td>\n",
       "      <td>view</td>\n",
       "      <td>NaN</td>\n",
       "      <td>2015-09-11 20:55:17</td>\n",
       "    </tr>\n",
       "    <tr>\n",
       "      <th>1</th>\n",
       "      <td>0</td>\n",
       "      <td>285930</td>\n",
       "      <td>1442004589439</td>\n",
       "      <td>view</td>\n",
       "      <td>NaN</td>\n",
       "      <td>2015-09-11 20:49:49</td>\n",
       "    </tr>\n",
       "    <tr>\n",
       "      <th>2</th>\n",
       "      <td>0</td>\n",
       "      <td>357564</td>\n",
       "      <td>1442004759591</td>\n",
       "      <td>view</td>\n",
       "      <td>NaN</td>\n",
       "      <td>2015-09-11 20:52:39</td>\n",
       "    </tr>\n",
       "    <tr>\n",
       "      <th>3</th>\n",
       "      <td>1</td>\n",
       "      <td>72028</td>\n",
       "      <td>1439487966444</td>\n",
       "      <td>view</td>\n",
       "      <td>NaN</td>\n",
       "      <td>2015-08-13 17:46:06</td>\n",
       "    </tr>\n",
       "    <tr>\n",
       "      <th>4</th>\n",
       "      <td>2</td>\n",
       "      <td>216305</td>\n",
       "      <td>1438970468920</td>\n",
       "      <td>view</td>\n",
       "      <td>NaN</td>\n",
       "      <td>2015-08-07 18:01:08</td>\n",
       "    </tr>\n",
       "  </tbody>\n",
       "</table>\n",
       "</div>"
      ],
      "text/plain": [
       "   visitorid  itemid      timestamp event  transactionid             datetime\n",
       "0          0   67045  1442004917175  view            NaN  2015-09-11 20:55:17\n",
       "1          0  285930  1442004589439  view            NaN  2015-09-11 20:49:49\n",
       "2          0  357564  1442004759591  view            NaN  2015-09-11 20:52:39\n",
       "3          1   72028  1439487966444  view            NaN  2015-08-13 17:46:06\n",
       "4          2  216305  1438970468920  view            NaN  2015-08-07 18:01:08"
      ]
     },
     "execution_count": 29,
     "metadata": {},
     "output_type": "execute_result"
    }
   ],
   "source": [
    "event_fnl_dedup.head()"
   ]
  },
  {
   "cell_type": "code",
   "execution_count": 30,
   "metadata": {},
   "outputs": [
    {
     "data": {
      "text/plain": [
       "(2755630, 6)"
      ]
     },
     "execution_count": 30,
     "metadata": {},
     "output_type": "execute_result"
    }
   ],
   "source": [
    "event_fnl_dedup.shape"
   ]
  },
  {
   "cell_type": "code",
   "execution_count": 31,
   "metadata": {},
   "outputs": [
    {
     "data": {
      "text/plain": [
       "(2756101, 6)"
      ]
     },
     "execution_count": 31,
     "metadata": {},
     "output_type": "execute_result"
    }
   ],
   "source": [
    "event_fnl.shape"
   ]
  },
  {
   "cell_type": "code",
   "execution_count": 32,
   "metadata": {},
   "outputs": [],
   "source": [
    "### previous bought (group by these four variables to make it unique pair)"
   ]
  },
  {
   "cell_type": "code",
   "execution_count": 33,
   "metadata": {},
   "outputs": [],
   "source": [
    "pre_bought = event_fnl_dedup[event_fnl_dedup.transactionid.notna()][['visitorid', 'itemid', 'transactionid', 'timestamp']].rename(\n",
    "columns={\"itemid\": \"bought_item\", \"timestamp\": \"bought_time\", 'transactionid': 'bought_id'})"
   ]
  },
  {
   "cell_type": "code",
   "execution_count": 34,
   "metadata": {},
   "outputs": [
    {
     "data": {
      "text/html": [
       "<div>\n",
       "<style scoped>\n",
       "    .dataframe tbody tr th:only-of-type {\n",
       "        vertical-align: middle;\n",
       "    }\n",
       "\n",
       "    .dataframe tbody tr th {\n",
       "        vertical-align: top;\n",
       "    }\n",
       "\n",
       "    .dataframe thead th {\n",
       "        text-align: right;\n",
       "    }\n",
       "</style>\n",
       "<table border=\"1\" class=\"dataframe\">\n",
       "  <thead>\n",
       "    <tr style=\"text-align: right;\">\n",
       "      <th></th>\n",
       "      <th>visitorid</th>\n",
       "      <th>bought_item</th>\n",
       "      <th>bought_id</th>\n",
       "      <th>bought_time</th>\n",
       "    </tr>\n",
       "  </thead>\n",
       "  <tbody>\n",
       "    <tr>\n",
       "      <th>333</th>\n",
       "      <td>172</td>\n",
       "      <td>10034</td>\n",
       "      <td>9725.0</td>\n",
       "      <td>1439602141686</td>\n",
       "    </tr>\n",
       "    <tr>\n",
       "      <th>364</th>\n",
       "      <td>172</td>\n",
       "      <td>465522</td>\n",
       "      <td>9725.0</td>\n",
       "      <td>1439602141230</td>\n",
       "    </tr>\n",
       "    <tr>\n",
       "      <th>384</th>\n",
       "      <td>186</td>\n",
       "      <td>49029</td>\n",
       "      <td>8726.0</td>\n",
       "      <td>1439397297040</td>\n",
       "    </tr>\n",
       "    <tr>\n",
       "      <th>496</th>\n",
       "      <td>264</td>\n",
       "      <td>161949</td>\n",
       "      <td>8445.0</td>\n",
       "      <td>1441647285708</td>\n",
       "    </tr>\n",
       "    <tr>\n",
       "      <th>499</th>\n",
       "      <td>264</td>\n",
       "      <td>459835</td>\n",
       "      <td>8445.0</td>\n",
       "      <td>1441647285614</td>\n",
       "    </tr>\n",
       "    <tr>\n",
       "      <th>...</th>\n",
       "      <td>...</td>\n",
       "      <td>...</td>\n",
       "      <td>...</td>\n",
       "      <td>...</td>\n",
       "    </tr>\n",
       "    <tr>\n",
       "      <th>2754167</th>\n",
       "      <td>1406787</td>\n",
       "      <td>336832</td>\n",
       "      <td>15915.0</td>\n",
       "      <td>1433177808042</td>\n",
       "    </tr>\n",
       "    <tr>\n",
       "      <th>2754555</th>\n",
       "      <td>1406981</td>\n",
       "      <td>436004</td>\n",
       "      <td>686.0</td>\n",
       "      <td>1431988101266</td>\n",
       "    </tr>\n",
       "    <tr>\n",
       "      <th>2754697</th>\n",
       "      <td>1407070</td>\n",
       "      <td>215596</td>\n",
       "      <td>5064.0</td>\n",
       "      <td>1431556875160</td>\n",
       "    </tr>\n",
       "    <tr>\n",
       "      <th>2754771</th>\n",
       "      <td>1407110</td>\n",
       "      <td>360922</td>\n",
       "      <td>3851.0</td>\n",
       "      <td>1438729885624</td>\n",
       "    </tr>\n",
       "    <tr>\n",
       "      <th>2755319</th>\n",
       "      <td>1407398</td>\n",
       "      <td>218917</td>\n",
       "      <td>10009.0</td>\n",
       "      <td>1436240835969</td>\n",
       "    </tr>\n",
       "  </tbody>\n",
       "</table>\n",
       "<p>22457 rows × 4 columns</p>\n",
       "</div>"
      ],
      "text/plain": [
       "         visitorid  bought_item  bought_id    bought_time\n",
       "333            172        10034     9725.0  1439602141686\n",
       "364            172       465522     9725.0  1439602141230\n",
       "384            186        49029     8726.0  1439397297040\n",
       "496            264       161949     8445.0  1441647285708\n",
       "499            264       459835     8445.0  1441647285614\n",
       "...            ...          ...        ...            ...\n",
       "2754167    1406787       336832    15915.0  1433177808042\n",
       "2754555    1406981       436004      686.0  1431988101266\n",
       "2754697    1407070       215596     5064.0  1431556875160\n",
       "2754771    1407110       360922     3851.0  1438729885624\n",
       "2755319    1407398       218917    10009.0  1436240835969\n",
       "\n",
       "[22457 rows x 4 columns]"
      ]
     },
     "execution_count": 34,
     "metadata": {},
     "output_type": "execute_result"
    }
   ],
   "source": [
    "pre_bought"
   ]
  },
  {
   "cell_type": "code",
   "execution_count": 35,
   "metadata": {},
   "outputs": [],
   "source": [
    "### merge with event_fnl_dedup by visitorid"
   ]
  },
  {
   "cell_type": "code",
   "execution_count": 36,
   "metadata": {},
   "outputs": [],
   "source": [
    "event_fnl_bought = event_fnl_dedup.merge(pre_bought, how = 'left')"
   ]
  },
  {
   "cell_type": "code",
   "execution_count": 37,
   "metadata": {},
   "outputs": [
    {
     "data": {
      "text/html": [
       "<div>\n",
       "<style scoped>\n",
       "    .dataframe tbody tr th:only-of-type {\n",
       "        vertical-align: middle;\n",
       "    }\n",
       "\n",
       "    .dataframe tbody tr th {\n",
       "        vertical-align: top;\n",
       "    }\n",
       "\n",
       "    .dataframe thead th {\n",
       "        text-align: right;\n",
       "    }\n",
       "</style>\n",
       "<table border=\"1\" class=\"dataframe\">\n",
       "  <thead>\n",
       "    <tr style=\"text-align: right;\">\n",
       "      <th></th>\n",
       "      <th>visitorid</th>\n",
       "      <th>itemid</th>\n",
       "      <th>timestamp</th>\n",
       "      <th>event</th>\n",
       "      <th>transactionid</th>\n",
       "      <th>datetime</th>\n",
       "      <th>bought_item</th>\n",
       "      <th>bought_id</th>\n",
       "      <th>bought_time</th>\n",
       "    </tr>\n",
       "  </thead>\n",
       "  <tbody>\n",
       "    <tr>\n",
       "      <th>327</th>\n",
       "      <td>172</td>\n",
       "      <td>10034</td>\n",
       "      <td>1436848989537</td>\n",
       "      <td>view</td>\n",
       "      <td>NaN</td>\n",
       "      <td>2015-07-14 04:43:09</td>\n",
       "      <td>10034.0</td>\n",
       "      <td>9725.0</td>\n",
       "      <td>1.439602e+12</td>\n",
       "    </tr>\n",
       "    <tr>\n",
       "      <th>328</th>\n",
       "      <td>172</td>\n",
       "      <td>10034</td>\n",
       "      <td>1436848989537</td>\n",
       "      <td>view</td>\n",
       "      <td>NaN</td>\n",
       "      <td>2015-07-14 04:43:09</td>\n",
       "      <td>465522.0</td>\n",
       "      <td>9725.0</td>\n",
       "      <td>1.439602e+12</td>\n",
       "    </tr>\n",
       "    <tr>\n",
       "      <th>329</th>\n",
       "      <td>172</td>\n",
       "      <td>10034</td>\n",
       "      <td>1436849172774</td>\n",
       "      <td>view</td>\n",
       "      <td>NaN</td>\n",
       "      <td>2015-07-14 04:46:12</td>\n",
       "      <td>10034.0</td>\n",
       "      <td>9725.0</td>\n",
       "      <td>1.439602e+12</td>\n",
       "    </tr>\n",
       "    <tr>\n",
       "      <th>330</th>\n",
       "      <td>172</td>\n",
       "      <td>10034</td>\n",
       "      <td>1436849172774</td>\n",
       "      <td>view</td>\n",
       "      <td>NaN</td>\n",
       "      <td>2015-07-14 04:46:12</td>\n",
       "      <td>465522.0</td>\n",
       "      <td>9725.0</td>\n",
       "      <td>1.439602e+12</td>\n",
       "    </tr>\n",
       "    <tr>\n",
       "      <th>331</th>\n",
       "      <td>172</td>\n",
       "      <td>10034</td>\n",
       "      <td>1436850087714</td>\n",
       "      <td>view</td>\n",
       "      <td>NaN</td>\n",
       "      <td>2015-07-14 05:01:27</td>\n",
       "      <td>10034.0</td>\n",
       "      <td>9725.0</td>\n",
       "      <td>1.439602e+12</td>\n",
       "    </tr>\n",
       "  </tbody>\n",
       "</table>\n",
       "</div>"
      ],
      "text/plain": [
       "     visitorid  itemid      timestamp event  transactionid  \\\n",
       "327        172   10034  1436848989537  view            NaN   \n",
       "328        172   10034  1436848989537  view            NaN   \n",
       "329        172   10034  1436849172774  view            NaN   \n",
       "330        172   10034  1436849172774  view            NaN   \n",
       "331        172   10034  1436850087714  view            NaN   \n",
       "\n",
       "                datetime  bought_item  bought_id   bought_time  \n",
       "327  2015-07-14 04:43:09      10034.0     9725.0  1.439602e+12  \n",
       "328  2015-07-14 04:43:09     465522.0     9725.0  1.439602e+12  \n",
       "329  2015-07-14 04:46:12      10034.0     9725.0  1.439602e+12  \n",
       "330  2015-07-14 04:46:12     465522.0     9725.0  1.439602e+12  \n",
       "331  2015-07-14 05:01:27      10034.0     9725.0  1.439602e+12  "
      ]
     },
     "execution_count": 37,
     "metadata": {},
     "output_type": "execute_result"
    }
   ],
   "source": [
    "event_fnl_bought[event_fnl_bought.bought_item.notna()].head()"
   ]
  },
  {
   "cell_type": "code",
   "execution_count": 38,
   "metadata": {},
   "outputs": [],
   "source": [
    "### clean"
   ]
  },
  {
   "cell_type": "code",
   "execution_count": 39,
   "metadata": {},
   "outputs": [],
   "source": [
    "event_fnl_bought.loc[(event_fnl_bought.bought_time>=event_fnl_bought.timestamp)|(event_fnl_bought.bought_id == event_fnl_bought.transactionid), 'bought_item'] = np.nan"
   ]
  },
  {
   "cell_type": "code",
   "execution_count": 40,
   "metadata": {},
   "outputs": [
    {
     "data": {
      "text/html": [
       "<div>\n",
       "<style scoped>\n",
       "    .dataframe tbody tr th:only-of-type {\n",
       "        vertical-align: middle;\n",
       "    }\n",
       "\n",
       "    .dataframe tbody tr th {\n",
       "        vertical-align: top;\n",
       "    }\n",
       "\n",
       "    .dataframe thead th {\n",
       "        text-align: right;\n",
       "    }\n",
       "</style>\n",
       "<table border=\"1\" class=\"dataframe\">\n",
       "  <thead>\n",
       "    <tr style=\"text-align: right;\">\n",
       "      <th></th>\n",
       "      <th>visitorid</th>\n",
       "      <th>timestamp</th>\n",
       "      <th>bought_time</th>\n",
       "    </tr>\n",
       "  </thead>\n",
       "  <tbody>\n",
       "    <tr>\n",
       "      <th>423</th>\n",
       "      <td>186</td>\n",
       "      <td>1439399604184</td>\n",
       "      <td>1.439397e+12</td>\n",
       "    </tr>\n",
       "    <tr>\n",
       "      <th>424</th>\n",
       "      <td>186</td>\n",
       "      <td>1439420372345</td>\n",
       "      <td>1.439397e+12</td>\n",
       "    </tr>\n",
       "    <tr>\n",
       "      <th>1042</th>\n",
       "      <td>539</td>\n",
       "      <td>1434433315269</td>\n",
       "      <td>1.434433e+12</td>\n",
       "    </tr>\n",
       "    <tr>\n",
       "      <th>1043</th>\n",
       "      <td>539</td>\n",
       "      <td>1434433324128</td>\n",
       "      <td>1.434433e+12</td>\n",
       "    </tr>\n",
       "    <tr>\n",
       "      <th>1044</th>\n",
       "      <td>539</td>\n",
       "      <td>1434470992149</td>\n",
       "      <td>1.434433e+12</td>\n",
       "    </tr>\n",
       "  </tbody>\n",
       "</table>\n",
       "</div>"
      ],
      "text/plain": [
       "      visitorid      timestamp   bought_time\n",
       "423         186  1439399604184  1.439397e+12\n",
       "424         186  1439420372345  1.439397e+12\n",
       "1042        539  1434433315269  1.434433e+12\n",
       "1043        539  1434433324128  1.434433e+12\n",
       "1044        539  1434470992149  1.434433e+12"
      ]
     },
     "execution_count": 40,
     "metadata": {},
     "output_type": "execute_result"
    }
   ],
   "source": [
    "event_fnl_bought[event_fnl_bought.bought_item.notna()][['visitorid', 'timestamp', 'bought_time']].head()"
   ]
  },
  {
   "cell_type": "code",
   "execution_count": 41,
   "metadata": {},
   "outputs": [
    {
     "data": {
      "text/html": [
       "<div>\n",
       "<style scoped>\n",
       "    .dataframe tbody tr th:only-of-type {\n",
       "        vertical-align: middle;\n",
       "    }\n",
       "\n",
       "    .dataframe tbody tr th {\n",
       "        vertical-align: top;\n",
       "    }\n",
       "\n",
       "    .dataframe thead th {\n",
       "        text-align: right;\n",
       "    }\n",
       "</style>\n",
       "<table border=\"1\" class=\"dataframe\">\n",
       "  <thead>\n",
       "    <tr style=\"text-align: right;\">\n",
       "      <th></th>\n",
       "      <th>visitorid</th>\n",
       "      <th>itemid</th>\n",
       "      <th>timestamp</th>\n",
       "      <th>event</th>\n",
       "      <th>transactionid</th>\n",
       "      <th>datetime</th>\n",
       "      <th>bought_item</th>\n",
       "      <th>bought_id</th>\n",
       "      <th>bought_time</th>\n",
       "    </tr>\n",
       "  </thead>\n",
       "  <tbody>\n",
       "    <tr>\n",
       "      <th>421</th>\n",
       "      <td>186</td>\n",
       "      <td>49029</td>\n",
       "      <td>1439396896523</td>\n",
       "      <td>addtocart</td>\n",
       "      <td>NaN</td>\n",
       "      <td>2015-08-12 16:28:16</td>\n",
       "      <td>NaN</td>\n",
       "      <td>8726.0</td>\n",
       "      <td>1.439397e+12</td>\n",
       "    </tr>\n",
       "    <tr>\n",
       "      <th>422</th>\n",
       "      <td>186</td>\n",
       "      <td>49029</td>\n",
       "      <td>1439397297040</td>\n",
       "      <td>transaction</td>\n",
       "      <td>8726.0</td>\n",
       "      <td>2015-08-12 16:34:57</td>\n",
       "      <td>NaN</td>\n",
       "      <td>8726.0</td>\n",
       "      <td>1.439397e+12</td>\n",
       "    </tr>\n",
       "    <tr>\n",
       "      <th>423</th>\n",
       "      <td>186</td>\n",
       "      <td>49029</td>\n",
       "      <td>1439399604184</td>\n",
       "      <td>view</td>\n",
       "      <td>NaN</td>\n",
       "      <td>2015-08-12 17:13:24</td>\n",
       "      <td>49029.0</td>\n",
       "      <td>8726.0</td>\n",
       "      <td>1.439397e+12</td>\n",
       "    </tr>\n",
       "    <tr>\n",
       "      <th>424</th>\n",
       "      <td>186</td>\n",
       "      <td>49029</td>\n",
       "      <td>1439420372345</td>\n",
       "      <td>view</td>\n",
       "      <td>NaN</td>\n",
       "      <td>2015-08-12 22:59:32</td>\n",
       "      <td>49029.0</td>\n",
       "      <td>8726.0</td>\n",
       "      <td>1.439397e+12</td>\n",
       "    </tr>\n",
       "  </tbody>\n",
       "</table>\n",
       "</div>"
      ],
      "text/plain": [
       "     visitorid  itemid      timestamp        event  transactionid  \\\n",
       "421        186   49029  1439396896523    addtocart            NaN   \n",
       "422        186   49029  1439397297040  transaction         8726.0   \n",
       "423        186   49029  1439399604184         view            NaN   \n",
       "424        186   49029  1439420372345         view            NaN   \n",
       "\n",
       "                datetime  bought_item  bought_id   bought_time  \n",
       "421  2015-08-12 16:28:16          NaN     8726.0  1.439397e+12  \n",
       "422  2015-08-12 16:34:57          NaN     8726.0  1.439397e+12  \n",
       "423  2015-08-12 17:13:24      49029.0     8726.0  1.439397e+12  \n",
       "424  2015-08-12 22:59:32      49029.0     8726.0  1.439397e+12  "
      ]
     },
     "execution_count": 41,
     "metadata": {},
     "output_type": "execute_result"
    }
   ],
   "source": [
    "event_fnl_bought[event_fnl_bought.visitorid==186]"
   ]
  },
  {
   "cell_type": "code",
   "execution_count": 42,
   "metadata": {},
   "outputs": [
    {
     "data": {
      "text/plain": [
       "visitorid  itemid  timestamp    \n",
       "1150086    279280  1439592606011    559\n",
       "           309336  1441208393468    559\n",
       "           310944  1438879481058    559\n",
       "                   1438879344272    559\n",
       "                   1438879281142    559\n",
       "                                   ... \n",
       "923700     191106  1439772758122      1\n",
       "923699     218531  1430785688837      1\n",
       "           20906   1430785628866      1\n",
       "923698     213949  1431903682344      1\n",
       "0          67045   1442004917175      1\n",
       "Length: 2755630, dtype: int64"
      ]
     },
     "execution_count": 42,
     "metadata": {},
     "output_type": "execute_result"
    }
   ],
   "source": [
    "event_fnl_bought[['visitorid', 'itemid', 'timestamp']].value_counts()"
   ]
  },
  {
   "cell_type": "code",
   "execution_count": 43,
   "metadata": {},
   "outputs": [],
   "source": [
    "df = event_fnl_bought.copy()"
   ]
  },
  {
   "cell_type": "code",
   "execution_count": 44,
   "metadata": {},
   "outputs": [
    {
     "data": {
      "text/plain": [
       "visitorid  itemid  timestamp    \n",
       "1150086    279280  1439592606011    [546.0, 869.0, 1152.0, 1684.0, 1976.0, 4067.0,...\n",
       "Name: bought_item, dtype: object"
      ]
     },
     "execution_count": 44,
     "metadata": {},
     "output_type": "execute_result"
    }
   ],
   "source": [
    "df[(df.visitorid == 1150086)&(df.itemid == 279280) &(df.timestamp == 1439592606011)].groupby(['visitorid', 'itemid', 'timestamp'])['bought_item'].apply(lambda x: list(np.unique(x)))"
   ]
  },
  {
   "cell_type": "code",
   "execution_count": 45,
   "metadata": {},
   "outputs": [],
   "source": [
    "### previous item list and merge"
   ]
  },
  {
   "cell_type": "code",
   "execution_count": 46,
   "metadata": {},
   "outputs": [],
   "source": [
    "prev_item_list = event_fnl_bought.groupby(['visitorid', 'itemid', 'timestamp'])['bought_item'].apply(lambda x: list(np.unique(x)))"
   ]
  },
  {
   "cell_type": "code",
   "execution_count": 47,
   "metadata": {},
   "outputs": [],
   "source": [
    "prev_item_list = prev_item_list.reset_index()"
   ]
  },
  {
   "cell_type": "code",
   "execution_count": 48,
   "metadata": {},
   "outputs": [
    {
     "data": {
      "text/html": [
       "<div>\n",
       "<style scoped>\n",
       "    .dataframe tbody tr th:only-of-type {\n",
       "        vertical-align: middle;\n",
       "    }\n",
       "\n",
       "    .dataframe tbody tr th {\n",
       "        vertical-align: top;\n",
       "    }\n",
       "\n",
       "    .dataframe thead th {\n",
       "        text-align: right;\n",
       "    }\n",
       "</style>\n",
       "<table border=\"1\" class=\"dataframe\">\n",
       "  <thead>\n",
       "    <tr style=\"text-align: right;\">\n",
       "      <th></th>\n",
       "      <th>visitorid</th>\n",
       "      <th>itemid</th>\n",
       "      <th>timestamp</th>\n",
       "      <th>bought_item</th>\n",
       "    </tr>\n",
       "  </thead>\n",
       "  <tbody>\n",
       "    <tr>\n",
       "      <th>383</th>\n",
       "      <td>186</td>\n",
       "      <td>49029</td>\n",
       "      <td>1439396896523</td>\n",
       "      <td>[nan]</td>\n",
       "    </tr>\n",
       "    <tr>\n",
       "      <th>384</th>\n",
       "      <td>186</td>\n",
       "      <td>49029</td>\n",
       "      <td>1439397297040</td>\n",
       "      <td>[nan]</td>\n",
       "    </tr>\n",
       "    <tr>\n",
       "      <th>385</th>\n",
       "      <td>186</td>\n",
       "      <td>49029</td>\n",
       "      <td>1439399604184</td>\n",
       "      <td>[49029.0]</td>\n",
       "    </tr>\n",
       "    <tr>\n",
       "      <th>386</th>\n",
       "      <td>186</td>\n",
       "      <td>49029</td>\n",
       "      <td>1439420372345</td>\n",
       "      <td>[49029.0]</td>\n",
       "    </tr>\n",
       "  </tbody>\n",
       "</table>\n",
       "</div>"
      ],
      "text/plain": [
       "     visitorid  itemid      timestamp bought_item\n",
       "383        186   49029  1439396896523       [nan]\n",
       "384        186   49029  1439397297040       [nan]\n",
       "385        186   49029  1439399604184   [49029.0]\n",
       "386        186   49029  1439420372345   [49029.0]"
      ]
     },
     "execution_count": 48,
     "metadata": {},
     "output_type": "execute_result"
    }
   ],
   "source": [
    "prev_item_list[prev_item_list.visitorid == 186]"
   ]
  },
  {
   "cell_type": "code",
   "execution_count": 49,
   "metadata": {},
   "outputs": [
    {
     "data": {
      "text/plain": [
       "Index(['timestamp', 'visitorid', 'event', 'itemid', 'transactionid',\n",
       "       'datetime'],\n",
       "      dtype='object')"
      ]
     },
     "execution_count": 49,
     "metadata": {},
     "output_type": "execute_result"
    }
   ],
   "source": [
    "event_fnl.columns"
   ]
  },
  {
   "cell_type": "code",
   "execution_count": 50,
   "metadata": {},
   "outputs": [],
   "source": [
    "event_fnl = event_fnl.merge(prev_item_list, how = 'left')"
   ]
  },
  {
   "cell_type": "code",
   "execution_count": 51,
   "metadata": {},
   "outputs": [
    {
     "data": {
      "text/plain": [
       "(2756101, 7)"
      ]
     },
     "execution_count": 51,
     "metadata": {},
     "output_type": "execute_result"
    }
   ],
   "source": [
    "event_fnl.shape"
   ]
  },
  {
   "cell_type": "markdown",
   "metadata": {},
   "source": [
    "### most recent view items"
   ]
  },
  {
   "cell_type": "code",
   "execution_count": 52,
   "metadata": {},
   "outputs": [
    {
     "data": {
      "text/html": [
       "<div>\n",
       "<style scoped>\n",
       "    .dataframe tbody tr th:only-of-type {\n",
       "        vertical-align: middle;\n",
       "    }\n",
       "\n",
       "    .dataframe tbody tr th {\n",
       "        vertical-align: top;\n",
       "    }\n",
       "\n",
       "    .dataframe thead th {\n",
       "        text-align: right;\n",
       "    }\n",
       "</style>\n",
       "<table border=\"1\" class=\"dataframe\">\n",
       "  <thead>\n",
       "    <tr style=\"text-align: right;\">\n",
       "      <th></th>\n",
       "      <th>timestamp</th>\n",
       "      <th>visitorid</th>\n",
       "      <th>event</th>\n",
       "      <th>itemid</th>\n",
       "      <th>transactionid</th>\n",
       "      <th>datetime</th>\n",
       "      <th>bought_item</th>\n",
       "    </tr>\n",
       "  </thead>\n",
       "  <tbody>\n",
       "    <tr>\n",
       "      <th>0</th>\n",
       "      <td>1442004917175</td>\n",
       "      <td>0</td>\n",
       "      <td>view</td>\n",
       "      <td>67045</td>\n",
       "      <td>NaN</td>\n",
       "      <td>2015-09-11 20:55:17</td>\n",
       "      <td>[nan]</td>\n",
       "    </tr>\n",
       "    <tr>\n",
       "      <th>1</th>\n",
       "      <td>1442004589439</td>\n",
       "      <td>0</td>\n",
       "      <td>view</td>\n",
       "      <td>285930</td>\n",
       "      <td>NaN</td>\n",
       "      <td>2015-09-11 20:49:49</td>\n",
       "      <td>[nan]</td>\n",
       "    </tr>\n",
       "    <tr>\n",
       "      <th>2</th>\n",
       "      <td>1442004759591</td>\n",
       "      <td>0</td>\n",
       "      <td>view</td>\n",
       "      <td>357564</td>\n",
       "      <td>NaN</td>\n",
       "      <td>2015-09-11 20:52:39</td>\n",
       "      <td>[nan]</td>\n",
       "    </tr>\n",
       "    <tr>\n",
       "      <th>3</th>\n",
       "      <td>1439487966444</td>\n",
       "      <td>1</td>\n",
       "      <td>view</td>\n",
       "      <td>72028</td>\n",
       "      <td>NaN</td>\n",
       "      <td>2015-08-13 17:46:06</td>\n",
       "      <td>[nan]</td>\n",
       "    </tr>\n",
       "    <tr>\n",
       "      <th>4</th>\n",
       "      <td>1438970468920</td>\n",
       "      <td>2</td>\n",
       "      <td>view</td>\n",
       "      <td>216305</td>\n",
       "      <td>NaN</td>\n",
       "      <td>2015-08-07 18:01:08</td>\n",
       "      <td>[nan]</td>\n",
       "    </tr>\n",
       "  </tbody>\n",
       "</table>\n",
       "</div>"
      ],
      "text/plain": [
       "       timestamp  visitorid event  itemid  transactionid             datetime  \\\n",
       "0  1442004917175          0  view   67045            NaN  2015-09-11 20:55:17   \n",
       "1  1442004589439          0  view  285930            NaN  2015-09-11 20:49:49   \n",
       "2  1442004759591          0  view  357564            NaN  2015-09-11 20:52:39   \n",
       "3  1439487966444          1  view   72028            NaN  2015-08-13 17:46:06   \n",
       "4  1438970468920          2  view  216305            NaN  2015-08-07 18:01:08   \n",
       "\n",
       "  bought_item  \n",
       "0       [nan]  \n",
       "1       [nan]  \n",
       "2       [nan]  \n",
       "3       [nan]  \n",
       "4       [nan]  "
      ]
     },
     "execution_count": 52,
     "metadata": {},
     "output_type": "execute_result"
    }
   ],
   "source": [
    "event_fnl.head()"
   ]
  },
  {
   "cell_type": "code",
   "execution_count": 53,
   "metadata": {},
   "outputs": [
    {
     "data": {
      "text/plain": [
       "7063.0     31\n",
       "765.0      28\n",
       "8351.0     27\n",
       "2753.0     23\n",
       "6993.0     21\n",
       "           ..\n",
       "11745.0     1\n",
       "11744.0     1\n",
       "11743.0     1\n",
       "11742.0     1\n",
       "0.0         1\n",
       "Name: transactionid, Length: 17672, dtype: int64"
      ]
     },
     "execution_count": 53,
     "metadata": {},
     "output_type": "execute_result"
    }
   ],
   "source": [
    "event_fnl_dedup.transactionid.value_counts()"
   ]
  },
  {
   "cell_type": "code",
   "execution_count": null,
   "metadata": {},
   "outputs": [],
   "source": []
  },
  {
   "cell_type": "code",
   "execution_count": 54,
   "metadata": {},
   "outputs": [],
   "source": [
    "### for view items"
   ]
  },
  {
   "cell_type": "code",
   "execution_count": 55,
   "metadata": {},
   "outputs": [],
   "source": [
    "lastview_view = event_fnl_dedup[event_fnl_dedup.event == 'view'].sort_values(['visitorid', 'timestamp'], ascending = [True, True])"
   ]
  },
  {
   "cell_type": "code",
   "execution_count": 56,
   "metadata": {},
   "outputs": [
    {
     "data": {
      "text/html": [
       "<div>\n",
       "<style scoped>\n",
       "    .dataframe tbody tr th:only-of-type {\n",
       "        vertical-align: middle;\n",
       "    }\n",
       "\n",
       "    .dataframe tbody tr th {\n",
       "        vertical-align: top;\n",
       "    }\n",
       "\n",
       "    .dataframe thead th {\n",
       "        text-align: right;\n",
       "    }\n",
       "</style>\n",
       "<table border=\"1\" class=\"dataframe\">\n",
       "  <thead>\n",
       "    <tr style=\"text-align: right;\">\n",
       "      <th></th>\n",
       "      <th>visitorid</th>\n",
       "      <th>itemid</th>\n",
       "      <th>timestamp</th>\n",
       "      <th>event</th>\n",
       "      <th>transactionid</th>\n",
       "      <th>datetime</th>\n",
       "    </tr>\n",
       "  </thead>\n",
       "  <tbody>\n",
       "    <tr>\n",
       "      <th>1</th>\n",
       "      <td>0</td>\n",
       "      <td>285930</td>\n",
       "      <td>1442004589439</td>\n",
       "      <td>view</td>\n",
       "      <td>NaN</td>\n",
       "      <td>2015-09-11 20:49:49</td>\n",
       "    </tr>\n",
       "    <tr>\n",
       "      <th>2</th>\n",
       "      <td>0</td>\n",
       "      <td>357564</td>\n",
       "      <td>1442004759591</td>\n",
       "      <td>view</td>\n",
       "      <td>NaN</td>\n",
       "      <td>2015-09-11 20:52:39</td>\n",
       "    </tr>\n",
       "    <tr>\n",
       "      <th>0</th>\n",
       "      <td>0</td>\n",
       "      <td>67045</td>\n",
       "      <td>1442004917175</td>\n",
       "      <td>view</td>\n",
       "      <td>NaN</td>\n",
       "      <td>2015-09-11 20:55:17</td>\n",
       "    </tr>\n",
       "    <tr>\n",
       "      <th>3</th>\n",
       "      <td>1</td>\n",
       "      <td>72028</td>\n",
       "      <td>1439487966444</td>\n",
       "      <td>view</td>\n",
       "      <td>NaN</td>\n",
       "      <td>2015-08-13 17:46:06</td>\n",
       "    </tr>\n",
       "    <tr>\n",
       "      <th>7</th>\n",
       "      <td>2</td>\n",
       "      <td>325215</td>\n",
       "      <td>1438969904567</td>\n",
       "      <td>view</td>\n",
       "      <td>NaN</td>\n",
       "      <td>2015-08-07 17:51:44</td>\n",
       "    </tr>\n",
       "  </tbody>\n",
       "</table>\n",
       "</div>"
      ],
      "text/plain": [
       "   visitorid  itemid      timestamp event  transactionid             datetime\n",
       "1          0  285930  1442004589439  view            NaN  2015-09-11 20:49:49\n",
       "2          0  357564  1442004759591  view            NaN  2015-09-11 20:52:39\n",
       "0          0   67045  1442004917175  view            NaN  2015-09-11 20:55:17\n",
       "3          1   72028  1439487966444  view            NaN  2015-08-13 17:46:06\n",
       "7          2  325215  1438969904567  view            NaN  2015-08-07 17:51:44"
      ]
     },
     "execution_count": 56,
     "metadata": {},
     "output_type": "execute_result"
    }
   ],
   "source": [
    "lastview_view.head()"
   ]
  },
  {
   "cell_type": "code",
   "execution_count": 57,
   "metadata": {},
   "outputs": [],
   "source": [
    "lastview_view['lastview_item1']=lastview_view.groupby('visitorid')['itemid'].shift(1)\n",
    "lastview_view['lastview_item2']=lastview_view.groupby('visitorid')['itemid'].shift(2)\n",
    "lastview_view['lastview_item3']=lastview_view.groupby('visitorid')['itemid'].shift(3)"
   ]
  },
  {
   "cell_type": "code",
   "execution_count": 58,
   "metadata": {},
   "outputs": [],
   "source": [
    "from collections import Counter"
   ]
  },
  {
   "cell_type": "code",
   "execution_count": 59,
   "metadata": {},
   "outputs": [],
   "source": [
    "lastview_view['lastview_item'] = lastview_view[['lastview_item1', 'lastview_item2', 'lastview_item3']].values.tolist()"
   ]
  },
  {
   "cell_type": "code",
   "execution_count": 60,
   "metadata": {},
   "outputs": [
    {
     "data": {
      "text/plain": [
       "'x = [np.nan, 2, np.nan]\\n[y if np.isnan(y) == False else 3 for y in x ]'"
      ]
     },
     "execution_count": 60,
     "metadata": {},
     "output_type": "execute_result"
    }
   ],
   "source": [
    "\"\"\"x = [np.nan, 2, np.nan]\n",
    "[y if np.isnan(y) == False else 3 for y in x ]\"\"\""
   ]
  },
  {
   "cell_type": "code",
   "execution_count": 61,
   "metadata": {},
   "outputs": [],
   "source": [
    "### remove nan in list"
   ]
  },
  {
   "cell_type": "code",
   "execution_count": 62,
   "metadata": {},
   "outputs": [],
   "source": [
    "lastview_view['lastview_item'] = lastview_view['lastview_item'].apply(lambda x: [y for y in x if np.isnan(y) == False])"
   ]
  },
  {
   "cell_type": "code",
   "execution_count": 63,
   "metadata": {},
   "outputs": [
    {
     "data": {
      "text/html": [
       "<div>\n",
       "<style scoped>\n",
       "    .dataframe tbody tr th:only-of-type {\n",
       "        vertical-align: middle;\n",
       "    }\n",
       "\n",
       "    .dataframe tbody tr th {\n",
       "        vertical-align: top;\n",
       "    }\n",
       "\n",
       "    .dataframe thead th {\n",
       "        text-align: right;\n",
       "    }\n",
       "</style>\n",
       "<table border=\"1\" class=\"dataframe\">\n",
       "  <thead>\n",
       "    <tr style=\"text-align: right;\">\n",
       "      <th></th>\n",
       "      <th>visitorid</th>\n",
       "      <th>itemid</th>\n",
       "      <th>timestamp</th>\n",
       "      <th>lastview_item</th>\n",
       "    </tr>\n",
       "  </thead>\n",
       "  <tbody>\n",
       "    <tr>\n",
       "      <th>1</th>\n",
       "      <td>0</td>\n",
       "      <td>285930</td>\n",
       "      <td>1442004589439</td>\n",
       "      <td>[]</td>\n",
       "    </tr>\n",
       "    <tr>\n",
       "      <th>2</th>\n",
       "      <td>0</td>\n",
       "      <td>357564</td>\n",
       "      <td>1442004759591</td>\n",
       "      <td>[285930.0]</td>\n",
       "    </tr>\n",
       "    <tr>\n",
       "      <th>0</th>\n",
       "      <td>0</td>\n",
       "      <td>67045</td>\n",
       "      <td>1442004917175</td>\n",
       "      <td>[357564.0, 285930.0]</td>\n",
       "    </tr>\n",
       "    <tr>\n",
       "      <th>3</th>\n",
       "      <td>1</td>\n",
       "      <td>72028</td>\n",
       "      <td>1439487966444</td>\n",
       "      <td>[]</td>\n",
       "    </tr>\n",
       "    <tr>\n",
       "      <th>7</th>\n",
       "      <td>2</td>\n",
       "      <td>325215</td>\n",
       "      <td>1438969904567</td>\n",
       "      <td>[]</td>\n",
       "    </tr>\n",
       "  </tbody>\n",
       "</table>\n",
       "</div>"
      ],
      "text/plain": [
       "   visitorid  itemid      timestamp         lastview_item\n",
       "1          0  285930  1442004589439                    []\n",
       "2          0  357564  1442004759591            [285930.0]\n",
       "0          0   67045  1442004917175  [357564.0, 285930.0]\n",
       "3          1   72028  1439487966444                    []\n",
       "7          2  325215  1438969904567                    []"
      ]
     },
     "execution_count": 63,
     "metadata": {},
     "output_type": "execute_result"
    }
   ],
   "source": [
    "lastview_view[['visitorid', 'itemid', 'timestamp', 'lastview_item']].head()"
   ]
  },
  {
   "cell_type": "code",
   "execution_count": 64,
   "metadata": {},
   "outputs": [],
   "source": [
    "#### for non-view items"
   ]
  },
  {
   "cell_type": "code",
   "execution_count": 65,
   "metadata": {},
   "outputs": [],
   "source": [
    "lastview_addcart = event_fnl_dedup[event_fnl_dedup.event != 'view'].sort_values(['visitorid', 'timestamp'], ascending = [True, True])"
   ]
  },
  {
   "cell_type": "code",
   "execution_count": 66,
   "metadata": {},
   "outputs": [
    {
     "data": {
      "text/html": [
       "<div>\n",
       "<style scoped>\n",
       "    .dataframe tbody tr th:only-of-type {\n",
       "        vertical-align: middle;\n",
       "    }\n",
       "\n",
       "    .dataframe tbody tr th {\n",
       "        vertical-align: top;\n",
       "    }\n",
       "\n",
       "    .dataframe thead th {\n",
       "        text-align: right;\n",
       "    }\n",
       "</style>\n",
       "<table border=\"1\" class=\"dataframe\">\n",
       "  <thead>\n",
       "    <tr style=\"text-align: right;\">\n",
       "      <th></th>\n",
       "      <th>visitorid</th>\n",
       "      <th>itemid</th>\n",
       "      <th>timestamp</th>\n",
       "      <th>event</th>\n",
       "      <th>transactionid</th>\n",
       "      <th>datetime</th>\n",
       "    </tr>\n",
       "  </thead>\n",
       "  <tbody>\n",
       "    <tr>\n",
       "      <th>15</th>\n",
       "      <td>6</td>\n",
       "      <td>65273</td>\n",
       "      <td>1440914628202</td>\n",
       "      <td>addtocart</td>\n",
       "      <td>NaN</td>\n",
       "      <td>2015-08-30 06:03:48</td>\n",
       "    </tr>\n",
       "    <tr>\n",
       "      <th>278</th>\n",
       "      <td>150</td>\n",
       "      <td>452955</td>\n",
       "      <td>1433719818230</td>\n",
       "      <td>addtocart</td>\n",
       "      <td>NaN</td>\n",
       "      <td>2015-06-07 23:30:18</td>\n",
       "    </tr>\n",
       "    <tr>\n",
       "      <th>293</th>\n",
       "      <td>155</td>\n",
       "      <td>368372</td>\n",
       "      <td>1441951932678</td>\n",
       "      <td>addtocart</td>\n",
       "      <td>NaN</td>\n",
       "      <td>2015-09-11 06:12:12</td>\n",
       "    </tr>\n",
       "    <tr>\n",
       "      <th>297</th>\n",
       "      <td>155</td>\n",
       "      <td>452082</td>\n",
       "      <td>1441951937583</td>\n",
       "      <td>addtocart</td>\n",
       "      <td>NaN</td>\n",
       "      <td>2015-09-11 06:12:17</td>\n",
       "    </tr>\n",
       "    <tr>\n",
       "      <th>291</th>\n",
       "      <td>155</td>\n",
       "      <td>181405</td>\n",
       "      <td>1441951967871</td>\n",
       "      <td>addtocart</td>\n",
       "      <td>NaN</td>\n",
       "      <td>2015-09-11 06:12:47</td>\n",
       "    </tr>\n",
       "  </tbody>\n",
       "</table>\n",
       "</div>"
      ],
      "text/plain": [
       "     visitorid  itemid      timestamp      event  transactionid  \\\n",
       "15           6   65273  1440914628202  addtocart            NaN   \n",
       "278        150  452955  1433719818230  addtocart            NaN   \n",
       "293        155  368372  1441951932678  addtocart            NaN   \n",
       "297        155  452082  1441951937583  addtocart            NaN   \n",
       "291        155  181405  1441951967871  addtocart            NaN   \n",
       "\n",
       "                datetime  \n",
       "15   2015-08-30 06:03:48  \n",
       "278  2015-06-07 23:30:18  \n",
       "293  2015-09-11 06:12:12  \n",
       "297  2015-09-11 06:12:17  \n",
       "291  2015-09-11 06:12:47  "
      ]
     },
     "execution_count": 66,
     "metadata": {},
     "output_type": "execute_result"
    }
   ],
   "source": [
    "lastview_addcart.head()"
   ]
  },
  {
   "cell_type": "code",
   "execution_count": 67,
   "metadata": {},
   "outputs": [],
   "source": [
    "### step-by-step to find last view item"
   ]
  },
  {
   "cell_type": "code",
   "execution_count": 68,
   "metadata": {},
   "outputs": [],
   "source": [
    "df1 = lastview_addcart.merge(lastview_view[['visitorid', 'itemid', 'timestamp']].rename(\n",
    "columns={\"itemid\": \"lastview_item\", \"timestamp\": \"lastview_time\"}), how = 'left')"
   ]
  },
  {
   "cell_type": "code",
   "execution_count": 69,
   "metadata": {},
   "outputs": [
    {
     "data": {
      "text/html": [
       "<div>\n",
       "<style scoped>\n",
       "    .dataframe tbody tr th:only-of-type {\n",
       "        vertical-align: middle;\n",
       "    }\n",
       "\n",
       "    .dataframe tbody tr th {\n",
       "        vertical-align: top;\n",
       "    }\n",
       "\n",
       "    .dataframe thead th {\n",
       "        text-align: right;\n",
       "    }\n",
       "</style>\n",
       "<table border=\"1\" class=\"dataframe\">\n",
       "  <thead>\n",
       "    <tr style=\"text-align: right;\">\n",
       "      <th></th>\n",
       "      <th>visitorid</th>\n",
       "      <th>itemid</th>\n",
       "      <th>timestamp</th>\n",
       "      <th>event</th>\n",
       "      <th>transactionid</th>\n",
       "      <th>datetime</th>\n",
       "      <th>lastview_item</th>\n",
       "      <th>lastview_time</th>\n",
       "    </tr>\n",
       "  </thead>\n",
       "  <tbody>\n",
       "    <tr>\n",
       "      <th>0</th>\n",
       "      <td>6</td>\n",
       "      <td>65273</td>\n",
       "      <td>1440914628202</td>\n",
       "      <td>addtocart</td>\n",
       "      <td>NaN</td>\n",
       "      <td>2015-08-30 06:03:48</td>\n",
       "      <td>253615.0</td>\n",
       "      <td>1.440917e+12</td>\n",
       "    </tr>\n",
       "    <tr>\n",
       "      <th>1</th>\n",
       "      <td>6</td>\n",
       "      <td>65273</td>\n",
       "      <td>1440914628202</td>\n",
       "      <td>addtocart</td>\n",
       "      <td>NaN</td>\n",
       "      <td>2015-08-30 06:03:48</td>\n",
       "      <td>344723.0</td>\n",
       "      <td>1.440917e+12</td>\n",
       "    </tr>\n",
       "    <tr>\n",
       "      <th>2</th>\n",
       "      <td>6</td>\n",
       "      <td>65273</td>\n",
       "      <td>1440914628202</td>\n",
       "      <td>addtocart</td>\n",
       "      <td>NaN</td>\n",
       "      <td>2015-08-30 06:03:48</td>\n",
       "      <td>344723.0</td>\n",
       "      <td>1.440918e+12</td>\n",
       "    </tr>\n",
       "    <tr>\n",
       "      <th>3</th>\n",
       "      <td>6</td>\n",
       "      <td>65273</td>\n",
       "      <td>1440914628202</td>\n",
       "      <td>addtocart</td>\n",
       "      <td>NaN</td>\n",
       "      <td>2015-08-30 06:03:48</td>\n",
       "      <td>344723.0</td>\n",
       "      <td>1.440918e+12</td>\n",
       "    </tr>\n",
       "    <tr>\n",
       "      <th>4</th>\n",
       "      <td>6</td>\n",
       "      <td>65273</td>\n",
       "      <td>1440914628202</td>\n",
       "      <td>addtocart</td>\n",
       "      <td>NaN</td>\n",
       "      <td>2015-08-30 06:03:48</td>\n",
       "      <td>344723.0</td>\n",
       "      <td>1.440991e+12</td>\n",
       "    </tr>\n",
       "  </tbody>\n",
       "</table>\n",
       "</div>"
      ],
      "text/plain": [
       "   visitorid  itemid      timestamp      event  transactionid  \\\n",
       "0          6   65273  1440914628202  addtocart            NaN   \n",
       "1          6   65273  1440914628202  addtocart            NaN   \n",
       "2          6   65273  1440914628202  addtocart            NaN   \n",
       "3          6   65273  1440914628202  addtocart            NaN   \n",
       "4          6   65273  1440914628202  addtocart            NaN   \n",
       "\n",
       "              datetime  lastview_item  lastview_time  \n",
       "0  2015-08-30 06:03:48       253615.0   1.440917e+12  \n",
       "1  2015-08-30 06:03:48       344723.0   1.440917e+12  \n",
       "2  2015-08-30 06:03:48       344723.0   1.440918e+12  \n",
       "3  2015-08-30 06:03:48       344723.0   1.440918e+12  \n",
       "4  2015-08-30 06:03:48       344723.0   1.440991e+12  "
      ]
     },
     "execution_count": 69,
     "metadata": {},
     "output_type": "execute_result"
    }
   ],
   "source": [
    "df1.head()"
   ]
  },
  {
   "cell_type": "code",
   "execution_count": 70,
   "metadata": {},
   "outputs": [],
   "source": [
    "df2 = df1[df1.lastview_time<df1.timestamp]"
   ]
  },
  {
   "cell_type": "code",
   "execution_count": 71,
   "metadata": {},
   "outputs": [
    {
     "name": "stderr",
     "output_type": "stream",
     "text": [
      "<ipython-input-71-c46d0f0f3865>:1: SettingWithCopyWarning: \n",
      "A value is trying to be set on a copy of a slice from a DataFrame.\n",
      "Try using .loc[row_indexer,col_indexer] = value instead\n",
      "\n",
      "See the caveats in the documentation: https://pandas.pydata.org/pandas-docs/stable/user_guide/indexing.html#returning-a-view-versus-a-copy\n",
      "  df2['lastview_time_diff'] = df2['timestamp'] - df2['lastview_time']\n"
     ]
    }
   ],
   "source": [
    "df2['lastview_time_diff'] = df2['timestamp'] - df2['lastview_time']"
   ]
  },
  {
   "cell_type": "code",
   "execution_count": 72,
   "metadata": {},
   "outputs": [],
   "source": [
    "df3 = df2.groupby(['visitorid', 'itemid', 'timestamp'])['lastview_time_diff'].nsmallest(3)"
   ]
  },
  {
   "cell_type": "code",
   "execution_count": 73,
   "metadata": {},
   "outputs": [],
   "source": [
    "df3 = df3.reset_index()"
   ]
  },
  {
   "cell_type": "code",
   "execution_count": 74,
   "metadata": {},
   "outputs": [
    {
     "data": {
      "text/plain": [
       "Index(['visitorid', 'itemid', 'timestamp', 'level_3', 'lastview_time_diff'], dtype='object')"
      ]
     },
     "execution_count": 74,
     "metadata": {},
     "output_type": "execute_result"
    }
   ],
   "source": [
    "df3.columns"
   ]
  },
  {
   "cell_type": "code",
   "execution_count": 75,
   "metadata": {},
   "outputs": [],
   "source": [
    "### merge get lastview_item (most recent 3)"
   ]
  },
  {
   "cell_type": "code",
   "execution_count": 76,
   "metadata": {},
   "outputs": [],
   "source": [
    "df4 = df2[['visitorid', 'itemid', 'timestamp', 'lastview_item', 'lastview_time_diff']].merge(df3, how = 'left')"
   ]
  },
  {
   "cell_type": "code",
   "execution_count": 77,
   "metadata": {},
   "outputs": [],
   "source": [
    "df5 = df4[df4.level_3.notna()].groupby(['visitorid', 'itemid', 'timestamp'])['lastview_item'].apply(lambda x: list(np.unique(x))).reset_index()"
   ]
  },
  {
   "cell_type": "code",
   "execution_count": 78,
   "metadata": {},
   "outputs": [],
   "source": [
    "### merge"
   ]
  },
  {
   "cell_type": "code",
   "execution_count": 79,
   "metadata": {},
   "outputs": [],
   "source": [
    "lastview_item_list = lastview_addcart[['visitorid', 'itemid', 'timestamp']].merge(df5, how = 'left').append(lastview_view[['visitorid', 'itemid', 'timestamp', 'lastview_item']])"
   ]
  },
  {
   "cell_type": "markdown",
   "metadata": {},
   "source": [
    "### item viewed before, viewed times, time from first view, time from last view"
   ]
  },
  {
   "cell_type": "code",
   "execution_count": 81,
   "metadata": {},
   "outputs": [],
   "source": [
    "cur_view = event_fnl_dedup[['visitorid', 'itemid', 'timestamp', 'event']].copy().rename(columns = {'timestamp': 'curview_time', 'event': 'cur_event'})"
   ]
  },
  {
   "cell_type": "code",
   "execution_count": 82,
   "metadata": {},
   "outputs": [],
   "source": [
    "prev_view = event_fnl_dedup[['visitorid', 'itemid', 'timestamp', 'event']].copy().rename(columns = {'timestamp': 'preview_time', 'event': 'prev_event'})"
   ]
  },
  {
   "cell_type": "code",
   "execution_count": 83,
   "metadata": {},
   "outputs": [],
   "source": [
    "prev_view['match'] = 1"
   ]
  },
  {
   "cell_type": "code",
   "execution_count": 84,
   "metadata": {},
   "outputs": [
    {
     "data": {
      "text/html": [
       "<div>\n",
       "<style scoped>\n",
       "    .dataframe tbody tr th:only-of-type {\n",
       "        vertical-align: middle;\n",
       "    }\n",
       "\n",
       "    .dataframe tbody tr th {\n",
       "        vertical-align: top;\n",
       "    }\n",
       "\n",
       "    .dataframe thead th {\n",
       "        text-align: right;\n",
       "    }\n",
       "</style>\n",
       "<table border=\"1\" class=\"dataframe\">\n",
       "  <thead>\n",
       "    <tr style=\"text-align: right;\">\n",
       "      <th></th>\n",
       "      <th>visitorid</th>\n",
       "      <th>itemid</th>\n",
       "      <th>curview_time</th>\n",
       "      <th>cur_event</th>\n",
       "    </tr>\n",
       "  </thead>\n",
       "  <tbody>\n",
       "    <tr>\n",
       "      <th>0</th>\n",
       "      <td>0</td>\n",
       "      <td>67045</td>\n",
       "      <td>1442004917175</td>\n",
       "      <td>view</td>\n",
       "    </tr>\n",
       "    <tr>\n",
       "      <th>1</th>\n",
       "      <td>0</td>\n",
       "      <td>285930</td>\n",
       "      <td>1442004589439</td>\n",
       "      <td>view</td>\n",
       "    </tr>\n",
       "    <tr>\n",
       "      <th>2</th>\n",
       "      <td>0</td>\n",
       "      <td>357564</td>\n",
       "      <td>1442004759591</td>\n",
       "      <td>view</td>\n",
       "    </tr>\n",
       "    <tr>\n",
       "      <th>3</th>\n",
       "      <td>1</td>\n",
       "      <td>72028</td>\n",
       "      <td>1439487966444</td>\n",
       "      <td>view</td>\n",
       "    </tr>\n",
       "    <tr>\n",
       "      <th>4</th>\n",
       "      <td>2</td>\n",
       "      <td>216305</td>\n",
       "      <td>1438970468920</td>\n",
       "      <td>view</td>\n",
       "    </tr>\n",
       "  </tbody>\n",
       "</table>\n",
       "</div>"
      ],
      "text/plain": [
       "   visitorid  itemid   curview_time cur_event\n",
       "0          0   67045  1442004917175      view\n",
       "1          0  285930  1442004589439      view\n",
       "2          0  357564  1442004759591      view\n",
       "3          1   72028  1439487966444      view\n",
       "4          2  216305  1438970468920      view"
      ]
     },
     "execution_count": 84,
     "metadata": {},
     "output_type": "execute_result"
    }
   ],
   "source": [
    "cur_view.head()"
   ]
  },
  {
   "cell_type": "code",
   "execution_count": 85,
   "metadata": {},
   "outputs": [],
   "source": [
    "viewmatch = cur_view.merge(prev_view, how = 'left')"
   ]
  },
  {
   "cell_type": "code",
   "execution_count": 86,
   "metadata": {},
   "outputs": [],
   "source": [
    "#### step by step remove"
   ]
  },
  {
   "cell_type": "code",
   "execution_count": 87,
   "metadata": {},
   "outputs": [
    {
     "data": {
      "text/plain": [
       "(6792660, 7)"
      ]
     },
     "execution_count": 87,
     "metadata": {},
     "output_type": "execute_result"
    }
   ],
   "source": [
    "viewmatch.shape"
   ]
  },
  {
   "cell_type": "code",
   "execution_count": 88,
   "metadata": {},
   "outputs": [],
   "source": [
    "df1 = viewmatch[(viewmatch.curview_time>viewmatch.preview_time)&(viewmatch.prev_event=='view')]"
   ]
  },
  {
   "cell_type": "code",
   "execution_count": 89,
   "metadata": {},
   "outputs": [
    {
     "data": {
      "text/html": [
       "<div>\n",
       "<style scoped>\n",
       "    .dataframe tbody tr th:only-of-type {\n",
       "        vertical-align: middle;\n",
       "    }\n",
       "\n",
       "    .dataframe tbody tr th {\n",
       "        vertical-align: top;\n",
       "    }\n",
       "\n",
       "    .dataframe thead th {\n",
       "        text-align: right;\n",
       "    }\n",
       "</style>\n",
       "<table border=\"1\" class=\"dataframe\">\n",
       "  <thead>\n",
       "    <tr style=\"text-align: right;\">\n",
       "      <th></th>\n",
       "      <th>visitorid</th>\n",
       "      <th>itemid</th>\n",
       "      <th>curview_time</th>\n",
       "      <th>cur_event</th>\n",
       "      <th>preview_time</th>\n",
       "      <th>prev_event</th>\n",
       "      <th>match</th>\n",
       "    </tr>\n",
       "  </thead>\n",
       "  <tbody>\n",
       "    <tr>\n",
       "      <th>6</th>\n",
       "      <td>2</td>\n",
       "      <td>216305</td>\n",
       "      <td>1438971463170</td>\n",
       "      <td>view</td>\n",
       "      <td>1438970468920</td>\n",
       "      <td>view</td>\n",
       "      <td>1</td>\n",
       "    </tr>\n",
       "    <tr>\n",
       "      <th>12</th>\n",
       "      <td>2</td>\n",
       "      <td>325215</td>\n",
       "      <td>1438970013790</td>\n",
       "      <td>view</td>\n",
       "      <td>1438969904567</td>\n",
       "      <td>view</td>\n",
       "      <td>1</td>\n",
       "    </tr>\n",
       "    <tr>\n",
       "      <th>15</th>\n",
       "      <td>2</td>\n",
       "      <td>325215</td>\n",
       "      <td>1438971657845</td>\n",
       "      <td>view</td>\n",
       "      <td>1438969904567</td>\n",
       "      <td>view</td>\n",
       "      <td>1</td>\n",
       "    </tr>\n",
       "    <tr>\n",
       "      <th>16</th>\n",
       "      <td>2</td>\n",
       "      <td>325215</td>\n",
       "      <td>1438971657845</td>\n",
       "      <td>view</td>\n",
       "      <td>1438970013790</td>\n",
       "      <td>view</td>\n",
       "      <td>1</td>\n",
       "    </tr>\n",
       "    <tr>\n",
       "      <th>20</th>\n",
       "      <td>2</td>\n",
       "      <td>342816</td>\n",
       "      <td>1438971444375</td>\n",
       "      <td>view</td>\n",
       "      <td>1438970905669</td>\n",
       "      <td>view</td>\n",
       "      <td>1</td>\n",
       "    </tr>\n",
       "  </tbody>\n",
       "</table>\n",
       "</div>"
      ],
      "text/plain": [
       "    visitorid  itemid   curview_time cur_event   preview_time prev_event  \\\n",
       "6           2  216305  1438971463170      view  1438970468920       view   \n",
       "12          2  325215  1438970013790      view  1438969904567       view   \n",
       "15          2  325215  1438971657845      view  1438969904567       view   \n",
       "16          2  325215  1438971657845      view  1438970013790       view   \n",
       "20          2  342816  1438971444375      view  1438970905669       view   \n",
       "\n",
       "    match  \n",
       "6       1  \n",
       "12      1  \n",
       "15      1  \n",
       "16      1  \n",
       "20      1  "
      ]
     },
     "execution_count": 89,
     "metadata": {},
     "output_type": "execute_result"
    }
   ],
   "source": [
    "df1.head()"
   ]
  },
  {
   "cell_type": "code",
   "execution_count": 90,
   "metadata": {},
   "outputs": [],
   "source": [
    "viewtimes = df1.groupby(['visitorid', 'itemid', 'curview_time']).match.count().reset_index().rename(columns = {'match': 'previewtimes'})"
   ]
  },
  {
   "cell_type": "code",
   "execution_count": 91,
   "metadata": {},
   "outputs": [
    {
     "data": {
      "text/plain": [
       "1904878"
      ]
     },
     "execution_count": 91,
     "metadata": {},
     "output_type": "execute_result"
    }
   ],
   "source": [
    "viewtimes.previewtimes.sum()"
   ]
  },
  {
   "cell_type": "code",
   "execution_count": 92,
   "metadata": {},
   "outputs": [
    {
     "data": {
      "text/plain": [
       "visitorid        int64\n",
       "itemid           int64\n",
       "curview_time     int64\n",
       "cur_event       object\n",
       "preview_time     int64\n",
       "prev_event      object\n",
       "match            int64\n",
       "dtype: object"
      ]
     },
     "execution_count": 92,
     "metadata": {},
     "output_type": "execute_result"
    }
   ],
   "source": [
    "df1.dtypes"
   ]
  },
  {
   "cell_type": "code",
   "execution_count": 93,
   "metadata": {},
   "outputs": [
    {
     "name": "stderr",
     "output_type": "stream",
     "text": [
      "<ipython-input-93-220ab9f1eac1>:1: SettingWithCopyWarning: \n",
      "A value is trying to be set on a copy of a slice from a DataFrame.\n",
      "Try using .loc[row_indexer,col_indexer] = value instead\n",
      "\n",
      "See the caveats in the documentation: https://pandas.pydata.org/pandas-docs/stable/user_guide/indexing.html#returning-a-view-versus-a-copy\n",
      "  df1['preview_time_dif'] = df1['curview_time'] - df1['preview_time']\n"
     ]
    }
   ],
   "source": [
    "df1['preview_time_dif'] = df1['curview_time'] - df1['preview_time']"
   ]
  },
  {
   "cell_type": "code",
   "execution_count": 94,
   "metadata": {},
   "outputs": [],
   "source": [
    "df2 = df1.sort_values(['visitorid', 'itemid', 'curview_time', 'preview_time_dif'], ascending = [True, True, True, False]).\\\n",
    "groupby(['visitorid', 'itemid', 'curview_time'])['preview_time_dif'].first().reset_index()"
   ]
  },
  {
   "cell_type": "code",
   "execution_count": 95,
   "metadata": {},
   "outputs": [],
   "source": [
    "df2['firstview_dif'] = df2['preview_time_dif']/60000"
   ]
  },
  {
   "cell_type": "code",
   "execution_count": 96,
   "metadata": {},
   "outputs": [],
   "source": [
    "firstview = df2[['visitorid', 'itemid', 'curview_time', 'firstview_dif']]"
   ]
  },
  {
   "cell_type": "code",
   "execution_count": 97,
   "metadata": {},
   "outputs": [],
   "source": [
    "### time from last view (min)"
   ]
  },
  {
   "cell_type": "code",
   "execution_count": 98,
   "metadata": {},
   "outputs": [],
   "source": [
    "df3 = df1.sort_values(['visitorid', 'itemid', 'curview_time', 'preview_time_dif'], ascending = [True, True, True, False]).\\\n",
    "groupby(['visitorid', 'itemid', 'curview_time'])['preview_time_dif'].last().reset_index()"
   ]
  },
  {
   "cell_type": "code",
   "execution_count": 99,
   "metadata": {},
   "outputs": [],
   "source": [
    "df3['lastview_dif'] = df3['preview_time_dif']/60000"
   ]
  },
  {
   "cell_type": "code",
   "execution_count": 100,
   "metadata": {},
   "outputs": [],
   "source": [
    "lastview = df3[['visitorid', 'itemid', 'curview_time', 'lastview_dif']]"
   ]
  },
  {
   "cell_type": "code",
   "execution_count": 101,
   "metadata": {},
   "outputs": [
    {
     "data": {
      "text/html": [
       "<div>\n",
       "<style scoped>\n",
       "    .dataframe tbody tr th:only-of-type {\n",
       "        vertical-align: middle;\n",
       "    }\n",
       "\n",
       "    .dataframe tbody tr th {\n",
       "        vertical-align: top;\n",
       "    }\n",
       "\n",
       "    .dataframe thead th {\n",
       "        text-align: right;\n",
       "    }\n",
       "</style>\n",
       "<table border=\"1\" class=\"dataframe\">\n",
       "  <thead>\n",
       "    <tr style=\"text-align: right;\">\n",
       "      <th></th>\n",
       "      <th>visitorid</th>\n",
       "      <th>itemid</th>\n",
       "      <th>curview_time</th>\n",
       "      <th>firstview_dif</th>\n",
       "    </tr>\n",
       "  </thead>\n",
       "  <tbody>\n",
       "    <tr>\n",
       "      <th>0</th>\n",
       "      <td>2</td>\n",
       "      <td>216305</td>\n",
       "      <td>1438971463170</td>\n",
       "      <td>16.570833</td>\n",
       "    </tr>\n",
       "    <tr>\n",
       "      <th>1</th>\n",
       "      <td>2</td>\n",
       "      <td>325215</td>\n",
       "      <td>1438970013790</td>\n",
       "      <td>1.820383</td>\n",
       "    </tr>\n",
       "    <tr>\n",
       "      <th>2</th>\n",
       "      <td>2</td>\n",
       "      <td>325215</td>\n",
       "      <td>1438971657845</td>\n",
       "      <td>29.221300</td>\n",
       "    </tr>\n",
       "    <tr>\n",
       "      <th>3</th>\n",
       "      <td>2</td>\n",
       "      <td>342816</td>\n",
       "      <td>1438971444375</td>\n",
       "      <td>8.978433</td>\n",
       "    </tr>\n",
       "    <tr>\n",
       "      <th>4</th>\n",
       "      <td>6</td>\n",
       "      <td>344723</td>\n",
       "      <td>1440917649385</td>\n",
       "      <td>13.759667</td>\n",
       "    </tr>\n",
       "    <tr>\n",
       "      <th>...</th>\n",
       "      <td>...</td>\n",
       "      <td>...</td>\n",
       "      <td>...</td>\n",
       "      <td>...</td>\n",
       "    </tr>\n",
       "    <tr>\n",
       "      <th>601979</th>\n",
       "      <td>1407530</td>\n",
       "      <td>455539</td>\n",
       "      <td>1437964161007</td>\n",
       "      <td>359.219167</td>\n",
       "    </tr>\n",
       "    <tr>\n",
       "      <th>601980</th>\n",
       "      <td>1407537</td>\n",
       "      <td>156770</td>\n",
       "      <td>1437505896838</td>\n",
       "      <td>35.931017</td>\n",
       "    </tr>\n",
       "    <tr>\n",
       "      <th>601981</th>\n",
       "      <td>1407560</td>\n",
       "      <td>240708</td>\n",
       "      <td>1436072351277</td>\n",
       "      <td>0.788100</td>\n",
       "    </tr>\n",
       "    <tr>\n",
       "      <th>601982</th>\n",
       "      <td>1407572</td>\n",
       "      <td>122041</td>\n",
       "      <td>1431738322384</td>\n",
       "      <td>7110.542833</td>\n",
       "    </tr>\n",
       "    <tr>\n",
       "      <th>601983</th>\n",
       "      <td>1407573</td>\n",
       "      <td>82278</td>\n",
       "      <td>1438648495146</td>\n",
       "      <td>2.123850</td>\n",
       "    </tr>\n",
       "  </tbody>\n",
       "</table>\n",
       "<p>601984 rows × 4 columns</p>\n",
       "</div>"
      ],
      "text/plain": [
       "        visitorid  itemid   curview_time  firstview_dif\n",
       "0               2  216305  1438971463170      16.570833\n",
       "1               2  325215  1438970013790       1.820383\n",
       "2               2  325215  1438971657845      29.221300\n",
       "3               2  342816  1438971444375       8.978433\n",
       "4               6  344723  1440917649385      13.759667\n",
       "...           ...     ...            ...            ...\n",
       "601979    1407530  455539  1437964161007     359.219167\n",
       "601980    1407537  156770  1437505896838      35.931017\n",
       "601981    1407560  240708  1436072351277       0.788100\n",
       "601982    1407572  122041  1431738322384    7110.542833\n",
       "601983    1407573   82278  1438648495146       2.123850\n",
       "\n",
       "[601984 rows x 4 columns]"
      ]
     },
     "execution_count": 101,
     "metadata": {},
     "output_type": "execute_result"
    }
   ],
   "source": [
    "firstview"
   ]
  },
  {
   "cell_type": "code",
   "execution_count": 102,
   "metadata": {},
   "outputs": [
    {
     "data": {
      "text/html": [
       "<div>\n",
       "<style scoped>\n",
       "    .dataframe tbody tr th:only-of-type {\n",
       "        vertical-align: middle;\n",
       "    }\n",
       "\n",
       "    .dataframe tbody tr th {\n",
       "        vertical-align: top;\n",
       "    }\n",
       "\n",
       "    .dataframe thead th {\n",
       "        text-align: right;\n",
       "    }\n",
       "</style>\n",
       "<table border=\"1\" class=\"dataframe\">\n",
       "  <thead>\n",
       "    <tr style=\"text-align: right;\">\n",
       "      <th></th>\n",
       "      <th>visitorid</th>\n",
       "      <th>itemid</th>\n",
       "      <th>curview_time</th>\n",
       "      <th>lastview_dif</th>\n",
       "    </tr>\n",
       "  </thead>\n",
       "  <tbody>\n",
       "    <tr>\n",
       "      <th>0</th>\n",
       "      <td>2</td>\n",
       "      <td>216305</td>\n",
       "      <td>1438971463170</td>\n",
       "      <td>16.570833</td>\n",
       "    </tr>\n",
       "    <tr>\n",
       "      <th>1</th>\n",
       "      <td>2</td>\n",
       "      <td>325215</td>\n",
       "      <td>1438970013790</td>\n",
       "      <td>1.820383</td>\n",
       "    </tr>\n",
       "    <tr>\n",
       "      <th>2</th>\n",
       "      <td>2</td>\n",
       "      <td>325215</td>\n",
       "      <td>1438971657845</td>\n",
       "      <td>27.400917</td>\n",
       "    </tr>\n",
       "    <tr>\n",
       "      <th>3</th>\n",
       "      <td>2</td>\n",
       "      <td>342816</td>\n",
       "      <td>1438971444375</td>\n",
       "      <td>8.978433</td>\n",
       "    </tr>\n",
       "    <tr>\n",
       "      <th>4</th>\n",
       "      <td>6</td>\n",
       "      <td>344723</td>\n",
       "      <td>1440917649385</td>\n",
       "      <td>13.759667</td>\n",
       "    </tr>\n",
       "    <tr>\n",
       "      <th>...</th>\n",
       "      <td>...</td>\n",
       "      <td>...</td>\n",
       "      <td>...</td>\n",
       "      <td>...</td>\n",
       "    </tr>\n",
       "    <tr>\n",
       "      <th>601979</th>\n",
       "      <td>1407530</td>\n",
       "      <td>455539</td>\n",
       "      <td>1437964161007</td>\n",
       "      <td>359.219167</td>\n",
       "    </tr>\n",
       "    <tr>\n",
       "      <th>601980</th>\n",
       "      <td>1407537</td>\n",
       "      <td>156770</td>\n",
       "      <td>1437505896838</td>\n",
       "      <td>35.931017</td>\n",
       "    </tr>\n",
       "    <tr>\n",
       "      <th>601981</th>\n",
       "      <td>1407560</td>\n",
       "      <td>240708</td>\n",
       "      <td>1436072351277</td>\n",
       "      <td>0.788100</td>\n",
       "    </tr>\n",
       "    <tr>\n",
       "      <th>601982</th>\n",
       "      <td>1407572</td>\n",
       "      <td>122041</td>\n",
       "      <td>1431738322384</td>\n",
       "      <td>7110.542833</td>\n",
       "    </tr>\n",
       "    <tr>\n",
       "      <th>601983</th>\n",
       "      <td>1407573</td>\n",
       "      <td>82278</td>\n",
       "      <td>1438648495146</td>\n",
       "      <td>2.123850</td>\n",
       "    </tr>\n",
       "  </tbody>\n",
       "</table>\n",
       "<p>601984 rows × 4 columns</p>\n",
       "</div>"
      ],
      "text/plain": [
       "        visitorid  itemid   curview_time  lastview_dif\n",
       "0               2  216305  1438971463170     16.570833\n",
       "1               2  325215  1438970013790      1.820383\n",
       "2               2  325215  1438971657845     27.400917\n",
       "3               2  342816  1438971444375      8.978433\n",
       "4               6  344723  1440917649385     13.759667\n",
       "...           ...     ...            ...           ...\n",
       "601979    1407530  455539  1437964161007    359.219167\n",
       "601980    1407537  156770  1437505896838     35.931017\n",
       "601981    1407560  240708  1436072351277      0.788100\n",
       "601982    1407572  122041  1431738322384   7110.542833\n",
       "601983    1407573   82278  1438648495146      2.123850\n",
       "\n",
       "[601984 rows x 4 columns]"
      ]
     },
     "execution_count": 102,
     "metadata": {},
     "output_type": "execute_result"
    }
   ],
   "source": [
    "lastview"
   ]
  },
  {
   "cell_type": "markdown",
   "metadata": {},
   "source": [
    "### previous addtocart items"
   ]
  },
  {
   "cell_type": "code",
   "execution_count": 103,
   "metadata": {},
   "outputs": [
    {
     "data": {
      "text/html": [
       "<div>\n",
       "<style scoped>\n",
       "    .dataframe tbody tr th:only-of-type {\n",
       "        vertical-align: middle;\n",
       "    }\n",
       "\n",
       "    .dataframe tbody tr th {\n",
       "        vertical-align: top;\n",
       "    }\n",
       "\n",
       "    .dataframe thead th {\n",
       "        text-align: right;\n",
       "    }\n",
       "</style>\n",
       "<table border=\"1\" class=\"dataframe\">\n",
       "  <thead>\n",
       "    <tr style=\"text-align: right;\">\n",
       "      <th></th>\n",
       "      <th>visitorid</th>\n",
       "      <th>itemid</th>\n",
       "      <th>timestamp</th>\n",
       "      <th>event</th>\n",
       "      <th>transactionid</th>\n",
       "      <th>datetime</th>\n",
       "    </tr>\n",
       "  </thead>\n",
       "  <tbody>\n",
       "    <tr>\n",
       "      <th>0</th>\n",
       "      <td>0</td>\n",
       "      <td>67045</td>\n",
       "      <td>1442004917175</td>\n",
       "      <td>view</td>\n",
       "      <td>NaN</td>\n",
       "      <td>2015-09-11 20:55:17</td>\n",
       "    </tr>\n",
       "    <tr>\n",
       "      <th>1</th>\n",
       "      <td>0</td>\n",
       "      <td>285930</td>\n",
       "      <td>1442004589439</td>\n",
       "      <td>view</td>\n",
       "      <td>NaN</td>\n",
       "      <td>2015-09-11 20:49:49</td>\n",
       "    </tr>\n",
       "    <tr>\n",
       "      <th>2</th>\n",
       "      <td>0</td>\n",
       "      <td>357564</td>\n",
       "      <td>1442004759591</td>\n",
       "      <td>view</td>\n",
       "      <td>NaN</td>\n",
       "      <td>2015-09-11 20:52:39</td>\n",
       "    </tr>\n",
       "    <tr>\n",
       "      <th>3</th>\n",
       "      <td>1</td>\n",
       "      <td>72028</td>\n",
       "      <td>1439487966444</td>\n",
       "      <td>view</td>\n",
       "      <td>NaN</td>\n",
       "      <td>2015-08-13 17:46:06</td>\n",
       "    </tr>\n",
       "    <tr>\n",
       "      <th>4</th>\n",
       "      <td>2</td>\n",
       "      <td>216305</td>\n",
       "      <td>1438970468920</td>\n",
       "      <td>view</td>\n",
       "      <td>NaN</td>\n",
       "      <td>2015-08-07 18:01:08</td>\n",
       "    </tr>\n",
       "  </tbody>\n",
       "</table>\n",
       "</div>"
      ],
      "text/plain": [
       "   visitorid  itemid      timestamp event  transactionid             datetime\n",
       "0          0   67045  1442004917175  view            NaN  2015-09-11 20:55:17\n",
       "1          0  285930  1442004589439  view            NaN  2015-09-11 20:49:49\n",
       "2          0  357564  1442004759591  view            NaN  2015-09-11 20:52:39\n",
       "3          1   72028  1439487966444  view            NaN  2015-08-13 17:46:06\n",
       "4          2  216305  1438970468920  view            NaN  2015-08-07 18:01:08"
      ]
     },
     "execution_count": 103,
     "metadata": {},
     "output_type": "execute_result"
    }
   ],
   "source": [
    "event_fnl_dedup.head()"
   ]
  },
  {
   "cell_type": "code",
   "execution_count": 104,
   "metadata": {},
   "outputs": [
    {
     "data": {
      "text/plain": [
       "view           2664212\n",
       "addtocart        68961\n",
       "transaction      22457\n",
       "Name: event, dtype: int64"
      ]
     },
     "execution_count": 104,
     "metadata": {},
     "output_type": "execute_result"
    }
   ],
   "source": [
    "event_fnl_dedup.event.value_counts()"
   ]
  },
  {
   "cell_type": "code",
   "execution_count": 105,
   "metadata": {},
   "outputs": [
    {
     "data": {
      "text/plain": [
       "visitorid  itemid  timestamp    \n",
       "1407579    2521    1435184526978    1\n",
       "468309     233971  1435864972204    1\n",
       "           240405  1433270820140    1\n",
       "                   1433184547895    1\n",
       "                   1432925823272    1\n",
       "                                   ..\n",
       "935325     104730  1430959438112    1\n",
       "                   1430959428453    1\n",
       "           104634  1430963009931    1\n",
       "           98835   1431035593894    1\n",
       "0          67045   1442004917175    1\n",
       "Length: 2755630, dtype: int64"
      ]
     },
     "execution_count": 105,
     "metadata": {},
     "output_type": "execute_result"
    }
   ],
   "source": [
    "event_fnl_dedup[['visitorid', 'itemid', 'timestamp']].value_counts()"
   ]
  },
  {
   "cell_type": "code",
   "execution_count": 106,
   "metadata": {},
   "outputs": [],
   "source": [
    "pre_add = event_fnl_dedup[event_fnl_dedup.event == 'addtocart'][['visitorid', 'itemid', 'timestamp']].rename(\n",
    "columns={\"itemid\": \"addcart_item\", \"timestamp\": \"addcart_time\"})"
   ]
  },
  {
   "cell_type": "code",
   "execution_count": 107,
   "metadata": {},
   "outputs": [
    {
     "data": {
      "text/html": [
       "<div>\n",
       "<style scoped>\n",
       "    .dataframe tbody tr th:only-of-type {\n",
       "        vertical-align: middle;\n",
       "    }\n",
       "\n",
       "    .dataframe tbody tr th {\n",
       "        vertical-align: top;\n",
       "    }\n",
       "\n",
       "    .dataframe thead th {\n",
       "        text-align: right;\n",
       "    }\n",
       "</style>\n",
       "<table border=\"1\" class=\"dataframe\">\n",
       "  <thead>\n",
       "    <tr style=\"text-align: right;\">\n",
       "      <th></th>\n",
       "      <th>visitorid</th>\n",
       "      <th>addcart_item</th>\n",
       "      <th>addcart_time</th>\n",
       "    </tr>\n",
       "  </thead>\n",
       "  <tbody>\n",
       "    <tr>\n",
       "      <th>15</th>\n",
       "      <td>6</td>\n",
       "      <td>65273</td>\n",
       "      <td>1440914628202</td>\n",
       "    </tr>\n",
       "    <tr>\n",
       "      <th>278</th>\n",
       "      <td>150</td>\n",
       "      <td>452955</td>\n",
       "      <td>1433719818230</td>\n",
       "    </tr>\n",
       "    <tr>\n",
       "      <th>284</th>\n",
       "      <td>155</td>\n",
       "      <td>41882</td>\n",
       "      <td>1441952264613</td>\n",
       "    </tr>\n",
       "    <tr>\n",
       "      <th>291</th>\n",
       "      <td>155</td>\n",
       "      <td>181405</td>\n",
       "      <td>1441951967871</td>\n",
       "    </tr>\n",
       "    <tr>\n",
       "      <th>292</th>\n",
       "      <td>155</td>\n",
       "      <td>224623</td>\n",
       "      <td>1441952340395</td>\n",
       "    </tr>\n",
       "    <tr>\n",
       "      <th>...</th>\n",
       "      <td>...</td>\n",
       "      <td>...</td>\n",
       "      <td>...</td>\n",
       "    </tr>\n",
       "    <tr>\n",
       "      <th>2755520</th>\n",
       "      <td>1407512</td>\n",
       "      <td>326819</td>\n",
       "      <td>1432953176327</td>\n",
       "    </tr>\n",
       "    <tr>\n",
       "      <th>2755522</th>\n",
       "      <td>1407512</td>\n",
       "      <td>334964</td>\n",
       "      <td>1432953337757</td>\n",
       "    </tr>\n",
       "    <tr>\n",
       "      <th>2755527</th>\n",
       "      <td>1407512</td>\n",
       "      <td>398091</td>\n",
       "      <td>1432954196910</td>\n",
       "    </tr>\n",
       "    <tr>\n",
       "      <th>2755529</th>\n",
       "      <td>1407512</td>\n",
       "      <td>398533</td>\n",
       "      <td>1432954281393</td>\n",
       "    </tr>\n",
       "    <tr>\n",
       "      <th>2755538</th>\n",
       "      <td>1407515</td>\n",
       "      <td>193218</td>\n",
       "      <td>1434155002730</td>\n",
       "    </tr>\n",
       "  </tbody>\n",
       "</table>\n",
       "<p>68961 rows × 3 columns</p>\n",
       "</div>"
      ],
      "text/plain": [
       "         visitorid  addcart_item   addcart_time\n",
       "15               6         65273  1440914628202\n",
       "278            150        452955  1433719818230\n",
       "284            155         41882  1441952264613\n",
       "291            155        181405  1441951967871\n",
       "292            155        224623  1441952340395\n",
       "...            ...           ...            ...\n",
       "2755520    1407512        326819  1432953176327\n",
       "2755522    1407512        334964  1432953337757\n",
       "2755527    1407512        398091  1432954196910\n",
       "2755529    1407512        398533  1432954281393\n",
       "2755538    1407515        193218  1434155002730\n",
       "\n",
       "[68961 rows x 3 columns]"
      ]
     },
     "execution_count": 107,
     "metadata": {},
     "output_type": "execute_result"
    }
   ],
   "source": [
    "pre_add"
   ]
  },
  {
   "cell_type": "code",
   "execution_count": 108,
   "metadata": {},
   "outputs": [],
   "source": [
    "### merge with event_fnl_dedup by visitorid"
   ]
  },
  {
   "cell_type": "code",
   "execution_count": 109,
   "metadata": {},
   "outputs": [],
   "source": [
    "event_fnl_addcart = event_fnl_dedup.merge(pre_add, how = 'left')"
   ]
  },
  {
   "cell_type": "code",
   "execution_count": 110,
   "metadata": {},
   "outputs": [],
   "source": [
    "### clean"
   ]
  },
  {
   "cell_type": "code",
   "execution_count": 111,
   "metadata": {},
   "outputs": [],
   "source": [
    "event_fnl_addcart.loc[(event_fnl_addcart.addcart_time>=event_fnl_addcart.timestamp), 'addcart_item'] = np.nan"
   ]
  },
  {
   "cell_type": "code",
   "execution_count": 112,
   "metadata": {},
   "outputs": [
    {
     "data": {
      "text/html": [
       "<div>\n",
       "<style scoped>\n",
       "    .dataframe tbody tr th:only-of-type {\n",
       "        vertical-align: middle;\n",
       "    }\n",
       "\n",
       "    .dataframe tbody tr th {\n",
       "        vertical-align: top;\n",
       "    }\n",
       "\n",
       "    .dataframe thead th {\n",
       "        text-align: right;\n",
       "    }\n",
       "</style>\n",
       "<table border=\"1\" class=\"dataframe\">\n",
       "  <thead>\n",
       "    <tr style=\"text-align: right;\">\n",
       "      <th></th>\n",
       "      <th>visitorid</th>\n",
       "      <th>itemid</th>\n",
       "      <th>timestamp</th>\n",
       "      <th>addcart_item</th>\n",
       "      <th>addcart_time</th>\n",
       "    </tr>\n",
       "  </thead>\n",
       "  <tbody>\n",
       "    <tr>\n",
       "      <th>16</th>\n",
       "      <td>6</td>\n",
       "      <td>253615</td>\n",
       "      <td>1440916778318</td>\n",
       "      <td>65273.0</td>\n",
       "      <td>1.440915e+12</td>\n",
       "    </tr>\n",
       "    <tr>\n",
       "      <th>17</th>\n",
       "      <td>6</td>\n",
       "      <td>344723</td>\n",
       "      <td>1440916823805</td>\n",
       "      <td>65273.0</td>\n",
       "      <td>1.440915e+12</td>\n",
       "    </tr>\n",
       "    <tr>\n",
       "      <th>18</th>\n",
       "      <td>6</td>\n",
       "      <td>344723</td>\n",
       "      <td>1440917649385</td>\n",
       "      <td>65273.0</td>\n",
       "      <td>1.440915e+12</td>\n",
       "    </tr>\n",
       "    <tr>\n",
       "      <th>19</th>\n",
       "      <td>6</td>\n",
       "      <td>344723</td>\n",
       "      <td>1440917793838</td>\n",
       "      <td>65273.0</td>\n",
       "      <td>1.440915e+12</td>\n",
       "    </tr>\n",
       "    <tr>\n",
       "      <th>20</th>\n",
       "      <td>6</td>\n",
       "      <td>344723</td>\n",
       "      <td>1440991285697</td>\n",
       "      <td>65273.0</td>\n",
       "      <td>1.440915e+12</td>\n",
       "    </tr>\n",
       "  </tbody>\n",
       "</table>\n",
       "</div>"
      ],
      "text/plain": [
       "    visitorid  itemid      timestamp  addcart_item  addcart_time\n",
       "16          6  253615  1440916778318       65273.0  1.440915e+12\n",
       "17          6  344723  1440916823805       65273.0  1.440915e+12\n",
       "18          6  344723  1440917649385       65273.0  1.440915e+12\n",
       "19          6  344723  1440917793838       65273.0  1.440915e+12\n",
       "20          6  344723  1440991285697       65273.0  1.440915e+12"
      ]
     },
     "execution_count": 112,
     "metadata": {},
     "output_type": "execute_result"
    }
   ],
   "source": [
    "event_fnl_addcart[event_fnl_addcart.addcart_item.notna()][['visitorid', 'itemid', 'timestamp', 'addcart_item', 'addcart_time']].head()"
   ]
  },
  {
   "cell_type": "code",
   "execution_count": 113,
   "metadata": {},
   "outputs": [
    {
     "data": {
      "text/plain": [
       "visitorid  itemid  timestamp    \n",
       "1150086    198285  1437864573337    719\n",
       "           384302  1440116210326    719\n",
       "           385355  1435353662824    719\n",
       "                   1435353271006    719\n",
       "           385148  1437507124642    719\n",
       "                                   ... \n",
       "914438     109420  1438013619171      1\n",
       "914437     51650   1439908265593      1\n",
       "                   1439907843717      1\n",
       "914436     218126  1441106625610      1\n",
       "0          67045   1442004917175      1\n",
       "Length: 2755630, dtype: int64"
      ]
     },
     "execution_count": 113,
     "metadata": {},
     "output_type": "execute_result"
    }
   ],
   "source": [
    "event_fnl_addcart[['visitorid', 'itemid', 'timestamp']].value_counts()"
   ]
  },
  {
   "cell_type": "code",
   "execution_count": 114,
   "metadata": {},
   "outputs": [],
   "source": [
    "### prev addcart list and merge"
   ]
  },
  {
   "cell_type": "code",
   "execution_count": 115,
   "metadata": {},
   "outputs": [],
   "source": [
    "prev_add_list = event_fnl_addcart.groupby(['visitorid', 'itemid', 'timestamp'])['addcart_item'].apply(lambda x: list(np.unique(x)))"
   ]
  },
  {
   "cell_type": "code",
   "execution_count": 116,
   "metadata": {},
   "outputs": [
    {
     "data": {
      "text/plain": [
       "visitorid  itemid  timestamp    \n",
       "0          67045   1442004917175    [nan]\n",
       "           285930  1442004589439    [nan]\n",
       "           357564  1442004759591    [nan]\n",
       "1          72028   1439487966444    [nan]\n",
       "2          216305  1438970468920    [nan]\n",
       "                                    ...  \n",
       "1407575    121220  1433972768922    [nan]\n",
       "1407576    356208  1433343689991    [nan]\n",
       "1407577    427784  1431899284867    [nan]\n",
       "1407578    188736  1431825683288    [nan]\n",
       "1407579    2521    1435184526978    [nan]\n",
       "Name: addcart_item, Length: 2755630, dtype: object"
      ]
     },
     "execution_count": 116,
     "metadata": {},
     "output_type": "execute_result"
    }
   ],
   "source": [
    "prev_add_list"
   ]
  },
  {
   "cell_type": "code",
   "execution_count": 117,
   "metadata": {},
   "outputs": [],
   "source": [
    "prev_add_list = prev_add_list.reset_index()"
   ]
  },
  {
   "cell_type": "markdown",
   "metadata": {},
   "source": [
    "## 3. for target variable and evaluation"
   ]
  },
  {
   "cell_type": "markdown",
   "metadata": {},
   "source": [
    "### 3.1 items addtocart after this view"
   ]
  },
  {
   "cell_type": "code",
   "execution_count": 118,
   "metadata": {},
   "outputs": [],
   "source": [
    "### addtocart list of each customer after this view"
   ]
  },
  {
   "cell_type": "code",
   "execution_count": 119,
   "metadata": {},
   "outputs": [
    {
     "data": {
      "text/plain": [
       "view           2664212\n",
       "addtocart        68961\n",
       "transaction      22457\n",
       "Name: event, dtype: int64"
      ]
     },
     "execution_count": 119,
     "metadata": {},
     "output_type": "execute_result"
    }
   ],
   "source": [
    "event_fnl_dedup.event.value_counts()"
   ]
  },
  {
   "cell_type": "code",
   "execution_count": 120,
   "metadata": {},
   "outputs": [],
   "source": [
    "after_addcart = event_fnl_dedup[event_fnl_dedup.event=='addtocart'][['visitorid', 'itemid', 'timestamp']].rename(\n",
    "columns={\"itemid\": \"addcart_item\", \"timestamp\": \"addcart_time\"})"
   ]
  },
  {
   "cell_type": "code",
   "execution_count": 121,
   "metadata": {},
   "outputs": [],
   "source": [
    "### merge with event_fnl_dedup by visitorid"
   ]
  },
  {
   "cell_type": "code",
   "execution_count": 122,
   "metadata": {},
   "outputs": [],
   "source": [
    "df1 =  event_fnl_dedup.merge(after_addcart, how = 'left')"
   ]
  },
  {
   "cell_type": "code",
   "execution_count": 123,
   "metadata": {},
   "outputs": [],
   "source": [
    "#### clean"
   ]
  },
  {
   "cell_type": "code",
   "execution_count": 124,
   "metadata": {},
   "outputs": [],
   "source": [
    "df1.loc[(df1.addcart_time<df1.timestamp), 'addcart_item'] = np.nan"
   ]
  },
  {
   "cell_type": "code",
   "execution_count": 125,
   "metadata": {},
   "outputs": [],
   "source": [
    "### afterview item list and merge"
   ]
  },
  {
   "cell_type": "code",
   "execution_count": 126,
   "metadata": {},
   "outputs": [],
   "source": [
    "after_item_list = df1.groupby(['visitorid', 'itemid', 'timestamp'])['addcart_item'].apply(lambda x: list(np.unique(x)))"
   ]
  },
  {
   "cell_type": "markdown",
   "metadata": {},
   "source": [
    "## 4. downloading"
   ]
  },
  {
   "cell_type": "code",
   "execution_count": null,
   "metadata": {},
   "outputs": [],
   "source": [
    "## 07/03 - 07/17"
   ]
  },
  {
   "cell_type": "code",
   "execution_count": 131,
   "metadata": {},
   "outputs": [],
   "source": [
    "event_dnl = event_fnl_dedup[event_fnl_dedup.datetime.between('2015-07-03', '2015-07-18')]"
   ]
  },
  {
   "cell_type": "code",
   "execution_count": 134,
   "metadata": {},
   "outputs": [
    {
     "data": {
      "text/html": [
       "<div>\n",
       "<style scoped>\n",
       "    .dataframe tbody tr th:only-of-type {\n",
       "        vertical-align: middle;\n",
       "    }\n",
       "\n",
       "    .dataframe tbody tr th {\n",
       "        vertical-align: top;\n",
       "    }\n",
       "\n",
       "    .dataframe thead th {\n",
       "        text-align: right;\n",
       "    }\n",
       "</style>\n",
       "<table border=\"1\" class=\"dataframe\">\n",
       "  <thead>\n",
       "    <tr style=\"text-align: right;\">\n",
       "      <th></th>\n",
       "      <th>visitorid</th>\n",
       "      <th>itemid</th>\n",
       "      <th>timestamp</th>\n",
       "      <th>event</th>\n",
       "      <th>transactionid</th>\n",
       "      <th>datetime</th>\n",
       "    </tr>\n",
       "  </thead>\n",
       "  <tbody>\n",
       "    <tr>\n",
       "      <th>14</th>\n",
       "      <td>5</td>\n",
       "      <td>61396</td>\n",
       "      <td>1437097556439</td>\n",
       "      <td>view</td>\n",
       "      <td>NaN</td>\n",
       "      <td>2015-07-17 01:45:56</td>\n",
       "    </tr>\n",
       "    <tr>\n",
       "      <th>25</th>\n",
       "      <td>9</td>\n",
       "      <td>222422</td>\n",
       "      <td>1436377007285</td>\n",
       "      <td>view</td>\n",
       "      <td>NaN</td>\n",
       "      <td>2015-07-08 17:36:47</td>\n",
       "    </tr>\n",
       "    <tr>\n",
       "      <th>37</th>\n",
       "      <td>20</td>\n",
       "      <td>176623</td>\n",
       "      <td>1436805036364</td>\n",
       "      <td>view</td>\n",
       "      <td>NaN</td>\n",
       "      <td>2015-07-13 16:30:36</td>\n",
       "    </tr>\n",
       "    <tr>\n",
       "      <th>58</th>\n",
       "      <td>36</td>\n",
       "      <td>176286</td>\n",
       "      <td>1436804963786</td>\n",
       "      <td>view</td>\n",
       "      <td>NaN</td>\n",
       "      <td>2015-07-13 16:29:23</td>\n",
       "    </tr>\n",
       "    <tr>\n",
       "      <th>59</th>\n",
       "      <td>36</td>\n",
       "      <td>176286</td>\n",
       "      <td>1436805168853</td>\n",
       "      <td>view</td>\n",
       "      <td>NaN</td>\n",
       "      <td>2015-07-13 16:32:48</td>\n",
       "    </tr>\n",
       "  </tbody>\n",
       "</table>\n",
       "</div>"
      ],
      "text/plain": [
       "    visitorid  itemid      timestamp event  transactionid             datetime\n",
       "14          5   61396  1437097556439  view            NaN  2015-07-17 01:45:56\n",
       "25          9  222422  1436377007285  view            NaN  2015-07-08 17:36:47\n",
       "37         20  176623  1436805036364  view            NaN  2015-07-13 16:30:36\n",
       "58         36  176286  1436804963786  view            NaN  2015-07-13 16:29:23\n",
       "59         36  176286  1436805168853  view            NaN  2015-07-13 16:32:48"
      ]
     },
     "execution_count": 134,
     "metadata": {},
     "output_type": "execute_result"
    }
   ],
   "source": [
    "event_dnl.head()"
   ]
  },
  {
   "cell_type": "code",
   "execution_count": 135,
   "metadata": {},
   "outputs": [
    {
     "data": {
      "text/plain": [
       "(333360, 6)"
      ]
     },
     "execution_count": 135,
     "metadata": {},
     "output_type": "execute_result"
    }
   ],
   "source": [
    "event_dnl.shape"
   ]
  },
  {
   "cell_type": "markdown",
   "metadata": {},
   "source": [
    "### 4.1 items bought before"
   ]
  },
  {
   "cell_type": "code",
   "execution_count": 136,
   "metadata": {},
   "outputs": [],
   "source": [
    "df1 = event_dnl.merge(prev_item_list, how = 'left')"
   ]
  },
  {
   "cell_type": "markdown",
   "metadata": {},
   "source": [
    "### 4.2 most recent viewed items (3 or less)"
   ]
  },
  {
   "cell_type": "code",
   "execution_count": 140,
   "metadata": {},
   "outputs": [],
   "source": [
    "df2 = df1.merge(lastview_item_list, how = 'left')"
   ]
  },
  {
   "cell_type": "code",
   "execution_count": 141,
   "metadata": {},
   "outputs": [
    {
     "data": {
      "text/html": [
       "<div>\n",
       "<style scoped>\n",
       "    .dataframe tbody tr th:only-of-type {\n",
       "        vertical-align: middle;\n",
       "    }\n",
       "\n",
       "    .dataframe tbody tr th {\n",
       "        vertical-align: top;\n",
       "    }\n",
       "\n",
       "    .dataframe thead th {\n",
       "        text-align: right;\n",
       "    }\n",
       "</style>\n",
       "<table border=\"1\" class=\"dataframe\">\n",
       "  <thead>\n",
       "    <tr style=\"text-align: right;\">\n",
       "      <th></th>\n",
       "      <th>visitorid</th>\n",
       "      <th>itemid</th>\n",
       "      <th>timestamp</th>\n",
       "      <th>event</th>\n",
       "      <th>transactionid</th>\n",
       "      <th>datetime</th>\n",
       "      <th>bought_item</th>\n",
       "      <th>lastview_item</th>\n",
       "    </tr>\n",
       "  </thead>\n",
       "  <tbody>\n",
       "    <tr>\n",
       "      <th>0</th>\n",
       "      <td>5</td>\n",
       "      <td>61396</td>\n",
       "      <td>1437097556439</td>\n",
       "      <td>view</td>\n",
       "      <td>NaN</td>\n",
       "      <td>2015-07-17 01:45:56</td>\n",
       "      <td>[nan]</td>\n",
       "      <td>[]</td>\n",
       "    </tr>\n",
       "    <tr>\n",
       "      <th>1</th>\n",
       "      <td>9</td>\n",
       "      <td>222422</td>\n",
       "      <td>1436377007285</td>\n",
       "      <td>view</td>\n",
       "      <td>NaN</td>\n",
       "      <td>2015-07-08 17:36:47</td>\n",
       "      <td>[nan]</td>\n",
       "      <td>[]</td>\n",
       "    </tr>\n",
       "    <tr>\n",
       "      <th>2</th>\n",
       "      <td>20</td>\n",
       "      <td>176623</td>\n",
       "      <td>1436805036364</td>\n",
       "      <td>view</td>\n",
       "      <td>NaN</td>\n",
       "      <td>2015-07-13 16:30:36</td>\n",
       "      <td>[nan]</td>\n",
       "      <td>[]</td>\n",
       "    </tr>\n",
       "    <tr>\n",
       "      <th>3</th>\n",
       "      <td>36</td>\n",
       "      <td>176286</td>\n",
       "      <td>1436804963786</td>\n",
       "      <td>view</td>\n",
       "      <td>NaN</td>\n",
       "      <td>2015-07-13 16:29:23</td>\n",
       "      <td>[nan]</td>\n",
       "      <td>[]</td>\n",
       "    </tr>\n",
       "    <tr>\n",
       "      <th>4</th>\n",
       "      <td>36</td>\n",
       "      <td>176286</td>\n",
       "      <td>1436805168853</td>\n",
       "      <td>view</td>\n",
       "      <td>NaN</td>\n",
       "      <td>2015-07-13 16:32:48</td>\n",
       "      <td>[nan]</td>\n",
       "      <td>[176286.0]</td>\n",
       "    </tr>\n",
       "    <tr>\n",
       "      <th>...</th>\n",
       "      <td>...</td>\n",
       "      <td>...</td>\n",
       "      <td>...</td>\n",
       "      <td>...</td>\n",
       "      <td>...</td>\n",
       "      <td>...</td>\n",
       "      <td>...</td>\n",
       "      <td>...</td>\n",
       "    </tr>\n",
       "    <tr>\n",
       "      <th>333355</th>\n",
       "      <td>1407560</td>\n",
       "      <td>240708</td>\n",
       "      <td>1436072303991</td>\n",
       "      <td>view</td>\n",
       "      <td>NaN</td>\n",
       "      <td>2015-07-05 04:58:23</td>\n",
       "      <td>[nan]</td>\n",
       "      <td>[]</td>\n",
       "    </tr>\n",
       "    <tr>\n",
       "      <th>333356</th>\n",
       "      <td>1407560</td>\n",
       "      <td>240708</td>\n",
       "      <td>1436072351277</td>\n",
       "      <td>view</td>\n",
       "      <td>NaN</td>\n",
       "      <td>2015-07-05 04:59:11</td>\n",
       "      <td>[nan]</td>\n",
       "      <td>[240708.0]</td>\n",
       "    </tr>\n",
       "    <tr>\n",
       "      <th>333357</th>\n",
       "      <td>1407564</td>\n",
       "      <td>360760</td>\n",
       "      <td>1436034327075</td>\n",
       "      <td>view</td>\n",
       "      <td>NaN</td>\n",
       "      <td>2015-07-04 18:25:27</td>\n",
       "      <td>[nan]</td>\n",
       "      <td>[]</td>\n",
       "    </tr>\n",
       "    <tr>\n",
       "      <th>333358</th>\n",
       "      <td>1407569</td>\n",
       "      <td>152860</td>\n",
       "      <td>1436645452554</td>\n",
       "      <td>view</td>\n",
       "      <td>NaN</td>\n",
       "      <td>2015-07-11 20:10:52</td>\n",
       "      <td>[nan]</td>\n",
       "      <td>[]</td>\n",
       "    </tr>\n",
       "    <tr>\n",
       "      <th>333359</th>\n",
       "      <td>1407573</td>\n",
       "      <td>13961</td>\n",
       "      <td>1437126674493</td>\n",
       "      <td>view</td>\n",
       "      <td>NaN</td>\n",
       "      <td>2015-07-17 09:51:14</td>\n",
       "      <td>[nan]</td>\n",
       "      <td>[]</td>\n",
       "    </tr>\n",
       "  </tbody>\n",
       "</table>\n",
       "<p>333360 rows × 8 columns</p>\n",
       "</div>"
      ],
      "text/plain": [
       "        visitorid  itemid      timestamp event  transactionid  \\\n",
       "0               5   61396  1437097556439  view            NaN   \n",
       "1               9  222422  1436377007285  view            NaN   \n",
       "2              20  176623  1436805036364  view            NaN   \n",
       "3              36  176286  1436804963786  view            NaN   \n",
       "4              36  176286  1436805168853  view            NaN   \n",
       "...           ...     ...            ...   ...            ...   \n",
       "333355    1407560  240708  1436072303991  view            NaN   \n",
       "333356    1407560  240708  1436072351277  view            NaN   \n",
       "333357    1407564  360760  1436034327075  view            NaN   \n",
       "333358    1407569  152860  1436645452554  view            NaN   \n",
       "333359    1407573   13961  1437126674493  view            NaN   \n",
       "\n",
       "                   datetime bought_item lastview_item  \n",
       "0       2015-07-17 01:45:56       [nan]            []  \n",
       "1       2015-07-08 17:36:47       [nan]            []  \n",
       "2       2015-07-13 16:30:36       [nan]            []  \n",
       "3       2015-07-13 16:29:23       [nan]            []  \n",
       "4       2015-07-13 16:32:48       [nan]    [176286.0]  \n",
       "...                     ...         ...           ...  \n",
       "333355  2015-07-05 04:58:23       [nan]            []  \n",
       "333356  2015-07-05 04:59:11       [nan]    [240708.0]  \n",
       "333357  2015-07-04 18:25:27       [nan]            []  \n",
       "333358  2015-07-11 20:10:52       [nan]            []  \n",
       "333359  2015-07-17 09:51:14       [nan]            []  \n",
       "\n",
       "[333360 rows x 8 columns]"
      ]
     },
     "execution_count": 141,
     "metadata": {},
     "output_type": "execute_result"
    }
   ],
   "source": [
    "df2"
   ]
  },
  {
   "cell_type": "markdown",
   "metadata": {},
   "source": [
    "### 4.3 previous addcart items"
   ]
  },
  {
   "cell_type": "code",
   "execution_count": 142,
   "metadata": {},
   "outputs": [
    {
     "data": {
      "text/html": [
       "<div>\n",
       "<style scoped>\n",
       "    .dataframe tbody tr th:only-of-type {\n",
       "        vertical-align: middle;\n",
       "    }\n",
       "\n",
       "    .dataframe tbody tr th {\n",
       "        vertical-align: top;\n",
       "    }\n",
       "\n",
       "    .dataframe thead th {\n",
       "        text-align: right;\n",
       "    }\n",
       "</style>\n",
       "<table border=\"1\" class=\"dataframe\">\n",
       "  <thead>\n",
       "    <tr style=\"text-align: right;\">\n",
       "      <th></th>\n",
       "      <th>visitorid</th>\n",
       "      <th>itemid</th>\n",
       "      <th>timestamp</th>\n",
       "      <th>addcart_item</th>\n",
       "    </tr>\n",
       "  </thead>\n",
       "  <tbody>\n",
       "    <tr>\n",
       "      <th>0</th>\n",
       "      <td>0</td>\n",
       "      <td>67045</td>\n",
       "      <td>1442004917175</td>\n",
       "      <td>[nan]</td>\n",
       "    </tr>\n",
       "    <tr>\n",
       "      <th>1</th>\n",
       "      <td>0</td>\n",
       "      <td>285930</td>\n",
       "      <td>1442004589439</td>\n",
       "      <td>[nan]</td>\n",
       "    </tr>\n",
       "    <tr>\n",
       "      <th>2</th>\n",
       "      <td>0</td>\n",
       "      <td>357564</td>\n",
       "      <td>1442004759591</td>\n",
       "      <td>[nan]</td>\n",
       "    </tr>\n",
       "    <tr>\n",
       "      <th>3</th>\n",
       "      <td>1</td>\n",
       "      <td>72028</td>\n",
       "      <td>1439487966444</td>\n",
       "      <td>[nan]</td>\n",
       "    </tr>\n",
       "    <tr>\n",
       "      <th>4</th>\n",
       "      <td>2</td>\n",
       "      <td>216305</td>\n",
       "      <td>1438970468920</td>\n",
       "      <td>[nan]</td>\n",
       "    </tr>\n",
       "    <tr>\n",
       "      <th>...</th>\n",
       "      <td>...</td>\n",
       "      <td>...</td>\n",
       "      <td>...</td>\n",
       "      <td>...</td>\n",
       "    </tr>\n",
       "    <tr>\n",
       "      <th>2755625</th>\n",
       "      <td>1407575</td>\n",
       "      <td>121220</td>\n",
       "      <td>1433972768922</td>\n",
       "      <td>[nan]</td>\n",
       "    </tr>\n",
       "    <tr>\n",
       "      <th>2755626</th>\n",
       "      <td>1407576</td>\n",
       "      <td>356208</td>\n",
       "      <td>1433343689991</td>\n",
       "      <td>[nan]</td>\n",
       "    </tr>\n",
       "    <tr>\n",
       "      <th>2755627</th>\n",
       "      <td>1407577</td>\n",
       "      <td>427784</td>\n",
       "      <td>1431899284867</td>\n",
       "      <td>[nan]</td>\n",
       "    </tr>\n",
       "    <tr>\n",
       "      <th>2755628</th>\n",
       "      <td>1407578</td>\n",
       "      <td>188736</td>\n",
       "      <td>1431825683288</td>\n",
       "      <td>[nan]</td>\n",
       "    </tr>\n",
       "    <tr>\n",
       "      <th>2755629</th>\n",
       "      <td>1407579</td>\n",
       "      <td>2521</td>\n",
       "      <td>1435184526978</td>\n",
       "      <td>[nan]</td>\n",
       "    </tr>\n",
       "  </tbody>\n",
       "</table>\n",
       "<p>2755630 rows × 4 columns</p>\n",
       "</div>"
      ],
      "text/plain": [
       "         visitorid  itemid      timestamp addcart_item\n",
       "0                0   67045  1442004917175        [nan]\n",
       "1                0  285930  1442004589439        [nan]\n",
       "2                0  357564  1442004759591        [nan]\n",
       "3                1   72028  1439487966444        [nan]\n",
       "4                2  216305  1438970468920        [nan]\n",
       "...            ...     ...            ...          ...\n",
       "2755625    1407575  121220  1433972768922        [nan]\n",
       "2755626    1407576  356208  1433343689991        [nan]\n",
       "2755627    1407577  427784  1431899284867        [nan]\n",
       "2755628    1407578  188736  1431825683288        [nan]\n",
       "2755629    1407579    2521  1435184526978        [nan]\n",
       "\n",
       "[2755630 rows x 4 columns]"
      ]
     },
     "execution_count": 142,
     "metadata": {},
     "output_type": "execute_result"
    }
   ],
   "source": [
    "prev_add_list"
   ]
  },
  {
   "cell_type": "code",
   "execution_count": 143,
   "metadata": {},
   "outputs": [],
   "source": [
    "df3 = df2.merge(prev_add_list, how = 'left')"
   ]
  },
  {
   "cell_type": "code",
   "execution_count": 156,
   "metadata": {},
   "outputs": [
    {
     "data": {
      "text/html": [
       "<div>\n",
       "<style scoped>\n",
       "    .dataframe tbody tr th:only-of-type {\n",
       "        vertical-align: middle;\n",
       "    }\n",
       "\n",
       "    .dataframe tbody tr th {\n",
       "        vertical-align: top;\n",
       "    }\n",
       "\n",
       "    .dataframe thead th {\n",
       "        text-align: right;\n",
       "    }\n",
       "</style>\n",
       "<table border=\"1\" class=\"dataframe\">\n",
       "  <thead>\n",
       "    <tr style=\"text-align: right;\">\n",
       "      <th></th>\n",
       "      <th>visitorid</th>\n",
       "      <th>itemid</th>\n",
       "      <th>timestamp</th>\n",
       "      <th>addcart_item</th>\n",
       "    </tr>\n",
       "  </thead>\n",
       "  <tbody>\n",
       "    <tr>\n",
       "      <th>0</th>\n",
       "      <td>0</td>\n",
       "      <td>67045</td>\n",
       "      <td>1442004917175</td>\n",
       "      <td>[nan]</td>\n",
       "    </tr>\n",
       "    <tr>\n",
       "      <th>1</th>\n",
       "      <td>0</td>\n",
       "      <td>285930</td>\n",
       "      <td>1442004589439</td>\n",
       "      <td>[nan]</td>\n",
       "    </tr>\n",
       "    <tr>\n",
       "      <th>2</th>\n",
       "      <td>0</td>\n",
       "      <td>357564</td>\n",
       "      <td>1442004759591</td>\n",
       "      <td>[nan]</td>\n",
       "    </tr>\n",
       "    <tr>\n",
       "      <th>3</th>\n",
       "      <td>1</td>\n",
       "      <td>72028</td>\n",
       "      <td>1439487966444</td>\n",
       "      <td>[nan]</td>\n",
       "    </tr>\n",
       "    <tr>\n",
       "      <th>4</th>\n",
       "      <td>2</td>\n",
       "      <td>216305</td>\n",
       "      <td>1438970468920</td>\n",
       "      <td>[nan]</td>\n",
       "    </tr>\n",
       "    <tr>\n",
       "      <th>...</th>\n",
       "      <td>...</td>\n",
       "      <td>...</td>\n",
       "      <td>...</td>\n",
       "      <td>...</td>\n",
       "    </tr>\n",
       "    <tr>\n",
       "      <th>2755625</th>\n",
       "      <td>1407575</td>\n",
       "      <td>121220</td>\n",
       "      <td>1433972768922</td>\n",
       "      <td>[nan]</td>\n",
       "    </tr>\n",
       "    <tr>\n",
       "      <th>2755626</th>\n",
       "      <td>1407576</td>\n",
       "      <td>356208</td>\n",
       "      <td>1433343689991</td>\n",
       "      <td>[nan]</td>\n",
       "    </tr>\n",
       "    <tr>\n",
       "      <th>2755627</th>\n",
       "      <td>1407577</td>\n",
       "      <td>427784</td>\n",
       "      <td>1431899284867</td>\n",
       "      <td>[nan]</td>\n",
       "    </tr>\n",
       "    <tr>\n",
       "      <th>2755628</th>\n",
       "      <td>1407578</td>\n",
       "      <td>188736</td>\n",
       "      <td>1431825683288</td>\n",
       "      <td>[nan]</td>\n",
       "    </tr>\n",
       "    <tr>\n",
       "      <th>2755629</th>\n",
       "      <td>1407579</td>\n",
       "      <td>2521</td>\n",
       "      <td>1435184526978</td>\n",
       "      <td>[nan]</td>\n",
       "    </tr>\n",
       "  </tbody>\n",
       "</table>\n",
       "<p>2755630 rows × 4 columns</p>\n",
       "</div>"
      ],
      "text/plain": [
       "         visitorid  itemid      timestamp addcart_item\n",
       "0                0   67045  1442004917175        [nan]\n",
       "1                0  285930  1442004589439        [nan]\n",
       "2                0  357564  1442004759591        [nan]\n",
       "3                1   72028  1439487966444        [nan]\n",
       "4                2  216305  1438970468920        [nan]\n",
       "...            ...     ...            ...          ...\n",
       "2755625    1407575  121220  1433972768922        [nan]\n",
       "2755626    1407576  356208  1433343689991        [nan]\n",
       "2755627    1407577  427784  1431899284867        [nan]\n",
       "2755628    1407578  188736  1431825683288        [nan]\n",
       "2755629    1407579    2521  1435184526978        [nan]\n",
       "\n",
       "[2755630 rows x 4 columns]"
      ]
     },
     "execution_count": 156,
     "metadata": {},
     "output_type": "execute_result"
    }
   ],
   "source": [
    "prev_add_list"
   ]
  },
  {
   "cell_type": "markdown",
   "metadata": {},
   "source": [
    "### 4.4 after_addcart items (for evaluation)"
   ]
  },
  {
   "cell_type": "code",
   "execution_count": 159,
   "metadata": {},
   "outputs": [],
   "source": [
    "after_item_list = after_item_list.rename(\"after_addcart_item\").to_frame().reset_index()"
   ]
  },
  {
   "cell_type": "code",
   "execution_count": 161,
   "metadata": {},
   "outputs": [],
   "source": [
    "df4 = df3.merge(after_item_list, how = 'left')"
   ]
  },
  {
   "cell_type": "markdown",
   "metadata": {},
   "source": [
    "### 4.5 for currently viewing item"
   ]
  },
  {
   "cell_type": "code",
   "execution_count": 164,
   "metadata": {},
   "outputs": [],
   "source": [
    "### viewtimes"
   ]
  },
  {
   "cell_type": "code",
   "execution_count": 166,
   "metadata": {},
   "outputs": [
    {
     "data": {
      "text/html": [
       "<div>\n",
       "<style scoped>\n",
       "    .dataframe tbody tr th:only-of-type {\n",
       "        vertical-align: middle;\n",
       "    }\n",
       "\n",
       "    .dataframe tbody tr th {\n",
       "        vertical-align: top;\n",
       "    }\n",
       "\n",
       "    .dataframe thead th {\n",
       "        text-align: right;\n",
       "    }\n",
       "</style>\n",
       "<table border=\"1\" class=\"dataframe\">\n",
       "  <thead>\n",
       "    <tr style=\"text-align: right;\">\n",
       "      <th></th>\n",
       "      <th>visitorid</th>\n",
       "      <th>itemid</th>\n",
       "      <th>timestamp</th>\n",
       "      <th>event</th>\n",
       "      <th>transactionid</th>\n",
       "      <th>datetime</th>\n",
       "      <th>bought_item</th>\n",
       "      <th>lastview_item</th>\n",
       "      <th>addcart_item</th>\n",
       "      <th>after_addcart_item</th>\n",
       "    </tr>\n",
       "  </thead>\n",
       "  <tbody>\n",
       "    <tr>\n",
       "      <th>0</th>\n",
       "      <td>5</td>\n",
       "      <td>61396</td>\n",
       "      <td>1437097556439</td>\n",
       "      <td>view</td>\n",
       "      <td>NaN</td>\n",
       "      <td>2015-07-17 01:45:56</td>\n",
       "      <td>[nan]</td>\n",
       "      <td>[]</td>\n",
       "      <td>[nan]</td>\n",
       "      <td>[nan]</td>\n",
       "    </tr>\n",
       "    <tr>\n",
       "      <th>1</th>\n",
       "      <td>9</td>\n",
       "      <td>222422</td>\n",
       "      <td>1436377007285</td>\n",
       "      <td>view</td>\n",
       "      <td>NaN</td>\n",
       "      <td>2015-07-08 17:36:47</td>\n",
       "      <td>[nan]</td>\n",
       "      <td>[]</td>\n",
       "      <td>[nan]</td>\n",
       "      <td>[nan]</td>\n",
       "    </tr>\n",
       "    <tr>\n",
       "      <th>2</th>\n",
       "      <td>20</td>\n",
       "      <td>176623</td>\n",
       "      <td>1436805036364</td>\n",
       "      <td>view</td>\n",
       "      <td>NaN</td>\n",
       "      <td>2015-07-13 16:30:36</td>\n",
       "      <td>[nan]</td>\n",
       "      <td>[]</td>\n",
       "      <td>[nan]</td>\n",
       "      <td>[nan]</td>\n",
       "    </tr>\n",
       "    <tr>\n",
       "      <th>3</th>\n",
       "      <td>36</td>\n",
       "      <td>176286</td>\n",
       "      <td>1436804963786</td>\n",
       "      <td>view</td>\n",
       "      <td>NaN</td>\n",
       "      <td>2015-07-13 16:29:23</td>\n",
       "      <td>[nan]</td>\n",
       "      <td>[]</td>\n",
       "      <td>[nan]</td>\n",
       "      <td>[nan]</td>\n",
       "    </tr>\n",
       "    <tr>\n",
       "      <th>4</th>\n",
       "      <td>36</td>\n",
       "      <td>176286</td>\n",
       "      <td>1436805168853</td>\n",
       "      <td>view</td>\n",
       "      <td>NaN</td>\n",
       "      <td>2015-07-13 16:32:48</td>\n",
       "      <td>[nan]</td>\n",
       "      <td>[176286.0]</td>\n",
       "      <td>[nan]</td>\n",
       "      <td>[nan]</td>\n",
       "    </tr>\n",
       "  </tbody>\n",
       "</table>\n",
       "</div>"
      ],
      "text/plain": [
       "   visitorid  itemid      timestamp event  transactionid             datetime  \\\n",
       "0          5   61396  1437097556439  view            NaN  2015-07-17 01:45:56   \n",
       "1          9  222422  1436377007285  view            NaN  2015-07-08 17:36:47   \n",
       "2         20  176623  1436805036364  view            NaN  2015-07-13 16:30:36   \n",
       "3         36  176286  1436804963786  view            NaN  2015-07-13 16:29:23   \n",
       "4         36  176286  1436805168853  view            NaN  2015-07-13 16:32:48   \n",
       "\n",
       "  bought_item lastview_item addcart_item after_addcart_item  \n",
       "0       [nan]            []        [nan]              [nan]  \n",
       "1       [nan]            []        [nan]              [nan]  \n",
       "2       [nan]            []        [nan]              [nan]  \n",
       "3       [nan]            []        [nan]              [nan]  \n",
       "4       [nan]    [176286.0]        [nan]              [nan]  "
      ]
     },
     "execution_count": 166,
     "metadata": {},
     "output_type": "execute_result"
    }
   ],
   "source": [
    "df4.head()"
   ]
  },
  {
   "cell_type": "code",
   "execution_count": 178,
   "metadata": {},
   "outputs": [],
   "source": [
    "df5 = df4.merge(viewtimes.rename(columns = {'curview_time': 'timestamp'}), how='left').\\\n",
    "merge(firstview.rename(columns = {'curview_time': 'timestamp', 'firstview_dif': 'firstview_dif_min'}), how = 'left').\\\n",
    "merge(lastview.rename(columns = {'curview_time': 'timestamp', 'lasttview_dif': 'lastview_dif_min'}), how = 'left')"
   ]
  },
  {
   "cell_type": "code",
   "execution_count": 179,
   "metadata": {},
   "outputs": [],
   "source": [
    "df5.to_csv('event_20150703_20150717.csv')"
   ]
  },
  {
   "cell_type": "code",
   "execution_count": null,
   "metadata": {},
   "outputs": [],
   "source": [
    "## check"
   ]
  },
  {
   "cell_type": "code",
   "execution_count": 2,
   "metadata": {},
   "outputs": [],
   "source": [
    "df6 = pd.read_csv('event_20150703_20150717.csv')"
   ]
  },
  {
   "cell_type": "code",
   "execution_count": 3,
   "metadata": {},
   "outputs": [],
   "source": [
    "del df6['Unnamed: 0']"
   ]
  },
  {
   "cell_type": "code",
   "execution_count": 4,
   "metadata": {},
   "outputs": [
    {
     "data": {
      "text/html": [
       "<div>\n",
       "<style scoped>\n",
       "    .dataframe tbody tr th:only-of-type {\n",
       "        vertical-align: middle;\n",
       "    }\n",
       "\n",
       "    .dataframe tbody tr th {\n",
       "        vertical-align: top;\n",
       "    }\n",
       "\n",
       "    .dataframe thead th {\n",
       "        text-align: right;\n",
       "    }\n",
       "</style>\n",
       "<table border=\"1\" class=\"dataframe\">\n",
       "  <thead>\n",
       "    <tr style=\"text-align: right;\">\n",
       "      <th></th>\n",
       "      <th>visitorid</th>\n",
       "      <th>itemid</th>\n",
       "      <th>timestamp</th>\n",
       "      <th>event</th>\n",
       "      <th>transactionid</th>\n",
       "      <th>datetime</th>\n",
       "      <th>bought_item</th>\n",
       "      <th>lastview_item</th>\n",
       "      <th>addcart_item</th>\n",
       "      <th>after_addcart_item</th>\n",
       "      <th>previewtimes</th>\n",
       "      <th>firstview_dif_min</th>\n",
       "      <th>lastview_dif</th>\n",
       "    </tr>\n",
       "  </thead>\n",
       "  <tbody>\n",
       "    <tr>\n",
       "      <th>0</th>\n",
       "      <td>5</td>\n",
       "      <td>61396</td>\n",
       "      <td>1437097556439</td>\n",
       "      <td>view</td>\n",
       "      <td>NaN</td>\n",
       "      <td>2015-07-17 01:45:56</td>\n",
       "      <td>[nan]</td>\n",
       "      <td>[]</td>\n",
       "      <td>[nan]</td>\n",
       "      <td>[nan]</td>\n",
       "      <td>NaN</td>\n",
       "      <td>NaN</td>\n",
       "      <td>NaN</td>\n",
       "    </tr>\n",
       "    <tr>\n",
       "      <th>1</th>\n",
       "      <td>9</td>\n",
       "      <td>222422</td>\n",
       "      <td>1436377007285</td>\n",
       "      <td>view</td>\n",
       "      <td>NaN</td>\n",
       "      <td>2015-07-08 17:36:47</td>\n",
       "      <td>[nan]</td>\n",
       "      <td>[]</td>\n",
       "      <td>[nan]</td>\n",
       "      <td>[nan]</td>\n",
       "      <td>NaN</td>\n",
       "      <td>NaN</td>\n",
       "      <td>NaN</td>\n",
       "    </tr>\n",
       "    <tr>\n",
       "      <th>2</th>\n",
       "      <td>20</td>\n",
       "      <td>176623</td>\n",
       "      <td>1436805036364</td>\n",
       "      <td>view</td>\n",
       "      <td>NaN</td>\n",
       "      <td>2015-07-13 16:30:36</td>\n",
       "      <td>[nan]</td>\n",
       "      <td>[]</td>\n",
       "      <td>[nan]</td>\n",
       "      <td>[nan]</td>\n",
       "      <td>NaN</td>\n",
       "      <td>NaN</td>\n",
       "      <td>NaN</td>\n",
       "    </tr>\n",
       "    <tr>\n",
       "      <th>3</th>\n",
       "      <td>36</td>\n",
       "      <td>176286</td>\n",
       "      <td>1436804963786</td>\n",
       "      <td>view</td>\n",
       "      <td>NaN</td>\n",
       "      <td>2015-07-13 16:29:23</td>\n",
       "      <td>[nan]</td>\n",
       "      <td>[]</td>\n",
       "      <td>[nan]</td>\n",
       "      <td>[nan]</td>\n",
       "      <td>NaN</td>\n",
       "      <td>NaN</td>\n",
       "      <td>NaN</td>\n",
       "    </tr>\n",
       "    <tr>\n",
       "      <th>4</th>\n",
       "      <td>36</td>\n",
       "      <td>176286</td>\n",
       "      <td>1436805168853</td>\n",
       "      <td>view</td>\n",
       "      <td>NaN</td>\n",
       "      <td>2015-07-13 16:32:48</td>\n",
       "      <td>[nan]</td>\n",
       "      <td>[176286.0]</td>\n",
       "      <td>[nan]</td>\n",
       "      <td>[nan]</td>\n",
       "      <td>1.0</td>\n",
       "      <td>3.417783</td>\n",
       "      <td>3.417783</td>\n",
       "    </tr>\n",
       "  </tbody>\n",
       "</table>\n",
       "</div>"
      ],
      "text/plain": [
       "   visitorid  itemid      timestamp event  transactionid             datetime  \\\n",
       "0          5   61396  1437097556439  view            NaN  2015-07-17 01:45:56   \n",
       "1          9  222422  1436377007285  view            NaN  2015-07-08 17:36:47   \n",
       "2         20  176623  1436805036364  view            NaN  2015-07-13 16:30:36   \n",
       "3         36  176286  1436804963786  view            NaN  2015-07-13 16:29:23   \n",
       "4         36  176286  1436805168853  view            NaN  2015-07-13 16:32:48   \n",
       "\n",
       "  bought_item lastview_item addcart_item after_addcart_item  previewtimes  \\\n",
       "0       [nan]            []        [nan]              [nan]           NaN   \n",
       "1       [nan]            []        [nan]              [nan]           NaN   \n",
       "2       [nan]            []        [nan]              [nan]           NaN   \n",
       "3       [nan]            []        [nan]              [nan]           NaN   \n",
       "4       [nan]    [176286.0]        [nan]              [nan]           1.0   \n",
       "\n",
       "   firstview_dif_min  lastview_dif  \n",
       "0                NaN           NaN  \n",
       "1                NaN           NaN  \n",
       "2                NaN           NaN  \n",
       "3                NaN           NaN  \n",
       "4           3.417783      3.417783  "
      ]
     },
     "execution_count": 4,
     "metadata": {},
     "output_type": "execute_result"
    }
   ],
   "source": [
    "df6.head()"
   ]
  },
  {
   "cell_type": "code",
   "execution_count": 221,
   "metadata": {},
   "outputs": [
    {
     "data": {
      "text/plain": [
       "(333360, 23)"
      ]
     },
     "execution_count": 221,
     "metadata": {},
     "output_type": "execute_result"
    }
   ],
   "source": [
    "df6.shape"
   ]
  },
  {
   "cell_type": "markdown",
   "metadata": {},
   "source": [
    "## 5. LightFM Modeling and prediction"
   ]
  },
  {
   "cell_type": "code",
   "execution_count": 6,
   "metadata": {},
   "outputs": [],
   "source": [
    "from lightfm import LightFM\n",
    "from lightfm.evaluation import auc_score\n",
    "from scipy.sparse import coo_matrix\n",
    "from sklearn import preprocessing\n",
    "from collections import Counter"
   ]
  },
  {
   "cell_type": "markdown",
   "metadata": {},
   "source": [
    "### 5.1 modeling"
   ]
  },
  {
   "cell_type": "code",
   "execution_count": 6,
   "metadata": {},
   "outputs": [],
   "source": [
    "## prepare data"
   ]
  },
  {
   "cell_type": "code",
   "execution_count": 7,
   "metadata": {},
   "outputs": [],
   "source": [
    "events = df6.sort_values('timestamp').\\\n",
    "reset_index(drop=True)[['visitorid', 'itemid', 'timestamp', 'event']]"
   ]
  },
  {
   "cell_type": "code",
   "execution_count": null,
   "metadata": {},
   "outputs": [],
   "source": [
    "### filter event (view, addtocart)"
   ]
  },
  {
   "cell_type": "code",
   "execution_count": 8,
   "metadata": {},
   "outputs": [],
   "source": [
    "events = events[events.event.isin(['view', 'addtocart'])]"
   ]
  },
  {
   "cell_type": "code",
   "execution_count": 9,
   "metadata": {},
   "outputs": [
    {
     "data": {
      "text/html": [
       "<div>\n",
       "<style scoped>\n",
       "    .dataframe tbody tr th:only-of-type {\n",
       "        vertical-align: middle;\n",
       "    }\n",
       "\n",
       "    .dataframe tbody tr th {\n",
       "        vertical-align: top;\n",
       "    }\n",
       "\n",
       "    .dataframe thead th {\n",
       "        text-align: right;\n",
       "    }\n",
       "</style>\n",
       "<table border=\"1\" class=\"dataframe\">\n",
       "  <thead>\n",
       "    <tr style=\"text-align: right;\">\n",
       "      <th></th>\n",
       "      <th>visitorid</th>\n",
       "      <th>itemid</th>\n",
       "      <th>timestamp</th>\n",
       "      <th>event</th>\n",
       "    </tr>\n",
       "  </thead>\n",
       "  <tbody>\n",
       "    <tr>\n",
       "      <th>0</th>\n",
       "      <td>1067496</td>\n",
       "      <td>401572</td>\n",
       "      <td>1435881606417</td>\n",
       "      <td>view</td>\n",
       "    </tr>\n",
       "    <tr>\n",
       "      <th>1</th>\n",
       "      <td>782046</td>\n",
       "      <td>43725</td>\n",
       "      <td>1435881606528</td>\n",
       "      <td>view</td>\n",
       "    </tr>\n",
       "    <tr>\n",
       "      <th>2</th>\n",
       "      <td>982670</td>\n",
       "      <td>17218</td>\n",
       "      <td>1435881606734</td>\n",
       "      <td>view</td>\n",
       "    </tr>\n",
       "    <tr>\n",
       "      <th>3</th>\n",
       "      <td>35240</td>\n",
       "      <td>119965</td>\n",
       "      <td>1435881612319</td>\n",
       "      <td>view</td>\n",
       "    </tr>\n",
       "    <tr>\n",
       "      <th>4</th>\n",
       "      <td>684514</td>\n",
       "      <td>396378</td>\n",
       "      <td>1435881614244</td>\n",
       "      <td>addtocart</td>\n",
       "    </tr>\n",
       "  </tbody>\n",
       "</table>\n",
       "</div>"
      ],
      "text/plain": [
       "   visitorid  itemid      timestamp      event\n",
       "0    1067496  401572  1435881606417       view\n",
       "1     782046   43725  1435881606528       view\n",
       "2     982670   17218  1435881606734       view\n",
       "3      35240  119965  1435881612319       view\n",
       "4     684514  396378  1435881614244  addtocart"
      ]
     },
     "execution_count": 9,
     "metadata": {},
     "output_type": "execute_result"
    }
   ],
   "source": [
    "events.head()"
   ]
  },
  {
   "cell_type": "code",
   "execution_count": 10,
   "metadata": {},
   "outputs": [],
   "source": [
    "## train/test data"
   ]
  },
  {
   "cell_type": "code",
   "execution_count": 11,
   "metadata": {},
   "outputs": [],
   "source": [
    "split_point = np.int(np.round(events.shape[0]*0.8))"
   ]
  },
  {
   "cell_type": "code",
   "execution_count": 12,
   "metadata": {},
   "outputs": [],
   "source": [
    "events_train = events.iloc[0:split_point]\n",
    "events_test = events.iloc[split_point::]"
   ]
  },
  {
   "cell_type": "code",
   "execution_count": 13,
   "metadata": {},
   "outputs": [
    {
     "data": {
      "text/plain": [
       "(264514, 4)"
      ]
     },
     "execution_count": 13,
     "metadata": {},
     "output_type": "execute_result"
    }
   ],
   "source": [
    "events_train.shape"
   ]
  },
  {
   "cell_type": "code",
   "execution_count": 14,
   "metadata": {},
   "outputs": [
    {
     "data": {
      "text/plain": [
       "(66129, 4)"
      ]
     },
     "execution_count": 14,
     "metadata": {},
     "output_type": "execute_result"
    }
   ],
   "source": [
    "events_test.shape"
   ]
  },
  {
   "cell_type": "code",
   "execution_count": 15,
   "metadata": {},
   "outputs": [],
   "source": [
    "events_test = events_test[(events_test['visitorid'].isin(events_train['visitorid'])) & (events_test['itemid'].isin(events_train['itemid']))]"
   ]
  },
  {
   "cell_type": "code",
   "execution_count": 16,
   "metadata": {},
   "outputs": [],
   "source": [
    "## transformation"
   ]
  },
  {
   "cell_type": "code",
   "execution_count": 17,
   "metadata": {},
   "outputs": [
    {
     "data": {
      "text/plain": [
       "'\"\"\\nfor k in id_cols:\\n    cate_enc_feat = preprocessing.LabelEncoder()\\n    trans_cat_train[k] = cate_enc_feat.fit_transform(events_train[k].values)\\n    trans_cat_test[k] = cate_enc_feat.transform(events_test[k].values)'"
      ]
     },
     "execution_count": 17,
     "metadata": {},
     "output_type": "execute_result"
    }
   ],
   "source": [
    "id_cols=['visitorid','itemid']\n",
    "trans_cat_train=dict()\n",
    "trans_cat_test=dict()\n",
    "\"\"\"\"\"\n",
    "for k in id_cols:\n",
    "    cate_enc_feat = preprocessing.LabelEncoder()\n",
    "    trans_cat_train[k] = cate_enc_feat.fit_transform(events_train[k].values)\n",
    "    trans_cat_test[k] = cate_enc_feat.transform(events_test[k].values)\"\"\"\"\""
   ]
  },
  {
   "cell_type": "code",
   "execution_count": 18,
   "metadata": {},
   "outputs": [],
   "source": [
    "## for visitorid\n",
    "cate_enc_vis = preprocessing.LabelEncoder()\n",
    "trans_cat_train['visitorid'] = cate_enc_vis.fit_transform(events_train['visitorid'].values)\n",
    "trans_cat_test['visitorid'] = cate_enc_vis.transform(events_test['visitorid'].values)"
   ]
  },
  {
   "cell_type": "code",
   "execution_count": 19,
   "metadata": {},
   "outputs": [],
   "source": [
    "## for itemid\n",
    "cate_enc_item = preprocessing.LabelEncoder()\n",
    "trans_cat_train['itemid'] = cate_enc_item.fit_transform(events_train['itemid'].values)\n",
    "trans_cat_test['itemid'] = cate_enc_item.transform(events_test['itemid'].values)"
   ]
  },
  {
   "cell_type": "code",
   "execution_count": 20,
   "metadata": {},
   "outputs": [
    {
     "data": {
      "text/plain": [
       "array([1067496,  782046,  982670, ..., 1009292,  625167,  831704])"
      ]
     },
     "execution_count": 20,
     "metadata": {},
     "output_type": "execute_result"
    }
   ],
   "source": [
    "events_train['visitorid'].values"
   ]
  },
  {
   "cell_type": "code",
   "execution_count": 21,
   "metadata": {},
   "outputs": [
    {
     "data": {
      "text/plain": [
       "array([113387,  82913, 104369, ..., 107209,  66279,  88143])"
      ]
     },
     "execution_count": 21,
     "metadata": {},
     "output_type": "execute_result"
    }
   ],
   "source": [
    "trans_cat_train['visitorid']"
   ]
  },
  {
   "cell_type": "code",
   "execution_count": 22,
   "metadata": {},
   "outputs": [
    {
     "data": {
      "text/plain": [
       "8325"
      ]
     },
     "execution_count": 22,
     "metadata": {},
     "output_type": "execute_result"
    }
   ],
   "source": [
    "len(events_test['visitorid'].values)"
   ]
  },
  {
   "cell_type": "code",
   "execution_count": 23,
   "metadata": {},
   "outputs": [
    {
     "data": {
      "text/plain": [
       "8325"
      ]
     },
     "execution_count": 23,
     "metadata": {},
     "output_type": "execute_result"
    }
   ],
   "source": [
    "len(trans_cat_test['visitorid'])"
   ]
  },
  {
   "cell_type": "code",
   "execution_count": 24,
   "metadata": {},
   "outputs": [],
   "source": [
    "ratings = dict()\n",
    "cate_enc_score = preprocessing.LabelEncoder()\n",
    "ratings['train'] = cate_enc_score.fit_transform(events_train.event)\n",
    "ratings['test'] = cate_enc_score.transform(events_test.event)"
   ]
  },
  {
   "cell_type": "code",
   "execution_count": 25,
   "metadata": {},
   "outputs": [
    {
     "data": {
      "text/plain": [
       "view         257968\n",
       "addtocart      6546\n",
       "Name: event, dtype: int64"
      ]
     },
     "execution_count": 25,
     "metadata": {},
     "output_type": "execute_result"
    }
   ],
   "source": [
    "events_train.event.value_counts()"
   ]
  },
  {
   "cell_type": "code",
   "execution_count": 26,
   "metadata": {},
   "outputs": [
    {
     "data": {
      "text/plain": [
       "Counter({1: 257968, 0: 6546})"
      ]
     },
     "execution_count": 26,
     "metadata": {},
     "output_type": "execute_result"
    }
   ],
   "source": [
    "Counter(list(ratings['train']))"
   ]
  },
  {
   "cell_type": "code",
   "execution_count": 27,
   "metadata": {},
   "outputs": [],
   "source": [
    "### prepare matrix for lightfm"
   ]
  },
  {
   "cell_type": "code",
   "execution_count": 28,
   "metadata": {},
   "outputs": [
    {
     "data": {
      "text/html": [
       "<div>\n",
       "<style scoped>\n",
       "    .dataframe tbody tr th:only-of-type {\n",
       "        vertical-align: middle;\n",
       "    }\n",
       "\n",
       "    .dataframe tbody tr th {\n",
       "        vertical-align: top;\n",
       "    }\n",
       "\n",
       "    .dataframe thead th {\n",
       "        text-align: right;\n",
       "    }\n",
       "</style>\n",
       "<table border=\"1\" class=\"dataframe\">\n",
       "  <thead>\n",
       "    <tr style=\"text-align: right;\">\n",
       "      <th></th>\n",
       "      <th>visitorid</th>\n",
       "      <th>itemid</th>\n",
       "      <th>timestamp</th>\n",
       "      <th>event</th>\n",
       "    </tr>\n",
       "  </thead>\n",
       "  <tbody>\n",
       "    <tr>\n",
       "      <th>0</th>\n",
       "      <td>1067496</td>\n",
       "      <td>401572</td>\n",
       "      <td>1435881606417</td>\n",
       "      <td>view</td>\n",
       "    </tr>\n",
       "    <tr>\n",
       "      <th>1</th>\n",
       "      <td>782046</td>\n",
       "      <td>43725</td>\n",
       "      <td>1435881606528</td>\n",
       "      <td>view</td>\n",
       "    </tr>\n",
       "    <tr>\n",
       "      <th>2</th>\n",
       "      <td>982670</td>\n",
       "      <td>17218</td>\n",
       "      <td>1435881606734</td>\n",
       "      <td>view</td>\n",
       "    </tr>\n",
       "    <tr>\n",
       "      <th>3</th>\n",
       "      <td>35240</td>\n",
       "      <td>119965</td>\n",
       "      <td>1435881612319</td>\n",
       "      <td>view</td>\n",
       "    </tr>\n",
       "    <tr>\n",
       "      <th>4</th>\n",
       "      <td>684514</td>\n",
       "      <td>396378</td>\n",
       "      <td>1435881614244</td>\n",
       "      <td>addtocart</td>\n",
       "    </tr>\n",
       "  </tbody>\n",
       "</table>\n",
       "</div>"
      ],
      "text/plain": [
       "   visitorid  itemid      timestamp      event\n",
       "0    1067496  401572  1435881606417       view\n",
       "1     782046   43725  1435881606528       view\n",
       "2     982670   17218  1435881606734       view\n",
       "3      35240  119965  1435881612319       view\n",
       "4     684514  396378  1435881614244  addtocart"
      ]
     },
     "execution_count": 28,
     "metadata": {},
     "output_type": "execute_result"
    }
   ],
   "source": [
    "events_train.head()"
   ]
  },
  {
   "cell_type": "code",
   "execution_count": 29,
   "metadata": {},
   "outputs": [],
   "source": [
    "n_users=len(np.unique(trans_cat_train['visitorid']))\n",
    "n_items=len(np.unique(trans_cat_train['itemid']))"
   ]
  },
  {
   "cell_type": "code",
   "execution_count": 30,
   "metadata": {},
   "outputs": [
    {
     "data": {
      "text/plain": [
       "array([    0,     1,     2, ..., 76340, 76341, 76342])"
      ]
     },
     "execution_count": 30,
     "metadata": {},
     "output_type": "execute_result"
    }
   ],
   "source": [
    "np.unique(trans_cat_train['itemid'])"
   ]
  },
  {
   "cell_type": "code",
   "execution_count": 28,
   "metadata": {},
   "outputs": [
    {
     "data": {
      "text/plain": [
       "149487"
      ]
     },
     "execution_count": 28,
     "metadata": {},
     "output_type": "execute_result"
    }
   ],
   "source": [
    "n_users"
   ]
  },
  {
   "cell_type": "code",
   "execution_count": 29,
   "metadata": {},
   "outputs": [
    {
     "data": {
      "text/plain": [
       "76343"
      ]
     },
     "execution_count": 29,
     "metadata": {},
     "output_type": "execute_result"
    }
   ],
   "source": [
    "n_items"
   ]
  },
  {
   "cell_type": "code",
   "execution_count": 32,
   "metadata": {},
   "outputs": [],
   "source": [
    "rate_matrix = dict()\n",
    "rate_matrix['train'] = coo_matrix((ratings['train'], (trans_cat_train['visitorid'], trans_cat_train['itemid'])), shape=(n_users,n_items))\n",
    "rate_matrix['test'] = coo_matrix((ratings['test'], (trans_cat_test['visitorid'], trans_cat_test['itemid'])), shape=(n_users,n_items))"
   ]
  },
  {
   "cell_type": "code",
   "execution_count": 318,
   "metadata": {},
   "outputs": [
    {
     "name": "stderr",
     "output_type": "stream",
     "text": [
      "<ipython-input-318-db0f7be02521>:1: SettingWithCopyWarning: \n",
      "A value is trying to be set on a copy of a slice from a DataFrame.\n",
      "Try using .loc[row_indexer,col_indexer] = value instead\n",
      "\n",
      "See the caveats in the documentation: https://pandas.pydata.org/pandas-docs/stable/user_guide/indexing.html#returning-a-view-versus-a-copy\n",
      "  events_train['event_num']=events_train['event'].apply(lambda x: 2 if x == 'view' else (0 if x == 'addtocart' else 1))\n"
     ]
    }
   ],
   "source": [
    "#events_train['event_num']=events_train['event'].apply(lambda x: 2 if x == 'view' else (0 if x == 'addtocart' else 1))"
   ]
  },
  {
   "cell_type": "code",
   "execution_count": null,
   "metadata": {},
   "outputs": [],
   "source": [
    "## model"
   ]
  },
  {
   "cell_type": "code",
   "execution_count": 33,
   "metadata": {},
   "outputs": [
    {
     "data": {
      "text/plain": [
       "<lightfm.lightfm.LightFM at 0x11f0be7c0>"
      ]
     },
     "execution_count": 33,
     "metadata": {},
     "output_type": "execute_result"
    }
   ],
   "source": [
    "model = LightFM(no_components=10, loss='warp')\n",
    "model.fit(rate_matrix['train'], epochs=100, num_threads=8)"
   ]
  },
  {
   "cell_type": "code",
   "execution_count": null,
   "metadata": {},
   "outputs": [],
   "source": [
    "## predict"
   ]
  },
  {
   "cell_type": "code",
   "execution_count": 34,
   "metadata": {},
   "outputs": [
    {
     "data": {
      "text/plain": [
       "(149487, 76343)"
      ]
     },
     "execution_count": 34,
     "metadata": {},
     "output_type": "execute_result"
    }
   ],
   "source": [
    "n_users, n_items"
   ]
  },
  {
   "cell_type": "code",
   "execution_count": 35,
   "metadata": {},
   "outputs": [
    {
     "data": {
      "text/plain": [
       "array([ 450856, 1297909, 1038942, ...,  126242,  672218,  126242])"
      ]
     },
     "execution_count": 35,
     "metadata": {},
     "output_type": "execute_result"
    }
   ],
   "source": [
    "events_test.visitorid.values"
   ]
  },
  {
   "cell_type": "code",
   "execution_count": 36,
   "metadata": {},
   "outputs": [
    {
     "data": {
      "text/plain": [
       "array([1067496,  782046,  982670, ..., 1009292,  625167,  831704])"
      ]
     },
     "execution_count": 36,
     "metadata": {},
     "output_type": "execute_result"
    }
   ],
   "source": [
    "cate_enc_vis.inverse_transform(trans_cat_train['visitorid'])"
   ]
  },
  {
   "cell_type": "code",
   "execution_count": 49,
   "metadata": {},
   "outputs": [
    {
     "data": {
      "text/plain": [
       "0.9986057"
      ]
     },
     "execution_count": 49,
     "metadata": {},
     "output_type": "execute_result"
    }
   ],
   "source": [
    "auc_score(model, rate_matrix['train'], num_threads=8).mean()"
   ]
  },
  {
   "cell_type": "markdown",
   "metadata": {},
   "source": [
    "### 5.2 Evaluation"
   ]
  },
  {
   "cell_type": "code",
   "execution_count": null,
   "metadata": {},
   "outputs": [],
   "source": [
    "### select an example with most addtocart items"
   ]
  },
  {
   "cell_type": "code",
   "execution_count": 37,
   "metadata": {},
   "outputs": [
    {
     "data": {
      "text/plain": [
       "visitorid\n",
       "23843       1\n",
       "930934      1\n",
       "896688      1\n",
       "888200      1\n",
       "883553      1\n",
       "           ..\n",
       "757355      8\n",
       "1297062    20\n",
       "530559     24\n",
       "1150086    30\n",
       "974226     33\n",
       "Name: itemid, Length: 111, dtype: int64"
      ]
     },
     "execution_count": 37,
     "metadata": {},
     "output_type": "execute_result"
    }
   ],
   "source": [
    "events_test[events_test.event=='addtocart'].groupby('visitorid')['itemid'].nunique().sort_values()"
   ]
  },
  {
   "cell_type": "code",
   "execution_count": null,
   "metadata": {},
   "outputs": [],
   "source": [
    "#### addtocart items of this visitorid"
   ]
  },
  {
   "cell_type": "code",
   "execution_count": 38,
   "metadata": {},
   "outputs": [
    {
     "data": {
      "text/html": [
       "<div>\n",
       "<style scoped>\n",
       "    .dataframe tbody tr th:only-of-type {\n",
       "        vertical-align: middle;\n",
       "    }\n",
       "\n",
       "    .dataframe tbody tr th {\n",
       "        vertical-align: top;\n",
       "    }\n",
       "\n",
       "    .dataframe thead th {\n",
       "        text-align: right;\n",
       "    }\n",
       "</style>\n",
       "<table border=\"1\" class=\"dataframe\">\n",
       "  <thead>\n",
       "    <tr style=\"text-align: right;\">\n",
       "      <th></th>\n",
       "      <th>visitorid</th>\n",
       "      <th>itemid</th>\n",
       "      <th>timestamp</th>\n",
       "      <th>event</th>\n",
       "    </tr>\n",
       "  </thead>\n",
       "  <tbody>\n",
       "    <tr>\n",
       "      <th>267454</th>\n",
       "      <td>974226</td>\n",
       "      <td>450226</td>\n",
       "      <td>1436918475510</td>\n",
       "      <td>view</td>\n",
       "    </tr>\n",
       "    <tr>\n",
       "      <th>267494</th>\n",
       "      <td>974226</td>\n",
       "      <td>450226</td>\n",
       "      <td>1436918544619</td>\n",
       "      <td>view</td>\n",
       "    </tr>\n",
       "    <tr>\n",
       "      <th>267509</th>\n",
       "      <td>974226</td>\n",
       "      <td>450226</td>\n",
       "      <td>1436918561458</td>\n",
       "      <td>view</td>\n",
       "    </tr>\n",
       "    <tr>\n",
       "      <th>267527</th>\n",
       "      <td>974226</td>\n",
       "      <td>120050</td>\n",
       "      <td>1436918593083</td>\n",
       "      <td>view</td>\n",
       "    </tr>\n",
       "    <tr>\n",
       "      <th>267540</th>\n",
       "      <td>974226</td>\n",
       "      <td>441645</td>\n",
       "      <td>1436918617970</td>\n",
       "      <td>view</td>\n",
       "    </tr>\n",
       "    <tr>\n",
       "      <th>...</th>\n",
       "      <td>...</td>\n",
       "      <td>...</td>\n",
       "      <td>...</td>\n",
       "      <td>...</td>\n",
       "    </tr>\n",
       "    <tr>\n",
       "      <th>315560</th>\n",
       "      <td>974226</td>\n",
       "      <td>207907</td>\n",
       "      <td>1437100608452</td>\n",
       "      <td>addtocart</td>\n",
       "    </tr>\n",
       "    <tr>\n",
       "      <th>315576</th>\n",
       "      <td>974226</td>\n",
       "      <td>1644</td>\n",
       "      <td>1437100665504</td>\n",
       "      <td>view</td>\n",
       "    </tr>\n",
       "    <tr>\n",
       "      <th>315579</th>\n",
       "      <td>974226</td>\n",
       "      <td>126143</td>\n",
       "      <td>1437100676523</td>\n",
       "      <td>view</td>\n",
       "    </tr>\n",
       "    <tr>\n",
       "      <th>315880</th>\n",
       "      <td>974226</td>\n",
       "      <td>71286</td>\n",
       "      <td>1437101952815</td>\n",
       "      <td>view</td>\n",
       "    </tr>\n",
       "    <tr>\n",
       "      <th>316070</th>\n",
       "      <td>974226</td>\n",
       "      <td>136745</td>\n",
       "      <td>1437102676204</td>\n",
       "      <td>view</td>\n",
       "    </tr>\n",
       "  </tbody>\n",
       "</table>\n",
       "<p>499 rows × 4 columns</p>\n",
       "</div>"
      ],
      "text/plain": [
       "        visitorid  itemid      timestamp      event\n",
       "267454     974226  450226  1436918475510       view\n",
       "267494     974226  450226  1436918544619       view\n",
       "267509     974226  450226  1436918561458       view\n",
       "267527     974226  120050  1436918593083       view\n",
       "267540     974226  441645  1436918617970       view\n",
       "...           ...     ...            ...        ...\n",
       "315560     974226  207907  1437100608452  addtocart\n",
       "315576     974226    1644  1437100665504       view\n",
       "315579     974226  126143  1437100676523       view\n",
       "315880     974226   71286  1437101952815       view\n",
       "316070     974226  136745  1437102676204       view\n",
       "\n",
       "[499 rows x 4 columns]"
      ]
     },
     "execution_count": 38,
     "metadata": {},
     "output_type": "execute_result"
    }
   ],
   "source": [
    "events_test[events_test.visitorid==974226]"
   ]
  },
  {
   "cell_type": "code",
   "execution_count": 39,
   "metadata": {},
   "outputs": [
    {
     "data": {
      "text/plain": [
       "array([441645, 181102, 108083, 116493, 358565, 279316, 409334, 463002,\n",
       "       402816, 439963, 207602, 246247, 257308, 114115,  46232, 151471,\n",
       "       220513, 128146, 228644, 167978, 332005, 287536, 166306,  92361,\n",
       "        28367, 147879, 119736, 367899,  59772,  94437, 380810,  49692,\n",
       "       207907])"
      ]
     },
     "execution_count": 39,
     "metadata": {},
     "output_type": "execute_result"
    }
   ],
   "source": [
    "events_test[(events_test.visitorid==974226)&(events_test.event=='addtocart')].itemid.unique()"
   ]
  },
  {
   "cell_type": "code",
   "execution_count": null,
   "metadata": {},
   "outputs": [],
   "source": [
    "### map items to cate id"
   ]
  },
  {
   "cell_type": "code",
   "execution_count": 41,
   "metadata": {},
   "outputs": [],
   "source": [
    "res = cate_enc_item.transform(events_test[(events_test.visitorid==974226)&(events_test.event=='addtocart')].itemid.unique())"
   ]
  },
  {
   "cell_type": "code",
   "execution_count": 42,
   "metadata": {},
   "outputs": [
    {
     "data": {
      "text/plain": [
       "array([72251, 29637, 17753, 19120, 58767, 45772, 67097, 75703, 66018,\n",
       "       71969, 33987, 40352, 42173, 18714,  7568, 24781, 36105, 21013,\n",
       "       37437, 27479, 54369, 47143, 27198, 15132,  4560, 24215, 19669,\n",
       "       60285,  9795, 15506, 62440,  8145, 34041])"
      ]
     },
     "execution_count": 42,
     "metadata": {},
     "output_type": "execute_result"
    }
   ],
   "source": [
    "res"
   ]
  },
  {
   "cell_type": "code",
   "execution_count": null,
   "metadata": {},
   "outputs": [],
   "source": [
    "### use model to predict"
   ]
  },
  {
   "cell_type": "code",
   "execution_count": 43,
   "metadata": {},
   "outputs": [
    {
     "data": {
      "text/plain": [
       "array([103471])"
      ]
     },
     "execution_count": 43,
     "metadata": {},
     "output_type": "execute_result"
    }
   ],
   "source": [
    "cate_enc_vis.transform(np.array([974226]))"
   ]
  },
  {
   "cell_type": "code",
   "execution_count": 349,
   "metadata": {},
   "outputs": [
    {
     "data": {
      "text/plain": [
       "array([    0,     1,     2, ..., 76351, 76352, 76353])"
      ]
     },
     "execution_count": 349,
     "metadata": {},
     "output_type": "execute_result"
    }
   ],
   "source": [
    "np.arange(n_items)"
   ]
  },
  {
   "cell_type": "code",
   "execution_count": 44,
   "metadata": {},
   "outputs": [],
   "source": [
    "scores = model.predict(103471, np.arange(n_items))"
   ]
  },
  {
   "cell_type": "code",
   "execution_count": 45,
   "metadata": {},
   "outputs": [
    {
     "data": {
      "text/plain": [
       "array([37929,   304, 62429, 71131, 56715,  9477, 14197, 42092, 21571,\n",
       "       49829, 59814, 21129, 75495,  1095, 65423,  7871, 40891, 35733,\n",
       "       35825, 28853, 31176, 54474, 74454, 50235, 30827, 27198, 20547,\n",
       "       39867, 44323, 38828, 41752,  8628, 33444])"
      ]
     },
     "execution_count": 45,
     "metadata": {},
     "output_type": "execute_result"
    }
   ],
   "source": [
    "top33 = pd.Series(np.arange(n_items))[np.argsort(-scores)][:33].values\n",
    "top33"
   ]
  },
  {
   "cell_type": "code",
   "execution_count": 46,
   "metadata": {},
   "outputs": [
    {
     "data": {
      "text/plain": [
       "array([ 4307, 60646, 38821,  5377, 13931,  9664, 67449, 58795, 50983,\n",
       "       32945, 36430, 13704, 61791, 58840, 63710, 21031, 33102, 53319,\n",
       "       73065, 12191, 29697, 41973,  3352, 28651, 64446, 33836, 58512,\n",
       "       33420, 74414, 23714, 51292, 25203,  4548])"
      ]
     },
     "execution_count": 46,
     "metadata": {},
     "output_type": "execute_result"
    }
   ],
   "source": [
    "btm33 = pd.Series(np.arange(n_items))[np.argsort(scores)][:33].values\n",
    "btm33"
   ]
  },
  {
   "cell_type": "code",
   "execution_count": 47,
   "metadata": {},
   "outputs": [
    {
     "data": {
      "text/plain": [
       "array([False, False, False, False, False, False, False, False, False,\n",
       "       False, False, False, False, False, False, False, False, False,\n",
       "       False, False, False, False, False, False, False, False, False,\n",
       "       False, False, False, False, False, False])"
      ]
     },
     "execution_count": 47,
     "metadata": {},
     "output_type": "execute_result"
    }
   ],
   "source": [
    "res == top33"
   ]
  },
  {
   "cell_type": "code",
   "execution_count": 48,
   "metadata": {},
   "outputs": [
    {
     "data": {
      "text/plain": [
       "array([False, False, False, False, False, False, False, False, False,\n",
       "       False, False, False, False, False, False, False, False, False,\n",
       "       False, False, False, False, False, False, False, False, False,\n",
       "       False, False, False, False, False, False])"
      ]
     },
     "execution_count": 48,
     "metadata": {},
     "output_type": "execute_result"
    }
   ],
   "source": [
    "res == btm33"
   ]
  },
  {
   "cell_type": "markdown",
   "metadata": {},
   "source": [
    "## 6. Prediction using customer purchase history"
   ]
  },
  {
   "cell_type": "code",
   "execution_count": 34,
   "metadata": {},
   "outputs": [
    {
     "data": {
      "text/html": [
       "<div>\n",
       "<style scoped>\n",
       "    .dataframe tbody tr th:only-of-type {\n",
       "        vertical-align: middle;\n",
       "    }\n",
       "\n",
       "    .dataframe tbody tr th {\n",
       "        vertical-align: top;\n",
       "    }\n",
       "\n",
       "    .dataframe thead th {\n",
       "        text-align: right;\n",
       "    }\n",
       "</style>\n",
       "<table border=\"1\" class=\"dataframe\">\n",
       "  <thead>\n",
       "    <tr style=\"text-align: right;\">\n",
       "      <th></th>\n",
       "      <th>visitorid</th>\n",
       "      <th>itemid</th>\n",
       "      <th>timestamp</th>\n",
       "      <th>event</th>\n",
       "      <th>transactionid</th>\n",
       "      <th>datetime</th>\n",
       "      <th>bought_item</th>\n",
       "      <th>lastview_item</th>\n",
       "      <th>addcart_item</th>\n",
       "      <th>after_addcart_item</th>\n",
       "      <th>previewtimes</th>\n",
       "      <th>firstview_dif_min</th>\n",
       "      <th>lastview_dif</th>\n",
       "    </tr>\n",
       "  </thead>\n",
       "  <tbody>\n",
       "    <tr>\n",
       "      <th>0</th>\n",
       "      <td>5</td>\n",
       "      <td>61396</td>\n",
       "      <td>1437097556439</td>\n",
       "      <td>view</td>\n",
       "      <td>NaN</td>\n",
       "      <td>2015-07-17 01:45:56</td>\n",
       "      <td>[nan]</td>\n",
       "      <td>[]</td>\n",
       "      <td>[nan]</td>\n",
       "      <td>[nan]</td>\n",
       "      <td>NaN</td>\n",
       "      <td>NaN</td>\n",
       "      <td>NaN</td>\n",
       "    </tr>\n",
       "    <tr>\n",
       "      <th>1</th>\n",
       "      <td>9</td>\n",
       "      <td>222422</td>\n",
       "      <td>1436377007285</td>\n",
       "      <td>view</td>\n",
       "      <td>NaN</td>\n",
       "      <td>2015-07-08 17:36:47</td>\n",
       "      <td>[nan]</td>\n",
       "      <td>[]</td>\n",
       "      <td>[nan]</td>\n",
       "      <td>[nan]</td>\n",
       "      <td>NaN</td>\n",
       "      <td>NaN</td>\n",
       "      <td>NaN</td>\n",
       "    </tr>\n",
       "    <tr>\n",
       "      <th>2</th>\n",
       "      <td>20</td>\n",
       "      <td>176623</td>\n",
       "      <td>1436805036364</td>\n",
       "      <td>view</td>\n",
       "      <td>NaN</td>\n",
       "      <td>2015-07-13 16:30:36</td>\n",
       "      <td>[nan]</td>\n",
       "      <td>[]</td>\n",
       "      <td>[nan]</td>\n",
       "      <td>[nan]</td>\n",
       "      <td>NaN</td>\n",
       "      <td>NaN</td>\n",
       "      <td>NaN</td>\n",
       "    </tr>\n",
       "    <tr>\n",
       "      <th>3</th>\n",
       "      <td>36</td>\n",
       "      <td>176286</td>\n",
       "      <td>1436804963786</td>\n",
       "      <td>view</td>\n",
       "      <td>NaN</td>\n",
       "      <td>2015-07-13 16:29:23</td>\n",
       "      <td>[nan]</td>\n",
       "      <td>[]</td>\n",
       "      <td>[nan]</td>\n",
       "      <td>[nan]</td>\n",
       "      <td>NaN</td>\n",
       "      <td>NaN</td>\n",
       "      <td>NaN</td>\n",
       "    </tr>\n",
       "    <tr>\n",
       "      <th>4</th>\n",
       "      <td>36</td>\n",
       "      <td>176286</td>\n",
       "      <td>1436805168853</td>\n",
       "      <td>view</td>\n",
       "      <td>NaN</td>\n",
       "      <td>2015-07-13 16:32:48</td>\n",
       "      <td>[nan]</td>\n",
       "      <td>[176286.0]</td>\n",
       "      <td>[nan]</td>\n",
       "      <td>[nan]</td>\n",
       "      <td>1.0</td>\n",
       "      <td>3.417783</td>\n",
       "      <td>3.417783</td>\n",
       "    </tr>\n",
       "  </tbody>\n",
       "</table>\n",
       "</div>"
      ],
      "text/plain": [
       "   visitorid  itemid      timestamp event  transactionid             datetime  \\\n",
       "0          5   61396  1437097556439  view            NaN  2015-07-17 01:45:56   \n",
       "1          9  222422  1436377007285  view            NaN  2015-07-08 17:36:47   \n",
       "2         20  176623  1436805036364  view            NaN  2015-07-13 16:30:36   \n",
       "3         36  176286  1436804963786  view            NaN  2015-07-13 16:29:23   \n",
       "4         36  176286  1436805168853  view            NaN  2015-07-13 16:32:48   \n",
       "\n",
       "  bought_item lastview_item addcart_item after_addcart_item  previewtimes  \\\n",
       "0       [nan]            []        [nan]              [nan]           NaN   \n",
       "1       [nan]            []        [nan]              [nan]           NaN   \n",
       "2       [nan]            []        [nan]              [nan]           NaN   \n",
       "3       [nan]            []        [nan]              [nan]           NaN   \n",
       "4       [nan]    [176286.0]        [nan]              [nan]           1.0   \n",
       "\n",
       "   firstview_dif_min  lastview_dif  \n",
       "0                NaN           NaN  \n",
       "1                NaN           NaN  \n",
       "2                NaN           NaN  \n",
       "3                NaN           NaN  \n",
       "4           3.417783      3.417783  "
      ]
     },
     "execution_count": 34,
     "metadata": {},
     "output_type": "execute_result"
    }
   ],
   "source": [
    "df6.head()"
   ]
  },
  {
   "cell_type": "code",
   "execution_count": 35,
   "metadata": {},
   "outputs": [],
   "source": [
    "import ast"
   ]
  },
  {
   "cell_type": "code",
   "execution_count": 36,
   "metadata": {},
   "outputs": [],
   "source": [
    "df6['bought_add_view_item'] = df6['bought_item'].str.replace('nan', '00').apply(lambda x: ast.literal_eval(x)) + \\\n",
    "df6['addcart_item'].str.replace('nan', '00').apply(lambda x: ast.literal_eval(x)) + \\\n",
    "df6['lastview_item'].astype('str').str.replace('nan', '[00]').replace('[]', '[00]').apply(lambda x: ast.literal_eval(x))"
   ]
  },
  {
   "cell_type": "code",
   "execution_count": 37,
   "metadata": {},
   "outputs": [],
   "source": [
    "df6['bought_add_view_item1'] = df6['bought_add_view_item'].apply(lambda x: list(set(x)))"
   ]
  },
  {
   "cell_type": "code",
   "execution_count": 38,
   "metadata": {},
   "outputs": [],
   "source": [
    "df6['after_addcart_item1'] = df6['after_addcart_item'].str.replace('nan', '00').apply(lambda x: ast.literal_eval(x)).apply(lambda x: list(set(x)))"
   ]
  },
  {
   "cell_type": "code",
   "execution_count": null,
   "metadata": {},
   "outputs": [],
   "source": [
    "### count overlap elements"
   ]
  },
  {
   "cell_type": "code",
   "execution_count": null,
   "metadata": {},
   "outputs": [],
   "source": [
    "df6['x_y'] = df6['bought_add_view_item1'] + df6['after_addcart_item1']"
   ]
  },
  {
   "cell_type": "code",
   "execution_count": null,
   "metadata": {},
   "outputs": [],
   "source": [
    "df6['x_y_dis'] = df6['x_y'].apply(lambda x: list(set(x)))"
   ]
  },
  {
   "cell_type": "code",
   "execution_count": null,
   "metadata": {},
   "outputs": [],
   "source": [
    "df6['x_y_len'] =  df6['x_y'].apply(lambda x: len(x))"
   ]
  },
  {
   "cell_type": "code",
   "execution_count": null,
   "metadata": {},
   "outputs": [],
   "source": [
    "df6['x_y_dis_len'] = df6['x_y_dis'].apply(lambda x: len(x))"
   ]
  },
  {
   "cell_type": "code",
   "execution_count": null,
   "metadata": {},
   "outputs": [],
   "source": [
    "df6['y_len'] = df6['after_addcart_item1'].apply(lambda x: len(x))"
   ]
  },
  {
   "cell_type": "code",
   "execution_count": null,
   "metadata": {},
   "outputs": [],
   "source": [
    "df6['after_addcart_item1'].astype('str').apply(lambda x: '[0]' not in x).sum()"
   ]
  },
  {
   "cell_type": "code",
   "execution_count": null,
   "metadata": {},
   "outputs": [],
   "source": [
    "df6[df6['after_addcart_item1'].astype('str')!='[0]']"
   ]
  },
  {
   "cell_type": "code",
   "execution_count": null,
   "metadata": {},
   "outputs": [],
   "source": [
    "dfx = df6[df6['after_addcart_item1'].astype('str')!='[0]']"
   ]
  },
  {
   "cell_type": "code",
   "execution_count": null,
   "metadata": {},
   "outputs": [],
   "source": [
    "dfx['pred_len'] = dfx['x_y_len'] - dfx['x_y_dis_len']"
   ]
  },
  {
   "cell_type": "code",
   "execution_count": null,
   "metadata": {},
   "outputs": [],
   "source": [
    "## records with history"
   ]
  },
  {
   "cell_type": "code",
   "execution_count": null,
   "metadata": {},
   "outputs": [],
   "source": [
    "sum(df6['bought_add_view_item1'].astype('str')!='[0]')"
   ]
  },
  {
   "cell_type": "code",
   "execution_count": null,
   "metadata": {},
   "outputs": [],
   "source": [
    "df6.shape[0]"
   ]
  },
  {
   "cell_type": "code",
   "execution_count": null,
   "metadata": {},
   "outputs": [],
   "source": [
    "160821/333360"
   ]
  },
  {
   "cell_type": "code",
   "execution_count": null,
   "metadata": {},
   "outputs": [],
   "source": [
    "## accuracy"
   ]
  },
  {
   "cell_type": "code",
   "execution_count": null,
   "metadata": {},
   "outputs": [],
   "source": [
    "dfx.shape[0]"
   ]
  },
  {
   "cell_type": "code",
   "execution_count": null,
   "metadata": {},
   "outputs": [],
   "source": [
    "dfx[dfx.pred_len>0].shape[0]/dfx.shape[0]"
   ]
  },
  {
   "cell_type": "code",
   "execution_count": null,
   "metadata": {},
   "outputs": [],
   "source": [
    "dfx['pred_len'].sum()/dfx['y_len'].sum()"
   ]
  },
  {
   "cell_type": "code",
   "execution_count": null,
   "metadata": {},
   "outputs": [],
   "source": [
    "df6.shape[0]"
   ]
  },
  {
   "cell_type": "markdown",
   "metadata": {},
   "source": [
    "## 7. Additional descriptive analysis"
   ]
  },
  {
   "cell_type": "code",
   "execution_count": 58,
   "metadata": {},
   "outputs": [
    {
     "data": {
      "text/html": [
       "<div>\n",
       "<style scoped>\n",
       "    .dataframe tbody tr th:only-of-type {\n",
       "        vertical-align: middle;\n",
       "    }\n",
       "\n",
       "    .dataframe tbody tr th {\n",
       "        vertical-align: top;\n",
       "    }\n",
       "\n",
       "    .dataframe thead th {\n",
       "        text-align: right;\n",
       "    }\n",
       "</style>\n",
       "<table border=\"1\" class=\"dataframe\">\n",
       "  <thead>\n",
       "    <tr style=\"text-align: right;\">\n",
       "      <th></th>\n",
       "      <th>visitorid</th>\n",
       "      <th>itemid</th>\n",
       "      <th>timestamp</th>\n",
       "      <th>event</th>\n",
       "      <th>transactionid</th>\n",
       "      <th>datetime</th>\n",
       "      <th>bought_item</th>\n",
       "      <th>lastview_item</th>\n",
       "      <th>addcart_item</th>\n",
       "      <th>after_addcart_item</th>\n",
       "      <th>...</th>\n",
       "      <th>firstview_dif_min</th>\n",
       "      <th>lastview_dif</th>\n",
       "      <th>bought_add_view_item</th>\n",
       "      <th>bought_add_view_item1</th>\n",
       "      <th>after_addcart_item1</th>\n",
       "      <th>x_y</th>\n",
       "      <th>x_y_dis</th>\n",
       "      <th>x_y_len</th>\n",
       "      <th>x_y_dis_len</th>\n",
       "      <th>y_len</th>\n",
       "    </tr>\n",
       "  </thead>\n",
       "  <tbody>\n",
       "    <tr>\n",
       "      <th>0</th>\n",
       "      <td>5</td>\n",
       "      <td>61396</td>\n",
       "      <td>1437097556439</td>\n",
       "      <td>view</td>\n",
       "      <td>NaN</td>\n",
       "      <td>2015-07-17 01:45:56</td>\n",
       "      <td>[nan]</td>\n",
       "      <td>[]</td>\n",
       "      <td>[nan]</td>\n",
       "      <td>[nan]</td>\n",
       "      <td>...</td>\n",
       "      <td>NaN</td>\n",
       "      <td>NaN</td>\n",
       "      <td>[0, 0, 0]</td>\n",
       "      <td>[0]</td>\n",
       "      <td>[0]</td>\n",
       "      <td>[0, 0]</td>\n",
       "      <td>[0]</td>\n",
       "      <td>2</td>\n",
       "      <td>1</td>\n",
       "      <td>1</td>\n",
       "    </tr>\n",
       "    <tr>\n",
       "      <th>1</th>\n",
       "      <td>9</td>\n",
       "      <td>222422</td>\n",
       "      <td>1436377007285</td>\n",
       "      <td>view</td>\n",
       "      <td>NaN</td>\n",
       "      <td>2015-07-08 17:36:47</td>\n",
       "      <td>[nan]</td>\n",
       "      <td>[]</td>\n",
       "      <td>[nan]</td>\n",
       "      <td>[nan]</td>\n",
       "      <td>...</td>\n",
       "      <td>NaN</td>\n",
       "      <td>NaN</td>\n",
       "      <td>[0, 0, 0]</td>\n",
       "      <td>[0]</td>\n",
       "      <td>[0]</td>\n",
       "      <td>[0, 0]</td>\n",
       "      <td>[0]</td>\n",
       "      <td>2</td>\n",
       "      <td>1</td>\n",
       "      <td>1</td>\n",
       "    </tr>\n",
       "    <tr>\n",
       "      <th>2</th>\n",
       "      <td>20</td>\n",
       "      <td>176623</td>\n",
       "      <td>1436805036364</td>\n",
       "      <td>view</td>\n",
       "      <td>NaN</td>\n",
       "      <td>2015-07-13 16:30:36</td>\n",
       "      <td>[nan]</td>\n",
       "      <td>[]</td>\n",
       "      <td>[nan]</td>\n",
       "      <td>[nan]</td>\n",
       "      <td>...</td>\n",
       "      <td>NaN</td>\n",
       "      <td>NaN</td>\n",
       "      <td>[0, 0, 0]</td>\n",
       "      <td>[0]</td>\n",
       "      <td>[0]</td>\n",
       "      <td>[0, 0]</td>\n",
       "      <td>[0]</td>\n",
       "      <td>2</td>\n",
       "      <td>1</td>\n",
       "      <td>1</td>\n",
       "    </tr>\n",
       "    <tr>\n",
       "      <th>3</th>\n",
       "      <td>36</td>\n",
       "      <td>176286</td>\n",
       "      <td>1436804963786</td>\n",
       "      <td>view</td>\n",
       "      <td>NaN</td>\n",
       "      <td>2015-07-13 16:29:23</td>\n",
       "      <td>[nan]</td>\n",
       "      <td>[]</td>\n",
       "      <td>[nan]</td>\n",
       "      <td>[nan]</td>\n",
       "      <td>...</td>\n",
       "      <td>NaN</td>\n",
       "      <td>NaN</td>\n",
       "      <td>[0, 0, 0]</td>\n",
       "      <td>[0]</td>\n",
       "      <td>[0]</td>\n",
       "      <td>[0, 0]</td>\n",
       "      <td>[0]</td>\n",
       "      <td>2</td>\n",
       "      <td>1</td>\n",
       "      <td>1</td>\n",
       "    </tr>\n",
       "    <tr>\n",
       "      <th>4</th>\n",
       "      <td>36</td>\n",
       "      <td>176286</td>\n",
       "      <td>1436805168853</td>\n",
       "      <td>view</td>\n",
       "      <td>NaN</td>\n",
       "      <td>2015-07-13 16:32:48</td>\n",
       "      <td>[nan]</td>\n",
       "      <td>[176286.0]</td>\n",
       "      <td>[nan]</td>\n",
       "      <td>[nan]</td>\n",
       "      <td>...</td>\n",
       "      <td>3.417783</td>\n",
       "      <td>3.417783</td>\n",
       "      <td>[0, 0, 176286.0]</td>\n",
       "      <td>[0, 176286.0]</td>\n",
       "      <td>[0]</td>\n",
       "      <td>[0, 176286.0, 0]</td>\n",
       "      <td>[0, 176286.0]</td>\n",
       "      <td>3</td>\n",
       "      <td>2</td>\n",
       "      <td>1</td>\n",
       "    </tr>\n",
       "  </tbody>\n",
       "</table>\n",
       "<p>5 rows × 21 columns</p>\n",
       "</div>"
      ],
      "text/plain": [
       "   visitorid  itemid      timestamp event  transactionid             datetime  \\\n",
       "0          5   61396  1437097556439  view            NaN  2015-07-17 01:45:56   \n",
       "1          9  222422  1436377007285  view            NaN  2015-07-08 17:36:47   \n",
       "2         20  176623  1436805036364  view            NaN  2015-07-13 16:30:36   \n",
       "3         36  176286  1436804963786  view            NaN  2015-07-13 16:29:23   \n",
       "4         36  176286  1436805168853  view            NaN  2015-07-13 16:32:48   \n",
       "\n",
       "  bought_item lastview_item addcart_item after_addcart_item  ...  \\\n",
       "0       [nan]            []        [nan]              [nan]  ...   \n",
       "1       [nan]            []        [nan]              [nan]  ...   \n",
       "2       [nan]            []        [nan]              [nan]  ...   \n",
       "3       [nan]            []        [nan]              [nan]  ...   \n",
       "4       [nan]    [176286.0]        [nan]              [nan]  ...   \n",
       "\n",
       "   firstview_dif_min  lastview_dif  bought_add_view_item  \\\n",
       "0                NaN           NaN             [0, 0, 0]   \n",
       "1                NaN           NaN             [0, 0, 0]   \n",
       "2                NaN           NaN             [0, 0, 0]   \n",
       "3                NaN           NaN             [0, 0, 0]   \n",
       "4           3.417783      3.417783      [0, 0, 176286.0]   \n",
       "\n",
       "  bought_add_view_item1 after_addcart_item1               x_y        x_y_dis  \\\n",
       "0                   [0]                 [0]            [0, 0]            [0]   \n",
       "1                   [0]                 [0]            [0, 0]            [0]   \n",
       "2                   [0]                 [0]            [0, 0]            [0]   \n",
       "3                   [0]                 [0]            [0, 0]            [0]   \n",
       "4         [0, 176286.0]                 [0]  [0, 176286.0, 0]  [0, 176286.0]   \n",
       "\n",
       "  x_y_len  x_y_dis_len  y_len  \n",
       "0       2            1      1  \n",
       "1       2            1      1  \n",
       "2       2            1      1  \n",
       "3       2            1      1  \n",
       "4       3            2      1  \n",
       "\n",
       "[5 rows x 21 columns]"
      ]
     },
     "execution_count": 58,
     "metadata": {},
     "output_type": "execute_result"
    }
   ],
   "source": [
    "df6.head()"
   ]
  },
  {
   "cell_type": "code",
   "execution_count": 59,
   "metadata": {},
   "outputs": [
    {
     "data": {
      "text/plain": [
       "Index(['visitorid', 'itemid', 'timestamp', 'event', 'transactionid',\n",
       "       'datetime', 'bought_item', 'lastview_item', 'addcart_item',\n",
       "       'after_addcart_item', 'previewtimes', 'firstview_dif_min',\n",
       "       'lastview_dif', 'bought_add_view_item', 'bought_add_view_item1',\n",
       "       'after_addcart_item1', 'x_y', 'x_y_dis', 'x_y_len', 'x_y_dis_len',\n",
       "       'y_len'],\n",
       "      dtype='object')"
      ]
     },
     "execution_count": 59,
     "metadata": {},
     "output_type": "execute_result"
    }
   ],
   "source": [
    "df6.columns"
   ]
  },
  {
   "cell_type": "markdown",
   "metadata": {},
   "source": [
    "### 1. event breakdown"
   ]
  },
  {
   "cell_type": "code",
   "execution_count": 123,
   "metadata": {},
   "outputs": [
    {
     "data": {
      "image/png": "[encoded data removed]",
      "text/plain": [
       "<Figure size 432x288 with 1 Axes>"
      ]
     },
     "metadata": {
      "needs_background": "light"
     },
     "output_type": "display_data"
    }
   ],
   "source": [
    "totalcases=df6.shape[0]\n",
    "\n",
    "fig, ax = plt.subplots(1,1)\n",
    "\n",
    "for event in df6['event'].unique().tolist():\n",
    "    height=len(df6[df6['event']==event])\n",
    "    ax.bar(x=event, height=height)\n",
    "    \n",
    "    text=height/totalcases\n",
    "    text=str(round(text*100,2)) + '%'\n",
    "    ax.text(event, height, text, fontsize=12)\n",
    "\n",
    "ax.set_xlabel('Type of Events')\n",
    "ax.set_ylabel('Number of Events')\n",
    "plt.show()"
   ]
  },
  {
   "cell_type": "markdown",
   "metadata": {},
   "source": [
    "### 2. number of times view"
   ]
  },
  {
   "cell_type": "code",
   "execution_count": 102,
   "metadata": {},
   "outputs": [],
   "source": [
    "#df6[df6.previewtimes.isna()]['previewtimes']=0\n",
    "df6.loc[df6.previewtimes.isna(), 'previewtimes'] = 0"
   ]
  },
  {
   "cell_type": "code",
   "execution_count": 104,
   "metadata": {},
   "outputs": [],
   "source": [
    "df6.loc[df6['previewtimes']==0, 'viewtimes_cat'] = 'Instant Purchase'\n",
    "df6.loc[df6['previewtimes']==1, 'viewtimes_cat'] = '1 View'\n",
    "df6.loc[df6['previewtimes']==2, 'viewtimes_cat'] = '2 Views'\n",
    "df6.loc[df6['previewtimes']==3, 'viewtimes_cat'] = '3 Views'\n",
    "df6.loc[df6['previewtimes']==4, 'viewtimes_cat'] = '4 Views'\n",
    "df6.loc[df6['previewtimes']>4,  'viewtimes_cat'] = '5 Views and/or above'"
   ]
  },
  {
   "cell_type": "code",
   "execution_count": 105,
   "metadata": {},
   "outputs": [],
   "source": [
    "df6['purchase'] = 0\n",
    "df6.loc[df6['event'].isin(['addtocart', 'transaction']), 'purchase'] = 1"
   ]
  },
  {
   "cell_type": "code",
   "execution_count": 113,
   "metadata": {},
   "outputs": [],
   "source": [
    "n_viw3 = pd.DataFrame(df6[df6.purchase==1]['viewtimes_cat'].value_counts()/df6[df6.purchase==1].shape[0])"
   ]
  },
  {
   "cell_type": "code",
   "execution_count": 114,
   "metadata": {},
   "outputs": [
    {
     "data": {
      "text/html": [
       "<div>\n",
       "<style scoped>\n",
       "    .dataframe tbody tr th:only-of-type {\n",
       "        vertical-align: middle;\n",
       "    }\n",
       "\n",
       "    .dataframe tbody tr th {\n",
       "        vertical-align: top;\n",
       "    }\n",
       "\n",
       "    .dataframe thead th {\n",
       "        text-align: right;\n",
       "    }\n",
       "</style>\n",
       "<table border=\"1\" class=\"dataframe\">\n",
       "  <thead>\n",
       "    <tr style=\"text-align: right;\">\n",
       "      <th></th>\n",
       "      <th>viewtimes_cat</th>\n",
       "    </tr>\n",
       "  </thead>\n",
       "  <tbody>\n",
       "    <tr>\n",
       "      <th>1 View</th>\n",
       "      <td>0.491458</td>\n",
       "    </tr>\n",
       "    <tr>\n",
       "      <th>Instant Purchase</th>\n",
       "      <td>0.226396</td>\n",
       "    </tr>\n",
       "    <tr>\n",
       "      <th>2 Views</th>\n",
       "      <td>0.156686</td>\n",
       "    </tr>\n",
       "    <tr>\n",
       "      <th>3 Views</th>\n",
       "      <td>0.061076</td>\n",
       "    </tr>\n",
       "    <tr>\n",
       "      <th>5 Views and/or above</th>\n",
       "      <td>0.039585</td>\n",
       "    </tr>\n",
       "    <tr>\n",
       "      <th>4 Views</th>\n",
       "      <td>0.024798</td>\n",
       "    </tr>\n",
       "  </tbody>\n",
       "</table>\n",
       "</div>"
      ],
      "text/plain": [
       "                      viewtimes_cat\n",
       "1 View                     0.491458\n",
       "Instant Purchase           0.226396\n",
       "2 Views                    0.156686\n",
       "3 Views                    0.061076\n",
       "5 Views and/or above       0.039585\n",
       "4 Views                    0.024798"
      ]
     },
     "execution_count": 114,
     "metadata": {},
     "output_type": "execute_result"
    }
   ],
   "source": [
    "n_viw3"
   ]
  },
  {
   "cell_type": "code",
   "execution_count": 122,
   "metadata": {},
   "outputs": [
    {
     "name": "stderr",
     "output_type": "stream",
     "text": [
      "/opt/anaconda3/lib/python3.8/site-packages/pandas/plotting/_matplotlib/core.py:1547: MatplotlibDeprecationWarning: normalize=None does not normalize if the sum is less than 1 but this behavior is deprecated since 3.3 until two minor releases later. After the deprecation period the default value will be normalize=True. To prevent normalization pass normalize=False \n",
      "  results = ax.pie(y, labels=blabels, **kwds)\n"
     ]
    },
    {
     "data": {
      "image/png": "[encoded data removed]",
      "text/plain": [
       "<Figure size 576x576 with 1 Axes>"
      ]
     },
     "metadata": {},
     "output_type": "display_data"
    }
   ],
   "source": [
    "## pie chart\n",
    "n_viw3.plot(y='viewtimes_cat', kind='pie', autopct='%1.1f%%',  shadow=True, startangle=-90, legend=False, figsize=(8,8), fontsize=12)\n",
    "plt.title('The Number of Item Views Before Purchase Decision', fontsize=15, pad=15)\n",
    "plt.ylabel('')\n",
    "plt.show()"
   ]
  },
  {
   "cell_type": "markdown",
   "metadata": {},
   "source": [
    "### 3. Time taken to make a purchase"
   ]
  },
  {
   "cell_type": "code",
   "execution_count": 158,
   "metadata": {},
   "outputs": [],
   "source": [
    "def time_cal(column):\n",
    "    hr, remainder=divmod(column, 3600)\n",
    "    mins,sec=divmod(remainder, 60)\n",
    "    list=[]\n",
    "    for i in range(len(column)):\n",
    "        t='%sh%sm%ss'%(hr[i],mins[i],round(sec[i],0))\n",
    "        t=str(t)\n",
    "        list.append(str(t))\n",
    "    return list"
   ]
  },
  {
   "cell_type": "code",
   "execution_count": null,
   "metadata": {},
   "outputs": [],
   "source": [
    "purchase_s = df6[(df6.purchase==1)&(df6.previewtimes==1)]\n",
    "purchase_m = df6[(df6.purchase==1)&(df6.previewtimes>1)]"
   ]
  },
  {
   "cell_type": "code",
   "execution_count": null,
   "metadata": {},
   "outputs": [],
   "source": [
    "### 25% percentile"
   ]
  },
  {
   "cell_type": "code",
   "execution_count": 135,
   "metadata": {},
   "outputs": [],
   "source": [
    "q1 = [purchase_s['firstview_dif_min'].quantile(.25)*60, \n",
    " purchase_m['firstview_dif_min'].quantile(.25)*60, \n",
    " purchase_m['lastview_dif'].quantile(.25)*60]"
   ]
  },
  {
   "cell_type": "code",
   "execution_count": null,
   "metadata": {},
   "outputs": [],
   "source": [
    "### 50% percentile"
   ]
  },
  {
   "cell_type": "code",
   "execution_count": 136,
   "metadata": {},
   "outputs": [],
   "source": [
    "q2 = [purchase_s['firstview_dif_min'].quantile(.5)*60, \n",
    " purchase_m['firstview_dif_min'].quantile(.5)*60, \n",
    " purchase_m['lastview_dif'].quantile(.5)*60]"
   ]
  },
  {
   "cell_type": "code",
   "execution_count": 139,
   "metadata": {},
   "outputs": [
    {
     "data": {
      "text/plain": [
       "[83.807, 1555.5014999999999, 109.18099999999997]"
      ]
     },
     "execution_count": 139,
     "metadata": {},
     "output_type": "execute_result"
    }
   ],
   "source": [
    "q2"
   ]
  },
  {
   "cell_type": "code",
   "execution_count": null,
   "metadata": {},
   "outputs": [],
   "source": [
    "### 75% percentile"
   ]
  },
  {
   "cell_type": "code",
   "execution_count": 137,
   "metadata": {},
   "outputs": [],
   "source": [
    "q3 = [purchase_s['firstview_dif_min'].quantile(.75)*60, \n",
    " purchase_m['firstview_dif_min'].quantile(.75)*60, \n",
    " purchase_m['lastview_dif'].quantile(.75)*60]"
   ]
  },
  {
   "cell_type": "code",
   "execution_count": 140,
   "metadata": {},
   "outputs": [
    {
     "data": {
      "text/plain": [
       "[265.476, 71255.44175, 387.17600000000004]"
      ]
     },
     "execution_count": 140,
     "metadata": {},
     "output_type": "execute_result"
    }
   ],
   "source": [
    "q3"
   ]
  },
  {
   "cell_type": "code",
   "execution_count": 150,
   "metadata": {},
   "outputs": [],
   "source": [
    "from decimal import *"
   ]
  },
  {
   "cell_type": "code",
   "execution_count": 151,
   "metadata": {},
   "outputs": [],
   "source": [
    "'''q1 = [float(Decimal(\"%.2f\" % e)) for e in q1]\n",
    "q2 = [float(Decimal(\"%.2f\" % e)) for e in q2]\n",
    "q3 = [float(Decimal(\"%.2f\" % e)) for e in q3]'''"
   ]
  },
  {
   "cell_type": "code",
   "execution_count": null,
   "metadata": {},
   "outputs": [],
   "source": [
    "### plot"
   ]
  },
  {
   "cell_type": "code",
   "execution_count": 159,
   "metadata": {},
   "outputs": [],
   "source": [
    "data={'Transaction Type':['Single View','Multiple Views(initial)','Multiple Views(last)'],\\\n",
    "     '25th percentile': q1,\\\n",
    "     '50th percentile': q2,\\\n",
    "     '75th percentile': q3}\n",
    "data=pd.DataFrame(data)\n",
    "data=data.set_index('Transaction Type')\n",
    "t_data=data.transpose()\n",
    "\n",
    "q1time=time_cal(t_data['Single View'])\n",
    "q2time=time_cal(t_data['Multiple Views(initial)'])\n",
    "q3time=time_cal(t_data['Multiple Views(last)'])"
   ]
  },
  {
   "cell_type": "code",
   "execution_count": 143,
   "metadata": {},
   "outputs": [
    {
     "data": {
      "text/html": [
       "<div>\n",
       "<style scoped>\n",
       "    .dataframe tbody tr th:only-of-type {\n",
       "        vertical-align: middle;\n",
       "    }\n",
       "\n",
       "    .dataframe tbody tr th {\n",
       "        vertical-align: top;\n",
       "    }\n",
       "\n",
       "    .dataframe thead th {\n",
       "        text-align: right;\n",
       "    }\n",
       "</style>\n",
       "<table border=\"1\" class=\"dataframe\">\n",
       "  <thead>\n",
       "    <tr style=\"text-align: right;\">\n",
       "      <th></th>\n",
       "      <th>25th percentile</th>\n",
       "      <th>50th percentile</th>\n",
       "      <th>75th percentile</th>\n",
       "    </tr>\n",
       "    <tr>\n",
       "      <th>Transaction Type</th>\n",
       "      <th></th>\n",
       "      <th></th>\n",
       "      <th></th>\n",
       "    </tr>\n",
       "  </thead>\n",
       "  <tbody>\n",
       "    <tr>\n",
       "      <th>Single View</th>\n",
       "      <td>22.93250</td>\n",
       "      <td>83.8070</td>\n",
       "      <td>265.47600</td>\n",
       "    </tr>\n",
       "    <tr>\n",
       "      <th>Multiple Views(initial)</th>\n",
       "      <td>360.13350</td>\n",
       "      <td>1555.5015</td>\n",
       "      <td>71255.44175</td>\n",
       "    </tr>\n",
       "    <tr>\n",
       "      <th>Multiple Views(last)</th>\n",
       "      <td>17.94975</td>\n",
       "      <td>109.1810</td>\n",
       "      <td>387.17600</td>\n",
       "    </tr>\n",
       "  </tbody>\n",
       "</table>\n",
       "</div>"
      ],
      "text/plain": [
       "                         25th percentile  50th percentile  75th percentile\n",
       "Transaction Type                                                          \n",
       "Single View                     22.93250          83.8070        265.47600\n",
       "Multiple Views(initial)        360.13350        1555.5015      71255.44175\n",
       "Multiple Views(last)            17.94975         109.1810        387.17600"
      ]
     },
     "execution_count": 143,
     "metadata": {},
     "output_type": "execute_result"
    }
   ],
   "source": [
    "data"
   ]
  },
  {
   "cell_type": "code",
   "execution_count": 160,
   "metadata": {},
   "outputs": [
    {
     "data": {
      "text/plain": [
       "['0.0h0.0m23.0s', '0.0h1.0m24.0s', '0.0h4.0m25.0s']"
      ]
     },
     "execution_count": 160,
     "metadata": {},
     "output_type": "execute_result"
    }
   ],
   "source": [
    "q1time"
   ]
  },
  {
   "cell_type": "code",
   "execution_count": 161,
   "metadata": {},
   "outputs": [
    {
     "data": {
      "image/png": "[encoded data removed]",
      "text/plain": [
       "<Figure size 720x576 with 2 Axes>"
      ]
     },
     "metadata": {
      "needs_background": "light"
     },
     "output_type": "display_data"
    }
   ],
   "source": [
    "f, (ax1, ax2) = plt.subplots(2, 1, sharex=True, figsize=(10,8))\n",
    "\n",
    "# plot the same data on both axes\n",
    "data.plot(ax=ax1, kind='bar')\n",
    "data.plot(ax=ax2, kind='bar')\n",
    "\n",
    "# zoom-in / limit the view to different portions of the data\n",
    "ax1.set_ylim(30000, 35000)  # outliers only\n",
    "ax2.set_ylim(0, 2000)  # most of the data\n",
    "\n",
    "# hide the spines between ax and ax2\n",
    "ax1.spines['top'].set_visible(False)\n",
    "ax2.spines['bottom'].set_visible(False)\n",
    "ax1.xaxis.tick_top()\n",
    "ax1.tick_params(labeltop='off')  # don't put tick labels at the top\n",
    "ax2.xaxis.tick_bottom()\n",
    "ax2.set_xticklabels(ax2.get_xticklabels(), rotation = 45, ha=\"right\", fontsize=15)\n",
    "ax2.legend('')\n",
    "\n",
    "# This looks pretty good, and was fairly painless, but you can get that\n",
    "# cut-out diagonal lines look with just a bit more work. The important\n",
    "# thing to know here is that in axes coordinates, which are always\n",
    "# between 0-1, spine endpoints are at these locations (0,0), (0,1),\n",
    "# (1,0), and (1,1).  Thus, we just need to put the diagonals in the\n",
    "# appropriate corners of each of our axes, and so long as we use the\n",
    "# right transform and disable clipping.\n",
    "\n",
    "d = .015  # how big to make the diagonal lines in axes coordinates\n",
    "# arguments to pass to plot, just so we don't keep repeating them\n",
    "kwargs = dict(transform=ax1.transAxes, color='k', clip_on=False)\n",
    "ax1.plot((-d, +d), (-d, +d), **kwargs)        # top-left diagonal\n",
    "ax1.plot((1 - d, 1 + d), (-d, +d), **kwargs)  # top-right diagonal\n",
    "\n",
    "kwargs.update(transform=ax2.transAxes)  # switch to the bottom axes\n",
    "ax2.plot((-d, +d), (1 - d, 1 + d), **kwargs)  # bottom-left diagonal\n",
    "ax2.plot((1 - d, 1 + d), (1 - d, 1 + d), **kwargs)  # bottom-right diagonal\n",
    "\n",
    "x=[-0.4,-0.1,0]\n",
    "for x,y,qt in zip(x,t_data['Single View'],q1time):\n",
    "    plt.text(x, y+500, qt, fontsize=12)\n",
    "x=[0.6,0.9,1]\n",
    "for x,y,qt in zip(x,t_data['Multiple Views(initial)'],q2time):\n",
    "    if x<1:\n",
    "        plt.text(x, y+200, qt, fontsize=12)\n",
    "    else:\n",
    "        plt.text(x, 4000, qt, fontsize=12)\n",
    "x=[1.6,1.9,2]\n",
    "for x,y,qt in zip(x,t_data['Multiple Views(last)'],q3time):\n",
    "    plt.text(x, y+500, qt, fontsize=12 )\n",
    "ax1.set_ylabel('time period (second)')\n",
    "ax2.set_ylabel('time period (second)')\n",
    "ax1.set_title('Time taken to make purchase decision', pad=50, fontsize=20)\n",
    "plt.show()"
   ]
  },
  {
   "cell_type": "code",
   "execution_count": null,
   "metadata": {},
   "outputs": [],
   "source": [
    "### week and hour"
   ]
  },
  {
   "cell_type": "code",
   "execution_count": 162,
   "metadata": {},
   "outputs": [],
   "source": [
    "purchase = df6[df6.purchase==1]"
   ]
  },
  {
   "cell_type": "code",
   "execution_count": 166,
   "metadata": {},
   "outputs": [
    {
     "name": "stderr",
     "output_type": "stream",
     "text": [
      "<ipython-input-166-e180e790c9b6>:1: SettingWithCopyWarning: \n",
      "A value is trying to be set on a copy of a slice from a DataFrame.\n",
      "Try using .loc[row_indexer,col_indexer] = value instead\n",
      "\n",
      "See the caveats in the documentation: https://pandas.pydata.org/pandas-docs/stable/user_guide/indexing.html#returning-a-view-versus-a-copy\n",
      "  purchase['datetime'] = pd.to_datetime(purchase['datetime'])\n"
     ]
    }
   ],
   "source": [
    "purchase['datetime'] = pd.to_datetime(purchase['datetime'])"
   ]
  },
  {
   "cell_type": "code",
   "execution_count": 170,
   "metadata": {},
   "outputs": [
    {
     "name": "stderr",
     "output_type": "stream",
     "text": [
      "<ipython-input-170-e79a4413ff45>:1: SettingWithCopyWarning: \n",
      "A value is trying to be set on a copy of a slice from a DataFrame.\n",
      "Try using .loc[row_indexer,col_indexer] = value instead\n",
      "\n",
      "See the caveats in the documentation: https://pandas.pydata.org/pandas-docs/stable/user_guide/indexing.html#returning-a-view-versus-a-copy\n",
      "  purchase['hour'] = purchase.datetime.dt.hour\n"
     ]
    }
   ],
   "source": [
    "purchase['hour'] = purchase.datetime.dt.hour"
   ]
  },
  {
   "cell_type": "code",
   "execution_count": 220,
   "metadata": {},
   "outputs": [
    {
     "data": {
      "image/png": "[encoded data removed]",
      "text/plain": [
       "<Figure size 432x288 with 1 Axes>"
      ]
     },
     "metadata": {
      "needs_background": "light"
     },
     "output_type": "display_data"
    }
   ],
   "source": [
    "import matplotlib.ticker as mtick\n",
    "#dayofweek = purchase[purchase.datetime.dt.date.astype('str')!='2015-07-03']\n",
    "plt.plot(purchase.groupby('hour')['purchase'].sum()/purchase.shape[0]*100)\n",
    "#plt.xticks(np.arange(7),['Monday', 'Tuesday', 'Wednesday', 'Thursday', 'Friday', 'Saturday', 'Sunday'], rotation=45)\n",
    "ax = plt.gca()\n",
    "ax.yaxis.set_major_formatter(mtick.PercentFormatter())\n",
    "plt.ylabel('Percentage of Purchase')\n",
    "plt.xlabel('Hour of The Day')\n",
    "plt.show()"
   ]
  },
  {
   "cell_type": "code",
   "execution_count": 167,
   "metadata": {},
   "outputs": [
    {
     "name": "stderr",
     "output_type": "stream",
     "text": [
      "<ipython-input-167-66407afb831c>:1: SettingWithCopyWarning: \n",
      "A value is trying to be set on a copy of a slice from a DataFrame.\n",
      "Try using .loc[row_indexer,col_indexer] = value instead\n",
      "\n",
      "See the caveats in the documentation: https://pandas.pydata.org/pandas-docs/stable/user_guide/indexing.html#returning-a-view-versus-a-copy\n",
      "  purchase['weekday'] = purchase.datetime.dt.weekday\n"
     ]
    }
   ],
   "source": [
    "purchase['weekday'] = purchase.datetime.dt.weekday"
   ]
  },
  {
   "cell_type": "code",
   "execution_count": null,
   "metadata": {},
   "outputs": [],
   "source": [
    "purchase.loc[purchase['weekday']==0, 'week_day'] = 'Monday'\n",
    "purchase.loc[purchase['weekday']==1, 'week_day'] = 'Tuesday'\n",
    "purchase.loc[purchase['weekday']==2, 'week_day'] = 'Wednesday'\n",
    "purchase.loc[purchase['weekday']==3, 'week_day'] = 'Thursday'\n",
    "purchase.loc[purchase['weekday']==4, 'week_day'] = 'Friday'\n",
    "purchase.loc[purchase['weekday']==5, 'week_day'] = 'Saturday'\n",
    "purchase.loc[purchase['weekday']==6, 'week_day'] = 'Sunday'"
   ]
  },
  {
   "cell_type": "code",
   "execution_count": 218,
   "metadata": {},
   "outputs": [
    {
     "data": {
      "image/png": "[encoded data removed]",
      "text/plain": [
       "<Figure size 432x288 with 1 Axes>"
      ]
     },
     "metadata": {
      "needs_background": "light"
     },
     "output_type": "display_data"
    }
   ],
   "source": [
    "import matplotlib.ticker as mtick\n",
    "dayofweek = purchase[purchase.datetime.dt.date.astype('str')!='2015-07-03']\n",
    "plt.plot(dayofweek.groupby('weekday')['purchase'].sum()/dayofweek.shape[0]*100)\n",
    "plt.xticks(np.arange(7),['Monday', 'Tuesday', 'Wednesday', 'Thursday', 'Friday', 'Saturday', 'Sunday'], rotation=45)\n",
    "ax = plt.gca()\n",
    "ax.yaxis.set_major_formatter(mtick.PercentFormatter())\n",
    "plt.ylabel('Percentage of Purchase')\n",
    "plt.xlabel('Day of The Week')\n",
    "plt.show()"
   ]
  }
 ],
 "metadata": {
  "kernelspec": {
   "display_name": "Python 3",
   "language": "python",
   "name": "python3"
  },
  "language_info": {
   "codemirror_mode": {
    "name": "ipython",
    "version": 3
   },
   "file_extension": ".py",
   "mimetype": "text/x-python",
   "name": "python",
   "nbconvert_exporter": "python",
   "pygments_lexer": "ipython3",
   "version": "3.8.5"
  }
 },
 "nbformat": 4,
 "nbformat_minor": 4
}
